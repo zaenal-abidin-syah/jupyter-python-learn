{
 "cells": [
  {
   "cell_type": "code",
   "execution_count": 1,
   "id": "794ad38b-e997-4726-8543-da1af2b7ab48",
   "metadata": {},
   "outputs": [],
   "source": [
    "# !pip install gensim"
   ]
  },
  {
   "cell_type": "code",
   "execution_count": 2,
   "id": "2a07c002-5fd9-432a-a16f-6c4eaff11b46",
   "metadata": {},
   "outputs": [],
   "source": [
    "import pandas as pd\n",
    "import gensim\n",
    "from gensim import corpora\n",
    "from gensim.models import LdaModel\n",
    "from nltk.corpus import stopwords\n",
    "from nltk.tokenize import word_tokenize\n",
    "from nltk.stem import WordNetLemmatizer\n",
    "import nltk"
   ]
  },
  {
   "cell_type": "code",
   "execution_count": 3,
   "id": "7d378d1d-cb68-4981-b0f7-4bb0500bf61b",
   "metadata": {},
   "outputs": [],
   "source": [
    "# nltk.download('punkt')\n",
    "# nltk.download('stopwords')\n",
    "# nltk.download('wordnet')"
   ]
  },
  {
   "cell_type": "code",
   "execution_count": 4,
   "id": "4b017c7b-6ffc-46f5-8395-4b5da1c44f90",
   "metadata": {},
   "outputs": [],
   "source": [
    "# 1. Dataset (contoh data dummy)\n",
    "documents = [\n",
    "    \"Machine learning models are a subset of artificial intelligence.\",\n",
    "    \"Natural language processing and computer vision are branches of AI.\",\n",
    "    \"Deep learning has transformed the field of AI.\",\n",
    "    \"Support vector machines and neural networks are popular algorithms.\",\n",
    "    \"Generative AI like ChatGPT and DALL-E is advancing rapidly.\"\n",
    "]"
   ]
  },
  {
   "cell_type": "code",
   "execution_count": 5,
   "id": "78045526-bac3-4247-a5e0-4f726a9e1cdd",
   "metadata": {},
   "outputs": [],
   "source": [
    "# 2. Preprocessing\n",
    "lemmatizer = WordNetLemmatizer()\n",
    "stop_words = set(stopwords.words('english'))\n",
    "\n",
    "def preprocess(doc):\n",
    "    tokens = word_tokenize(doc.lower())\n",
    "    tokens = [lemmatizer.lemmatize(word) for word in tokens if word.isalnum() and word not in stop_words]\n",
    "    return tokens\n",
    "\n",
    "processed_docs = [preprocess(doc) for doc in documents]\n"
   ]
  },
  {
   "cell_type": "code",
   "execution_count": 6,
   "id": "12de4606-2b93-4e86-980c-bbeee10497e3",
   "metadata": {},
   "outputs": [],
   "source": [
    "# 3. Dictionary and Corpus\n",
    "dictionary = corpora.Dictionary(processed_docs)\n",
    "corpus = [dictionary.doc2bow(doc) for doc in processed_docs]\n"
   ]
  },
  {
   "cell_type": "code",
   "execution_count": 7,
   "id": "f0d26ec0-6d8b-490f-b28b-4cd721e1927d",
   "metadata": {},
   "outputs": [],
   "source": [
    "# 4. Train LDA Model\n",
    "num_topics = 3  # Set number of topics\n",
    "lda_model = LdaModel(corpus=corpus, num_topics=num_topics, id2word=dictionary, passes=15)\n"
   ]
  },
  {
   "cell_type": "code",
   "execution_count": 8,
   "id": "426411fe-db74-40f8-9dca-a73be48965eb",
   "metadata": {},
   "outputs": [],
   "source": [
    "# 5. Extract Topic Proportions in Documents\n",
    "topic_proportions_docs = []\n",
    "for i, row in enumerate(lda_model[corpus]):\n",
    "    topic_proportions = {f\"Topic {topic_id}\": prop for topic_id, prop in row}\n",
    "    topic_proportions['Document'] = f\"Doc {i+1}\"\n",
    "    topic_proportions_docs.append(topic_proportions)\n",
    "\n",
    "df_topic_proportions = pd.DataFrame(topic_proportions_docs).fillna(0)"
   ]
  },
  {
   "cell_type": "code",
   "execution_count": 9,
   "id": "336cece8-88bd-4b03-bfab-83895780ac20",
   "metadata": {},
   "outputs": [
    {
     "name": "stdout",
     "output_type": "stream",
     "text": [
      "Proporsi Topik dalam Dokumen:\n",
      "    Topic 0   Topic 1   Topic 2 Document\n",
      "0  0.901470  0.048057  0.050473    Doc 1\n",
      "1  0.042490  0.915027  0.042483    Doc 2\n",
      "2  0.059659  0.058401  0.881940    Doc 3\n",
      "3  0.042807  0.042047  0.915146    Doc 4\n",
      "4  0.901269  0.049666  0.049066    Doc 5\n",
      "\n",
      "Proporsi Kata dalam Topik:\n",
      "      Topic          Word  Proportion\n",
      "0   Topic 0      learning    0.063589\n",
      "1   Topic 0          like    0.063474\n",
      "2   Topic 0    generative    0.063474\n",
      "3   Topic 0     advancing    0.063474\n",
      "4   Topic 0       chatgpt    0.063473\n",
      "5   Topic 0       rapidly    0.063473\n",
      "6   Topic 0    artificial    0.063457\n",
      "7   Topic 0        subset    0.063454\n",
      "8   Topic 0  intelligence    0.063452\n",
      "9   Topic 0         model    0.063451\n",
      "10  Topic 1            ai    0.084178\n",
      "11  Topic 1    processing    0.083171\n",
      "12  Topic 1      computer    0.083170\n",
      "13  Topic 1       natural    0.083170\n",
      "14  Topic 1      language    0.083170\n",
      "15  Topic 1        branch    0.083170\n",
      "16  Topic 1        vision    0.083170\n",
      "17  Topic 1      learning    0.020881\n",
      "18  Topic 1       machine    0.020863\n",
      "19  Topic 1         field    0.020848\n",
      "20  Topic 2       machine    0.063646\n",
      "21  Topic 2        neural    0.063496\n",
      "22  Topic 2       support    0.063496\n",
      "23  Topic 2        vector    0.063496\n",
      "24  Topic 2       popular    0.063496\n",
      "25  Topic 2     algorithm    0.063496\n",
      "26  Topic 2       network    0.063495\n",
      "27  Topic 2          deep    0.063472\n",
      "28  Topic 2   transformed    0.063471\n",
      "29  Topic 2         field    0.063471\n"
     ]
    }
   ],
   "source": [
    "\n",
    "\n",
    "\n",
    "\n",
    "\n",
    "\n",
    "\n",
    "\n",
    "\n",
    "\n",
    "# 6. Extract Word Proportions in Topics\n",
    "topic_word_proportions = []\n",
    "for topic_id in range(num_topics):\n",
    "    words = lda_model.show_topic(topic_id, topn=10)\n",
    "    for word, prop in words:\n",
    "        topic_word_proportions.append({\"Topic\": f\"Topic {topic_id}\", \"Word\": word, \"Proportion\": prop})\n",
    "\n",
    "df_word_proportions = pd.DataFrame(topic_word_proportions)\n",
    "\n",
    "# Display the results\n",
    "print(\"Proporsi Topik dalam Dokumen:\")\n",
    "print(df_topic_proportions)\n",
    "\n",
    "print(\"\\nProporsi Kata dalam Topik:\")\n",
    "print(df_word_proportions)\n"
   ]
  }
 ],
 "metadata": {
  "kernelspec": {
   "display_name": "Python 3 (ipykernel)",
   "language": "python",
   "name": "python3"
  },
  "language_info": {
   "codemirror_mode": {
    "name": "ipython",
    "version": 3
   },
   "file_extension": ".py",
   "mimetype": "text/x-python",
   "name": "python",
   "nbconvert_exporter": "python",
   "pygments_lexer": "ipython3",
   "version": "3.11.9"
  }
 },
 "nbformat": 4,
 "nbformat_minor": 5
}
