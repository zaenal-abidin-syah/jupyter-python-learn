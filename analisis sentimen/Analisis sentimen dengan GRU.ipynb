{
 "cells": [
  {
   "cell_type": "code",
   "execution_count": 63,
   "id": "4846c674-ddaa-43e9-9720-d4d41683cbfd",
   "metadata": {},
   "outputs": [
    {
     "name": "stdout",
     "output_type": "stream",
     "text": [
      "Requirement already satisfied: deep-translator in /home/zaens/miniconda3/envs/MachineLearning/lib/python3.12/site-packages (1.11.4)\n",
      "Requirement already satisfied: beautifulsoup4<5.0.0,>=4.9.1 in /home/zaens/miniconda3/envs/MachineLearning/lib/python3.12/site-packages (from deep-translator) (4.12.3)\n",
      "Requirement already satisfied: requests<3.0.0,>=2.23.0 in /home/zaens/miniconda3/envs/MachineLearning/lib/python3.12/site-packages (from deep-translator) (2.32.3)\n",
      "Requirement already satisfied: soupsieve>1.2 in /home/zaens/miniconda3/envs/MachineLearning/lib/python3.12/site-packages (from beautifulsoup4<5.0.0,>=4.9.1->deep-translator) (2.5)\n",
      "Requirement already satisfied: charset_normalizer<4,>=2 in /home/zaens/miniconda3/envs/MachineLearning/lib/python3.12/site-packages (from requests<3.0.0,>=2.23.0->deep-translator) (3.4.0)\n",
      "Requirement already satisfied: idna<4,>=2.5 in /home/zaens/miniconda3/envs/MachineLearning/lib/python3.12/site-packages (from requests<3.0.0,>=2.23.0->deep-translator) (2.10)\n",
      "Requirement already satisfied: urllib3<3,>=1.21.1 in /home/zaens/miniconda3/envs/MachineLearning/lib/python3.12/site-packages (from requests<3.0.0,>=2.23.0->deep-translator) (2.2.3)\n",
      "Requirement already satisfied: certifi>=2017.4.17 in /home/zaens/miniconda3/envs/MachineLearning/lib/python3.12/site-packages (from requests<3.0.0,>=2.23.0->deep-translator) (2024.8.30)\n",
      "Collecting vaderSentiment\n",
      "  Downloading vaderSentiment-3.3.2-py2.py3-none-any.whl.metadata (572 bytes)\n",
      "Requirement already satisfied: requests in /home/zaens/miniconda3/envs/MachineLearning/lib/python3.12/site-packages (from vaderSentiment) (2.32.3)\n",
      "Requirement already satisfied: charset_normalizer<4,>=2 in /home/zaens/miniconda3/envs/MachineLearning/lib/python3.12/site-packages (from requests->vaderSentiment) (3.4.0)\n",
      "Requirement already satisfied: idna<4,>=2.5 in /home/zaens/miniconda3/envs/MachineLearning/lib/python3.12/site-packages (from requests->vaderSentiment) (2.10)\n",
      "Requirement already satisfied: urllib3<3,>=1.21.1 in /home/zaens/miniconda3/envs/MachineLearning/lib/python3.12/site-packages (from requests->vaderSentiment) (2.2.3)\n",
      "Requirement already satisfied: certifi>=2017.4.17 in /home/zaens/miniconda3/envs/MachineLearning/lib/python3.12/site-packages (from requests->vaderSentiment) (2024.8.30)\n",
      "Downloading vaderSentiment-3.3.2-py2.py3-none-any.whl (125 kB)\n",
      "Installing collected packages: vaderSentiment\n",
      "Successfully installed vaderSentiment-3.3.2\n"
     ]
    }
   ],
   "source": [
    "!pip install -U deep-translator\n",
    "!pip install vaderSentiment"
   ]
  },
  {
   "cell_type": "code",
   "execution_count": 1,
   "id": "e1672068-4bfe-40f6-b731-836d505cdeb7",
   "metadata": {},
   "outputs": [],
   "source": [
    "import numpy as np \n",
    "import pandas as pd\n",
    "import matplotlib.pyplot as plt\n",
    "# from googletrans import Translator\n",
    "import re\n",
    "import nltk\n",
    "from torch.utils.data import Dataset, DataLoader\n",
    "from torch.nn.utils.rnn import pad_sequence\n",
    "from sklearn.model_selection import train_test_split\n",
    "from deep_translator import GoogleTranslator\n",
    "from nltk.tokenize import sent_tokenize"
   ]
  },
  {
   "cell_type": "code",
   "execution_count": 2,
   "id": "4f47512b-bd84-4d6f-b859-26fba92b6de5",
   "metadata": {},
   "outputs": [
    {
     "data": {
      "text/plain": [
       "device(type='cuda', index=0)"
      ]
     },
     "execution_count": 2,
     "metadata": {},
     "output_type": "execute_result"
    }
   ],
   "source": [
    "import torch\n",
    "from torch import nn, optim\n",
    "from jcopdl.callback import Callback, set_config\n",
    "\n",
    "device = torch.device(\"cuda:0\" if torch.cuda.is_available() else \"cpu\")\n",
    "device"
   ]
  },
  {
   "cell_type": "code",
   "execution_count": 133,
   "id": "27b1e762-a00d-4459-8531-26032eca3dff",
   "metadata": {},
   "outputs": [
    {
     "name": "stderr",
     "output_type": "stream",
     "text": [
      "[nltk_data] Downloading package punkt_tab to /home/zaens/nltk_data...\n",
      "[nltk_data]   Unzipping tokenizers/punkt_tab.zip.\n"
     ]
    },
    {
     "data": {
      "text/plain": [
       "True"
      ]
     },
     "execution_count": 133,
     "metadata": {},
     "output_type": "execute_result"
    }
   ],
   "source": [
    "# nltk.download('punkt_tab')"
   ]
  },
  {
   "cell_type": "code",
   "execution_count": 124,
   "id": "a81e352f-e1b5-4221-8469-a9aa2f02ddcc",
   "metadata": {},
   "outputs": [],
   "source": [
    "from vaderSentiment.vaderSentiment import SentimentIntensityAnalyzer"
   ]
  },
  {
   "cell_type": "markdown",
   "id": "af9c5d85-c59b-4ea7-82e1-74f4d981560e",
   "metadata": {},
   "source": [
    "# Import Data"
   ]
  },
  {
   "cell_type": "code",
   "execution_count": 127,
   "id": "a16b3c84-7646-4f56-ba65-86e58a56fad8",
   "metadata": {},
   "outputs": [
    {
     "data": {
      "text/html": [
       "<div>\n",
       "<style scoped>\n",
       "    .dataframe tbody tr th:only-of-type {\n",
       "        vertical-align: middle;\n",
       "    }\n",
       "\n",
       "    .dataframe tbody tr th {\n",
       "        vertical-align: top;\n",
       "    }\n",
       "\n",
       "    .dataframe thead th {\n",
       "        text-align: right;\n",
       "    }\n",
       "</style>\n",
       "<table border=\"1\" class=\"dataframe\">\n",
       "  <thead>\n",
       "    <tr style=\"text-align: right;\">\n",
       "      <th></th>\n",
       "      <th>author</th>\n",
       "      <th>published_at</th>\n",
       "      <th>comment</th>\n",
       "      <th>like</th>\n",
       "    </tr>\n",
       "  </thead>\n",
       "  <tbody>\n",
       "    <tr>\n",
       "      <th>0</th>\n",
       "      <td>@MaulanaMaulanamaulana-eo5fl</td>\n",
       "      <td>2024-09-20T04:15:25Z</td>\n",
       "      <td>Ikn di buka untuk umum ...indah nya kota ikn d...</td>\n",
       "      <td>0</td>\n",
       "    </tr>\n",
       "    <tr>\n",
       "      <th>1</th>\n",
       "      <td>@daryanto07</td>\n",
       "      <td>2024-08-01T00:45:05Z</td>\n",
       "      <td>Masuk akal nggak sih, mulai dibangun tahun 202...</td>\n",
       "      <td>0</td>\n",
       "    </tr>\n",
       "    <tr>\n",
       "      <th>2</th>\n",
       "      <td>@ArwanAhmad-z8g</td>\n",
       "      <td>2024-07-26T02:16:40Z</td>\n",
       "      <td>Ikn jalan terus hebat .semangat maju terus ind...</td>\n",
       "      <td>0</td>\n",
       "    </tr>\n",
       "    <tr>\n",
       "      <th>3</th>\n",
       "      <td>@harunindrapratama5497</td>\n",
       "      <td>2024-07-18T18:14:51Z</td>\n",
       "      <td>Orang bodoh penjilat</td>\n",
       "      <td>0</td>\n",
       "    </tr>\n",
       "    <tr>\n",
       "      <th>4</th>\n",
       "      <td>@istachondoni198</td>\n",
       "      <td>2024-07-18T10:27:29Z</td>\n",
       "      <td>setuju</td>\n",
       "      <td>0</td>\n",
       "    </tr>\n",
       "  </tbody>\n",
       "</table>\n",
       "</div>"
      ],
      "text/plain": [
       "                         author          published_at  \\\n",
       "0  @MaulanaMaulanamaulana-eo5fl  2024-09-20T04:15:25Z   \n",
       "1                   @daryanto07  2024-08-01T00:45:05Z   \n",
       "2               @ArwanAhmad-z8g  2024-07-26T02:16:40Z   \n",
       "3        @harunindrapratama5497  2024-07-18T18:14:51Z   \n",
       "4              @istachondoni198  2024-07-18T10:27:29Z   \n",
       "\n",
       "                                             comment  like  \n",
       "0  Ikn di buka untuk umum ...indah nya kota ikn d...     0  \n",
       "1  Masuk akal nggak sih, mulai dibangun tahun 202...     0  \n",
       "2  Ikn jalan terus hebat .semangat maju terus ind...     0  \n",
       "3                               Orang bodoh penjilat     0  \n",
       "4                                             setuju     0  "
      ]
     },
     "execution_count": 127,
     "metadata": {},
     "output_type": "execute_result"
    }
   ],
   "source": [
    "df = pd.read_csv(\"youtube_comments.csv\", index_col=\"Unnamed: 0\")\n",
    "df.head()"
   ]
  },
  {
   "cell_type": "markdown",
   "id": "ff85bd96-c7f0-405e-95d8-9d744345f9c9",
   "metadata": {},
   "source": [
    "# Translate"
   ]
  },
  {
   "cell_type": "code",
   "execution_count": 140,
   "id": "c19a6f10-f33e-4b7a-b8a1-31923195db04",
   "metadata": {},
   "outputs": [],
   "source": [
    "def translate_comment(comment):\n",
    "    if len(comment) < 5000:\n",
    "        return GoogleTranslator(source='auto', target='en').translate(comment)\n",
    "    else:\n",
    "        sentences = sent_tokenize(comment)\n",
    "        return \" \".join([GoogleTranslator(source='auto', target='en').translate(sentence) for sentence in sentences])"
   ]
  },
  {
   "cell_type": "code",
   "execution_count": 141,
   "id": "e3316514-89ec-4362-acfb-1c01508ab629",
   "metadata": {},
   "outputs": [],
   "source": [
    "df[\"en_comment\"] = df.comment.apply(translate_comment)"
   ]
  },
  {
   "cell_type": "code",
   "execution_count": 142,
   "id": "6015ebf8-03f5-4cd7-831b-0bba21a1a007",
   "metadata": {},
   "outputs": [],
   "source": [
    "# df.to_csv(\"en_comments.csv\")"
   ]
  },
  {
   "cell_type": "code",
   "execution_count": 143,
   "id": "162b491c-79fe-4afe-bc2d-2a0c088945cb",
   "metadata": {},
   "outputs": [
    {
     "data": {
      "text/html": [
       "<div>\n",
       "<style scoped>\n",
       "    .dataframe tbody tr th:only-of-type {\n",
       "        vertical-align: middle;\n",
       "    }\n",
       "\n",
       "    .dataframe tbody tr th {\n",
       "        vertical-align: top;\n",
       "    }\n",
       "\n",
       "    .dataframe thead th {\n",
       "        text-align: right;\n",
       "    }\n",
       "</style>\n",
       "<table border=\"1\" class=\"dataframe\">\n",
       "  <thead>\n",
       "    <tr style=\"text-align: right;\">\n",
       "      <th></th>\n",
       "      <th>Unnamed: 0</th>\n",
       "      <th>author</th>\n",
       "      <th>published_at</th>\n",
       "      <th>comment</th>\n",
       "      <th>like</th>\n",
       "      <th>en_comment</th>\n",
       "    </tr>\n",
       "  </thead>\n",
       "  <tbody>\n",
       "    <tr>\n",
       "      <th>0</th>\n",
       "      <td>0</td>\n",
       "      <td>@MaulanaMaulanamaulana-eo5fl</td>\n",
       "      <td>2024-09-20T04:15:25Z</td>\n",
       "      <td>Ikn di buka untuk umum ...indah nya kota ikn d...</td>\n",
       "      <td>0</td>\n",
       "      <td>Ikn is open to the public...the beauty of the ...</td>\n",
       "    </tr>\n",
       "    <tr>\n",
       "      <th>1</th>\n",
       "      <td>1</td>\n",
       "      <td>@daryanto07</td>\n",
       "      <td>2024-08-01T00:45:05Z</td>\n",
       "      <td>Masuk akal nggak sih, mulai dibangun tahun 202...</td>\n",
       "      <td>0</td>\n",
       "      <td>Does it make sense, starting construction in 2...</td>\n",
       "    </tr>\n",
       "    <tr>\n",
       "      <th>2</th>\n",
       "      <td>2</td>\n",
       "      <td>@ArwanAhmad-z8g</td>\n",
       "      <td>2024-07-26T02:16:40Z</td>\n",
       "      <td>Ikn jalan terus hebat .semangat maju terus ind...</td>\n",
       "      <td>0</td>\n",
       "      <td>Ikn keep going great. Keep up the spirit of pr...</td>\n",
       "    </tr>\n",
       "    <tr>\n",
       "      <th>3</th>\n",
       "      <td>3</td>\n",
       "      <td>@harunindrapratama5497</td>\n",
       "      <td>2024-07-18T18:14:51Z</td>\n",
       "      <td>Orang bodoh penjilat</td>\n",
       "      <td>0</td>\n",
       "      <td>A sycophantic fool</td>\n",
       "    </tr>\n",
       "    <tr>\n",
       "      <th>4</th>\n",
       "      <td>4</td>\n",
       "      <td>@istachondoni198</td>\n",
       "      <td>2024-07-18T10:27:29Z</td>\n",
       "      <td>setuju</td>\n",
       "      <td>0</td>\n",
       "      <td>agree</td>\n",
       "    </tr>\n",
       "  </tbody>\n",
       "</table>\n",
       "</div>"
      ],
      "text/plain": [
       "   Unnamed: 0                        author          published_at  \\\n",
       "0           0  @MaulanaMaulanamaulana-eo5fl  2024-09-20T04:15:25Z   \n",
       "1           1                   @daryanto07  2024-08-01T00:45:05Z   \n",
       "2           2               @ArwanAhmad-z8g  2024-07-26T02:16:40Z   \n",
       "3           3        @harunindrapratama5497  2024-07-18T18:14:51Z   \n",
       "4           4              @istachondoni198  2024-07-18T10:27:29Z   \n",
       "\n",
       "                                             comment  like  \\\n",
       "0  Ikn di buka untuk umum ...indah nya kota ikn d...     0   \n",
       "1  Masuk akal nggak sih, mulai dibangun tahun 202...     0   \n",
       "2  Ikn jalan terus hebat .semangat maju terus ind...     0   \n",
       "3                               Orang bodoh penjilat     0   \n",
       "4                                             setuju     0   \n",
       "\n",
       "                                          en_comment  \n",
       "0  Ikn is open to the public...the beauty of the ...  \n",
       "1  Does it make sense, starting construction in 2...  \n",
       "2  Ikn keep going great. Keep up the spirit of pr...  \n",
       "3                                 A sycophantic fool  \n",
       "4                                              agree  "
      ]
     },
     "execution_count": 143,
     "metadata": {},
     "output_type": "execute_result"
    }
   ],
   "source": [
    "df = pd.read_csv(\"en_comments.csv\")\n",
    "df.head()"
   ]
  },
  {
   "cell_type": "markdown",
   "id": "185c84c4-2aa9-4a06-9fb5-fa0fcf7d295e",
   "metadata": {},
   "source": [
    "# Preprocessing"
   ]
  },
  {
   "cell_type": "markdown",
   "id": "82cd08c8-6c85-42e0-abf0-7c090f2a1c08",
   "metadata": {},
   "source": [
    "## Drop Missing Value"
   ]
  },
  {
   "cell_type": "code",
   "execution_count": 144,
   "id": "0e75f81f-85b4-4d38-861b-317fb8f6fbd1",
   "metadata": {},
   "outputs": [
    {
     "data": {
      "text/plain": [
       "Unnamed: 0       0\n",
       "author           1\n",
       "published_at     0\n",
       "comment          0\n",
       "like             0\n",
       "en_comment      20\n",
       "dtype: int64"
      ]
     },
     "execution_count": 144,
     "metadata": {},
     "output_type": "execute_result"
    }
   ],
   "source": [
    "df.isnull().sum()"
   ]
  },
  {
   "cell_type": "code",
   "execution_count": 194,
   "id": "6aa423ed-3676-45a9-80ab-9ed17ec0454f",
   "metadata": {},
   "outputs": [],
   "source": [
    "df.dropna(inplace=True)"
   ]
  },
  {
   "cell_type": "code",
   "execution_count": 206,
   "id": "6ac52f29-d588-4944-9c55-bb4dccf5d9d3",
   "metadata": {},
   "outputs": [
    {
     "data": {
      "text/plain": [
       "author          0\n",
       "published_at    0\n",
       "comment         0\n",
       "like            0\n",
       "en_comment      0\n",
       "dtype: int64"
      ]
     },
     "execution_count": 206,
     "metadata": {},
     "output_type": "execute_result"
    }
   ],
   "source": [
    "df.isnull().sum()"
   ]
  },
  {
   "cell_type": "code",
   "execution_count": 147,
   "id": "ceb77c0e-2ce5-4605-8b54-9925c4ae4fbc",
   "metadata": {},
   "outputs": [
    {
     "data": {
      "text/html": [
       "<div>\n",
       "<style scoped>\n",
       "    .dataframe tbody tr th:only-of-type {\n",
       "        vertical-align: middle;\n",
       "    }\n",
       "\n",
       "    .dataframe tbody tr th {\n",
       "        vertical-align: top;\n",
       "    }\n",
       "\n",
       "    .dataframe thead th {\n",
       "        text-align: right;\n",
       "    }\n",
       "</style>\n",
       "<table border=\"1\" class=\"dataframe\">\n",
       "  <thead>\n",
       "    <tr style=\"text-align: right;\">\n",
       "      <th></th>\n",
       "      <th>Unnamed: 0</th>\n",
       "      <th>author</th>\n",
       "      <th>published_at</th>\n",
       "      <th>comment</th>\n",
       "      <th>like</th>\n",
       "      <th>en_comment</th>\n",
       "    </tr>\n",
       "  </thead>\n",
       "  <tbody>\n",
       "    <tr>\n",
       "      <th>0</th>\n",
       "      <td>0</td>\n",
       "      <td>@MaulanaMaulanamaulana-eo5fl</td>\n",
       "      <td>2024-09-20T04:15:25Z</td>\n",
       "      <td>Ikn di buka untuk umum ...indah nya kota ikn d...</td>\n",
       "      <td>0</td>\n",
       "      <td>Ikn is open to the public...the beauty of the ...</td>\n",
       "    </tr>\n",
       "    <tr>\n",
       "      <th>1</th>\n",
       "      <td>1</td>\n",
       "      <td>@daryanto07</td>\n",
       "      <td>2024-08-01T00:45:05Z</td>\n",
       "      <td>Masuk akal nggak sih, mulai dibangun tahun 202...</td>\n",
       "      <td>0</td>\n",
       "      <td>Does it make sense, starting construction in 2...</td>\n",
       "    </tr>\n",
       "    <tr>\n",
       "      <th>2</th>\n",
       "      <td>2</td>\n",
       "      <td>@ArwanAhmad-z8g</td>\n",
       "      <td>2024-07-26T02:16:40Z</td>\n",
       "      <td>Ikn jalan terus hebat .semangat maju terus ind...</td>\n",
       "      <td>0</td>\n",
       "      <td>Ikn keep going great. Keep up the spirit of pr...</td>\n",
       "    </tr>\n",
       "    <tr>\n",
       "      <th>3</th>\n",
       "      <td>3</td>\n",
       "      <td>@harunindrapratama5497</td>\n",
       "      <td>2024-07-18T18:14:51Z</td>\n",
       "      <td>Orang bodoh penjilat</td>\n",
       "      <td>0</td>\n",
       "      <td>A sycophantic fool</td>\n",
       "    </tr>\n",
       "    <tr>\n",
       "      <th>4</th>\n",
       "      <td>4</td>\n",
       "      <td>@istachondoni198</td>\n",
       "      <td>2024-07-18T10:27:29Z</td>\n",
       "      <td>setuju</td>\n",
       "      <td>0</td>\n",
       "      <td>agree</td>\n",
       "    </tr>\n",
       "  </tbody>\n",
       "</table>\n",
       "</div>"
      ],
      "text/plain": [
       "   Unnamed: 0                        author          published_at  \\\n",
       "0           0  @MaulanaMaulanamaulana-eo5fl  2024-09-20T04:15:25Z   \n",
       "1           1                   @daryanto07  2024-08-01T00:45:05Z   \n",
       "2           2               @ArwanAhmad-z8g  2024-07-26T02:16:40Z   \n",
       "3           3        @harunindrapratama5497  2024-07-18T18:14:51Z   \n",
       "4           4              @istachondoni198  2024-07-18T10:27:29Z   \n",
       "\n",
       "                                             comment  like  \\\n",
       "0  Ikn di buka untuk umum ...indah nya kota ikn d...     0   \n",
       "1  Masuk akal nggak sih, mulai dibangun tahun 202...     0   \n",
       "2  Ikn jalan terus hebat .semangat maju terus ind...     0   \n",
       "3                               Orang bodoh penjilat     0   \n",
       "4                                             setuju     0   \n",
       "\n",
       "                                          en_comment  \n",
       "0  Ikn is open to the public...the beauty of the ...  \n",
       "1  Does it make sense, starting construction in 2...  \n",
       "2  Ikn keep going great. Keep up the spirit of pr...  \n",
       "3                                 A sycophantic fool  \n",
       "4                                              agree  "
      ]
     },
     "execution_count": 147,
     "metadata": {},
     "output_type": "execute_result"
    }
   ],
   "source": [
    "df.head()"
   ]
  },
  {
   "cell_type": "markdown",
   "id": "b2deeb86-6e50-42f8-bb82-92a7848b925f",
   "metadata": {},
   "source": []
  },
  {
   "cell_type": "markdown",
   "id": "ece049d0-f9b0-4831-bb39-5f824923e831",
   "metadata": {},
   "source": [
    "## Cleaning"
   ]
  },
  {
   "cell_type": "code",
   "execution_count": 148,
   "id": "bff15ac0-13ac-4f9b-b399-a019daf5e24a",
   "metadata": {},
   "outputs": [],
   "source": [
    "def clean_text(text):\n",
    "    text = re.sub(r'[^a-zA-Z\\s]', '', text)  # Remove non-alphanumeric characters\n",
    "    text = text.lower()  # Convert to lowercase\n",
    "    text = re.sub(r'\\s+', ' ', text).strip()  # Remove extra spaces\n",
    "    emoji_pattern = re.compile(\"[\"\n",
    "        u\"\\U0001F600-\\U0001F64F\"  # emoticons\n",
    "        u\"\\U0001F300-\\U0001F5FF\"  # symbols & pictographs\n",
    "        u\"\\U0001F680-\\U0001F6FF\"  # transport & map symbols\n",
    "        u\"\\U0001F1E0-\\U0001F1FF\"  # flags (iOS)\n",
    "                           \"]+\", flags=re.UNICODE)\n",
    "    text = emoji_pattern.sub(r'', text)\n",
    "    return text"
   ]
  },
  {
   "cell_type": "code",
   "execution_count": 149,
   "id": "8d017807-1fd9-4a85-b938-223731b757eb",
   "metadata": {},
   "outputs": [],
   "source": [
    "df.en_comment = df.en_comment.apply(clean_text)\n",
    "df.comment = df.comment.apply(clean_text)"
   ]
  },
  {
   "cell_type": "code",
   "execution_count": 150,
   "id": "3657a9b1-742f-46a2-a5e5-fb7eedf24d5f",
   "metadata": {},
   "outputs": [
    {
     "data": {
      "text/html": [
       "<div>\n",
       "<style scoped>\n",
       "    .dataframe tbody tr th:only-of-type {\n",
       "        vertical-align: middle;\n",
       "    }\n",
       "\n",
       "    .dataframe tbody tr th {\n",
       "        vertical-align: top;\n",
       "    }\n",
       "\n",
       "    .dataframe thead th {\n",
       "        text-align: right;\n",
       "    }\n",
       "</style>\n",
       "<table border=\"1\" class=\"dataframe\">\n",
       "  <thead>\n",
       "    <tr style=\"text-align: right;\">\n",
       "      <th></th>\n",
       "      <th>Unnamed: 0</th>\n",
       "      <th>author</th>\n",
       "      <th>published_at</th>\n",
       "      <th>comment</th>\n",
       "      <th>like</th>\n",
       "      <th>en_comment</th>\n",
       "    </tr>\n",
       "  </thead>\n",
       "  <tbody>\n",
       "    <tr>\n",
       "      <th>0</th>\n",
       "      <td>0</td>\n",
       "      <td>@MaulanaMaulanamaulana-eo5fl</td>\n",
       "      <td>2024-09-20T04:15:25Z</td>\n",
       "      <td>ikn di buka untuk umum indah nya kota ikn di t...</td>\n",
       "      <td>0</td>\n",
       "      <td>ikn is open to the publicthe beauty of the ikn...</td>\n",
       "    </tr>\n",
       "    <tr>\n",
       "      <th>1</th>\n",
       "      <td>1</td>\n",
       "      <td>@daryanto07</td>\n",
       "      <td>2024-08-01T00:45:05Z</td>\n",
       "      <td>masuk akal nggak sih mulai dibangun tahun punc...</td>\n",
       "      <td>0</td>\n",
       "      <td>does it make sense starting construction in pe...</td>\n",
       "    </tr>\n",
       "    <tr>\n",
       "      <th>2</th>\n",
       "      <td>2</td>\n",
       "      <td>@ArwanAhmad-z8g</td>\n",
       "      <td>2024-07-26T02:16:40Z</td>\n",
       "      <td>ikn jalan terus hebat semangat maju terus indo...</td>\n",
       "      <td>0</td>\n",
       "      <td>ikn keep going great keep up the spirit of pro...</td>\n",
       "    </tr>\n",
       "    <tr>\n",
       "      <th>3</th>\n",
       "      <td>3</td>\n",
       "      <td>@harunindrapratama5497</td>\n",
       "      <td>2024-07-18T18:14:51Z</td>\n",
       "      <td>orang bodoh penjilat</td>\n",
       "      <td>0</td>\n",
       "      <td>a sycophantic fool</td>\n",
       "    </tr>\n",
       "    <tr>\n",
       "      <th>4</th>\n",
       "      <td>4</td>\n",
       "      <td>@istachondoni198</td>\n",
       "      <td>2024-07-18T10:27:29Z</td>\n",
       "      <td>setuju</td>\n",
       "      <td>0</td>\n",
       "      <td>agree</td>\n",
       "    </tr>\n",
       "  </tbody>\n",
       "</table>\n",
       "</div>"
      ],
      "text/plain": [
       "   Unnamed: 0                        author          published_at  \\\n",
       "0           0  @MaulanaMaulanamaulana-eo5fl  2024-09-20T04:15:25Z   \n",
       "1           1                   @daryanto07  2024-08-01T00:45:05Z   \n",
       "2           2               @ArwanAhmad-z8g  2024-07-26T02:16:40Z   \n",
       "3           3        @harunindrapratama5497  2024-07-18T18:14:51Z   \n",
       "4           4              @istachondoni198  2024-07-18T10:27:29Z   \n",
       "\n",
       "                                             comment  like  \\\n",
       "0  ikn di buka untuk umum indah nya kota ikn di t...     0   \n",
       "1  masuk akal nggak sih mulai dibangun tahun punc...     0   \n",
       "2  ikn jalan terus hebat semangat maju terus indo...     0   \n",
       "3                               orang bodoh penjilat     0   \n",
       "4                                             setuju     0   \n",
       "\n",
       "                                          en_comment  \n",
       "0  ikn is open to the publicthe beauty of the ikn...  \n",
       "1  does it make sense starting construction in pe...  \n",
       "2  ikn keep going great keep up the spirit of pro...  \n",
       "3                                 a sycophantic fool  \n",
       "4                                              agree  "
      ]
     },
     "execution_count": 150,
     "metadata": {},
     "output_type": "execute_result"
    }
   ],
   "source": [
    "df.head()"
   ]
  },
  {
   "cell_type": "code",
   "execution_count": 202,
   "id": "065f09c2-6ae8-42d1-b0bb-7bb622647695",
   "metadata": {},
   "outputs": [],
   "source": [
    "# df.to_csv(\"clean_comments.csv\", index=False)"
   ]
  },
  {
   "cell_type": "code",
   "execution_count": 203,
   "id": "51253240-65f8-4113-a3d7-24f409e82625",
   "metadata": {},
   "outputs": [
    {
     "data": {
      "text/html": [
       "<div>\n",
       "<style scoped>\n",
       "    .dataframe tbody tr th:only-of-type {\n",
       "        vertical-align: middle;\n",
       "    }\n",
       "\n",
       "    .dataframe tbody tr th {\n",
       "        vertical-align: top;\n",
       "    }\n",
       "\n",
       "    .dataframe thead th {\n",
       "        text-align: right;\n",
       "    }\n",
       "</style>\n",
       "<table border=\"1\" class=\"dataframe\">\n",
       "  <thead>\n",
       "    <tr style=\"text-align: right;\">\n",
       "      <th></th>\n",
       "      <th>author</th>\n",
       "      <th>published_at</th>\n",
       "      <th>comment</th>\n",
       "      <th>like</th>\n",
       "      <th>en_comment</th>\n",
       "    </tr>\n",
       "  </thead>\n",
       "  <tbody>\n",
       "    <tr>\n",
       "      <th>0</th>\n",
       "      <td>@MaulanaMaulanamaulana-eo5fl</td>\n",
       "      <td>2024-09-20T04:15:25Z</td>\n",
       "      <td>ikn di buka untuk umum indah nya kota ikn di t...</td>\n",
       "      <td>0</td>\n",
       "      <td>ikn is open to the publicthe beauty of the ikn...</td>\n",
       "    </tr>\n",
       "    <tr>\n",
       "      <th>1</th>\n",
       "      <td>@daryanto07</td>\n",
       "      <td>2024-08-01T00:45:05Z</td>\n",
       "      <td>masuk akal nggak sih mulai dibangun tahun punc...</td>\n",
       "      <td>0</td>\n",
       "      <td>does it make sense starting construction in pe...</td>\n",
       "    </tr>\n",
       "    <tr>\n",
       "      <th>2</th>\n",
       "      <td>@ArwanAhmad-z8g</td>\n",
       "      <td>2024-07-26T02:16:40Z</td>\n",
       "      <td>ikn jalan terus hebat semangat maju terus indo...</td>\n",
       "      <td>0</td>\n",
       "      <td>ikn keep going great keep up the spirit of pro...</td>\n",
       "    </tr>\n",
       "    <tr>\n",
       "      <th>3</th>\n",
       "      <td>@harunindrapratama5497</td>\n",
       "      <td>2024-07-18T18:14:51Z</td>\n",
       "      <td>orang bodoh penjilat</td>\n",
       "      <td>0</td>\n",
       "      <td>a sycophantic fool</td>\n",
       "    </tr>\n",
       "    <tr>\n",
       "      <th>4</th>\n",
       "      <td>@istachondoni198</td>\n",
       "      <td>2024-07-18T10:27:29Z</td>\n",
       "      <td>setuju</td>\n",
       "      <td>0</td>\n",
       "      <td>agree</td>\n",
       "    </tr>\n",
       "  </tbody>\n",
       "</table>\n",
       "</div>"
      ],
      "text/plain": [
       "                         author          published_at  \\\n",
       "0  @MaulanaMaulanamaulana-eo5fl  2024-09-20T04:15:25Z   \n",
       "1                   @daryanto07  2024-08-01T00:45:05Z   \n",
       "2               @ArwanAhmad-z8g  2024-07-26T02:16:40Z   \n",
       "3        @harunindrapratama5497  2024-07-18T18:14:51Z   \n",
       "4              @istachondoni198  2024-07-18T10:27:29Z   \n",
       "\n",
       "                                             comment  like  \\\n",
       "0  ikn di buka untuk umum indah nya kota ikn di t...     0   \n",
       "1  masuk akal nggak sih mulai dibangun tahun punc...     0   \n",
       "2  ikn jalan terus hebat semangat maju terus indo...     0   \n",
       "3                               orang bodoh penjilat     0   \n",
       "4                                             setuju     0   \n",
       "\n",
       "                                          en_comment  \n",
       "0  ikn is open to the publicthe beauty of the ikn...  \n",
       "1  does it make sense starting construction in pe...  \n",
       "2  ikn keep going great keep up the spirit of pro...  \n",
       "3                                 a sycophantic fool  \n",
       "4                                              agree  "
      ]
     },
     "execution_count": 203,
     "metadata": {},
     "output_type": "execute_result"
    }
   ],
   "source": [
    "df = pd.read_csv(\"clean_comments.csv\")\n",
    "df.head()"
   ]
  },
  {
   "cell_type": "markdown",
   "id": "117dfbf1-0ffb-44e3-8020-5146dbf64674",
   "metadata": {},
   "source": [
    "## Labelling "
   ]
  },
  {
   "cell_type": "code",
   "execution_count": 188,
   "id": "d04ded9c-b81d-4a97-afd5-38e421cf0a01",
   "metadata": {},
   "outputs": [
    {
     "name": "stdout",
     "output_type": "stream",
     "text": [
      "{'neg': 0.0, 'neu': 1.0, 'pos': 0.0, 'compound': 0.0}\n",
      "positif\n",
      "{'neg': 0.592, 'neu': 0.408, 'pos': 0.0, 'compound': -0.4404}\n",
      "negatif\n"
     ]
    }
   ],
   "source": [
    "\n",
    "sentiment = SentimentIntensityAnalyzer()\n",
    "# text = \"dhierp thousand padang food where is the nutrition if you are full you can the one who said it is not nutritious is a national nutritionist in a big city rp thousand how can you get nutritious food boss social assistance oh social assistance\"\n",
    "text = \"a sycophantic aggre\"\n",
    "print(labeling(text))\n",
    "text = \"a sycophantic fool\"\n",
    "print(labeling(text))\n",
    "# x = sentiment.polarity_scores(text)\n",
    "# x\n",
    "# labeling(text)\n",
    "# print(x)\n",
    "# if x[\"pos\"] > x[\"neg\"]:\n",
    "#     print(\"NEGATIF\")\n",
    "# else:\n",
    "#     print(\"POSITIF\")"
   ]
  },
  {
   "cell_type": "code",
   "execution_count": 204,
   "id": "26128dff-77cd-4aff-a5df-bc615d767739",
   "metadata": {},
   "outputs": [],
   "source": [
    "def labeling(comment):\n",
    "    sentiment = SentimentIntensityAnalyzer()\n",
    "    x = sentiment.polarity_scores(comment)\n",
    "    # print(x)\n",
    "    if x[\"compound\"] >= 0:\n",
    "        return \"positif\"\n",
    "    else:\n",
    "        return \"negatif\"\n",
    "    # return \"positif\" if x[\"compound\"] >= 0 else \"negatif\""
   ]
  },
  {
   "cell_type": "code",
   "execution_count": 207,
   "id": "58d53a2f-0dde-4619-ba67-b5c540a2fac8",
   "metadata": {},
   "outputs": [],
   "source": [
    "df[\"label\"] = df[\"en_comment\"].apply(labeling)"
   ]
  },
  {
   "cell_type": "code",
   "execution_count": 208,
   "id": "6e07295e-f241-4030-9a48-7eacea98dcb5",
   "metadata": {},
   "outputs": [
    {
     "data": {
      "text/html": [
       "<div>\n",
       "<style scoped>\n",
       "    .dataframe tbody tr th:only-of-type {\n",
       "        vertical-align: middle;\n",
       "    }\n",
       "\n",
       "    .dataframe tbody tr th {\n",
       "        vertical-align: top;\n",
       "    }\n",
       "\n",
       "    .dataframe thead th {\n",
       "        text-align: right;\n",
       "    }\n",
       "</style>\n",
       "<table border=\"1\" class=\"dataframe\">\n",
       "  <thead>\n",
       "    <tr style=\"text-align: right;\">\n",
       "      <th></th>\n",
       "      <th>author</th>\n",
       "      <th>published_at</th>\n",
       "      <th>comment</th>\n",
       "      <th>like</th>\n",
       "      <th>en_comment</th>\n",
       "      <th>label</th>\n",
       "    </tr>\n",
       "  </thead>\n",
       "  <tbody>\n",
       "    <tr>\n",
       "      <th>0</th>\n",
       "      <td>@MaulanaMaulanamaulana-eo5fl</td>\n",
       "      <td>2024-09-20T04:15:25Z</td>\n",
       "      <td>ikn di buka untuk umum indah nya kota ikn di t...</td>\n",
       "      <td>0</td>\n",
       "      <td>ikn is open to the publicthe beauty of the ikn...</td>\n",
       "      <td>positif</td>\n",
       "    </tr>\n",
       "    <tr>\n",
       "      <th>1</th>\n",
       "      <td>@daryanto07</td>\n",
       "      <td>2024-08-01T00:45:05Z</td>\n",
       "      <td>masuk akal nggak sih mulai dibangun tahun punc...</td>\n",
       "      <td>0</td>\n",
       "      <td>does it make sense starting construction in pe...</td>\n",
       "      <td>positif</td>\n",
       "    </tr>\n",
       "    <tr>\n",
       "      <th>2</th>\n",
       "      <td>@ArwanAhmad-z8g</td>\n",
       "      <td>2024-07-26T02:16:40Z</td>\n",
       "      <td>ikn jalan terus hebat semangat maju terus indo...</td>\n",
       "      <td>0</td>\n",
       "      <td>ikn keep going great keep up the spirit of pro...</td>\n",
       "      <td>positif</td>\n",
       "    </tr>\n",
       "    <tr>\n",
       "      <th>3</th>\n",
       "      <td>@harunindrapratama5497</td>\n",
       "      <td>2024-07-18T18:14:51Z</td>\n",
       "      <td>orang bodoh penjilat</td>\n",
       "      <td>0</td>\n",
       "      <td>a sycophantic fool</td>\n",
       "      <td>negatif</td>\n",
       "    </tr>\n",
       "    <tr>\n",
       "      <th>4</th>\n",
       "      <td>@istachondoni198</td>\n",
       "      <td>2024-07-18T10:27:29Z</td>\n",
       "      <td>setuju</td>\n",
       "      <td>0</td>\n",
       "      <td>agree</td>\n",
       "      <td>positif</td>\n",
       "    </tr>\n",
       "  </tbody>\n",
       "</table>\n",
       "</div>"
      ],
      "text/plain": [
       "                         author          published_at  \\\n",
       "0  @MaulanaMaulanamaulana-eo5fl  2024-09-20T04:15:25Z   \n",
       "1                   @daryanto07  2024-08-01T00:45:05Z   \n",
       "2               @ArwanAhmad-z8g  2024-07-26T02:16:40Z   \n",
       "3        @harunindrapratama5497  2024-07-18T18:14:51Z   \n",
       "4              @istachondoni198  2024-07-18T10:27:29Z   \n",
       "\n",
       "                                             comment  like  \\\n",
       "0  ikn di buka untuk umum indah nya kota ikn di t...     0   \n",
       "1  masuk akal nggak sih mulai dibangun tahun punc...     0   \n",
       "2  ikn jalan terus hebat semangat maju terus indo...     0   \n",
       "3                               orang bodoh penjilat     0   \n",
       "4                                             setuju     0   \n",
       "\n",
       "                                          en_comment    label  \n",
       "0  ikn is open to the publicthe beauty of the ikn...  positif  \n",
       "1  does it make sense starting construction in pe...  positif  \n",
       "2  ikn keep going great keep up the spirit of pro...  positif  \n",
       "3                                 a sycophantic fool  negatif  \n",
       "4                                              agree  positif  "
      ]
     },
     "execution_count": 208,
     "metadata": {},
     "output_type": "execute_result"
    }
   ],
   "source": [
    "df.head()"
   ]
  },
  {
   "cell_type": "code",
   "execution_count": 209,
   "id": "85c22ee4-38e2-46de-ad66-25e19c419036",
   "metadata": {},
   "outputs": [
    {
     "data": {
      "text/plain": [
       "label\n",
       "positif    2280\n",
       "negatif     792\n",
       "Name: count, dtype: int64"
      ]
     },
     "execution_count": 209,
     "metadata": {},
     "output_type": "execute_result"
    }
   ],
   "source": [
    "df.label.value_counts()"
   ]
  },
  {
   "cell_type": "code",
   "execution_count": 210,
   "id": "f81a023b-c9d2-4e80-bdb7-046a8f9d4064",
   "metadata": {},
   "outputs": [],
   "source": [
    "# df.to_csv(\"label_comment.csv\")"
   ]
  },
  {
   "cell_type": "code",
   "execution_count": 4,
   "id": "760b5b92-674a-4690-b359-0675bab1f4fa",
   "metadata": {},
   "outputs": [
    {
     "data": {
      "text/html": [
       "<div>\n",
       "<style scoped>\n",
       "    .dataframe tbody tr th:only-of-type {\n",
       "        vertical-align: middle;\n",
       "    }\n",
       "\n",
       "    .dataframe tbody tr th {\n",
       "        vertical-align: top;\n",
       "    }\n",
       "\n",
       "    .dataframe thead th {\n",
       "        text-align: right;\n",
       "    }\n",
       "</style>\n",
       "<table border=\"1\" class=\"dataframe\">\n",
       "  <thead>\n",
       "    <tr style=\"text-align: right;\">\n",
       "      <th></th>\n",
       "      <th>author</th>\n",
       "      <th>published_at</th>\n",
       "      <th>comment</th>\n",
       "      <th>like</th>\n",
       "      <th>en_comment</th>\n",
       "      <th>label</th>\n",
       "    </tr>\n",
       "  </thead>\n",
       "  <tbody>\n",
       "    <tr>\n",
       "      <th>0</th>\n",
       "      <td>@MaulanaMaulanamaulana-eo5fl</td>\n",
       "      <td>2024-09-20T04:15:25Z</td>\n",
       "      <td>ikn di buka untuk umum indah nya kota ikn di t...</td>\n",
       "      <td>0</td>\n",
       "      <td>ikn is open to the publicthe beauty of the ikn...</td>\n",
       "      <td>positif</td>\n",
       "    </tr>\n",
       "    <tr>\n",
       "      <th>1</th>\n",
       "      <td>@daryanto07</td>\n",
       "      <td>2024-08-01T00:45:05Z</td>\n",
       "      <td>masuk akal nggak sih mulai dibangun tahun punc...</td>\n",
       "      <td>0</td>\n",
       "      <td>does it make sense starting construction in pe...</td>\n",
       "      <td>positif</td>\n",
       "    </tr>\n",
       "    <tr>\n",
       "      <th>2</th>\n",
       "      <td>@ArwanAhmad-z8g</td>\n",
       "      <td>2024-07-26T02:16:40Z</td>\n",
       "      <td>ikn jalan terus hebat semangat maju terus indo...</td>\n",
       "      <td>0</td>\n",
       "      <td>ikn keep going great keep up the spirit of pro...</td>\n",
       "      <td>positif</td>\n",
       "    </tr>\n",
       "    <tr>\n",
       "      <th>3</th>\n",
       "      <td>@harunindrapratama5497</td>\n",
       "      <td>2024-07-18T18:14:51Z</td>\n",
       "      <td>orang bodoh penjilat</td>\n",
       "      <td>0</td>\n",
       "      <td>a sycophantic fool</td>\n",
       "      <td>negatif</td>\n",
       "    </tr>\n",
       "    <tr>\n",
       "      <th>4</th>\n",
       "      <td>@istachondoni198</td>\n",
       "      <td>2024-07-18T10:27:29Z</td>\n",
       "      <td>setuju</td>\n",
       "      <td>0</td>\n",
       "      <td>agree</td>\n",
       "      <td>positif</td>\n",
       "    </tr>\n",
       "  </tbody>\n",
       "</table>\n",
       "</div>"
      ],
      "text/plain": [
       "                         author          published_at  \\\n",
       "0  @MaulanaMaulanamaulana-eo5fl  2024-09-20T04:15:25Z   \n",
       "1                   @daryanto07  2024-08-01T00:45:05Z   \n",
       "2               @ArwanAhmad-z8g  2024-07-26T02:16:40Z   \n",
       "3        @harunindrapratama5497  2024-07-18T18:14:51Z   \n",
       "4              @istachondoni198  2024-07-18T10:27:29Z   \n",
       "\n",
       "                                             comment  like  \\\n",
       "0  ikn di buka untuk umum indah nya kota ikn di t...     0   \n",
       "1  masuk akal nggak sih mulai dibangun tahun punc...     0   \n",
       "2  ikn jalan terus hebat semangat maju terus indo...     0   \n",
       "3                               orang bodoh penjilat     0   \n",
       "4                                             setuju     0   \n",
       "\n",
       "                                          en_comment    label  \n",
       "0  ikn is open to the publicthe beauty of the ikn...  positif  \n",
       "1  does it make sense starting construction in pe...  positif  \n",
       "2  ikn keep going great keep up the spirit of pro...  positif  \n",
       "3                                 a sycophantic fool  negatif  \n",
       "4                                              agree  positif  "
      ]
     },
     "execution_count": 4,
     "metadata": {},
     "output_type": "execute_result"
    }
   ],
   "source": [
    "df = pd.read_csv(\"label_comment.csv\", index_col=\"Unnamed: 0\")\n",
    "df.head()"
   ]
  },
  {
   "cell_type": "markdown",
   "id": "9a966383-a615-4e3f-95db-5dc6cc0a9d1c",
   "metadata": {},
   "source": [
    "## Tokenizer"
   ]
  },
  {
   "cell_type": "code",
   "execution_count": null,
   "id": "2d52acd6-9977-469e-a75d-e6b8dc1e3b0e",
   "metadata": {},
   "outputs": [],
   "source": []
  },
  {
   "cell_type": "markdown",
   "id": "73533c52-597f-4512-97cf-5dae3ca9eb2e",
   "metadata": {},
   "source": [
    "# Dataset Splitting"
   ]
  },
  {
   "cell_type": "code",
   "execution_count": null,
   "id": "ebf9f4b9-c050-4a27-baa2-da468bd43a31",
   "metadata": {},
   "outputs": [],
   "source": [
    "\n",
    "train, test = train_test_split(df, test_size=0.2, stratify=,shuffle=False)\n",
    "train.shape, test.shape"
   ]
  },
  {
   "cell_type": "code",
   "execution_count": null,
   "id": "40a9bdd1-a09b-4a1d-9bf4-eb82db11ce19",
   "metadata": {},
   "outputs": [],
   "source": []
  },
  {
   "cell_type": "code",
   "execution_count": null,
   "id": "65d8070a-1b00-438f-b78d-e330b2cb1d67",
   "metadata": {},
   "outputs": [],
   "source": []
  },
  {
   "cell_type": "markdown",
   "id": "2f5a4c4e-0123-4880-9783-2a405b5ce7b0",
   "metadata": {},
   "source": [
    "# Dataset & Dataloader"
   ]
  },
  {
   "cell_type": "code",
   "execution_count": null,
   "id": "dfe9a021-d45e-449a-a8dd-bfb8b343ac02",
   "metadata": {},
   "outputs": [],
   "source": [
    "from torch.utils.data import DataLoader\n",
    "from jcopdl.utils.dataloader import TimeSeriesDataset"
   ]
  },
  {
   "cell_type": "code",
   "execution_count": null,
   "id": "f7ca2179-6f1a-4936-b8f2-5a07a8b0273a",
   "metadata": {},
   "outputs": [],
   "source": [
    "bs = 32\n",
    "seq_len = 14\n",
    "train_set = TimeSeriesDataset(ts_train, \"Temp\", seq_len=seq_len)\n",
    "trainloader = DataLoader(train_set, batch_size=bs)\n",
    "\n",
    "\n",
    "test_set = TimeSeriesDataset(ts_test, \"Temp\", seq_len=seq_len)\n",
    "testloader = DataLoader(test_set, batch_size=bs)"
   ]
  },
  {
   "cell_type": "code",
   "execution_count": null,
   "id": "561f9a93-fe00-48ac-9f46-d66ef10890cd",
   "metadata": {},
   "outputs": [],
   "source": []
  },
  {
   "cell_type": "code",
   "execution_count": null,
   "id": "9fdcbe35-e1ae-4cb1-a361-a8715d5a2c94",
   "metadata": {},
   "outputs": [],
   "source": []
  },
  {
   "cell_type": "markdown",
   "id": "1fd3e021-382d-405d-befb-25e8fd0ec4c1",
   "metadata": {},
   "source": [
    "# Arsitekstur & Config"
   ]
  },
  {
   "cell_type": "code",
   "execution_count": null,
   "id": "9223be70-51e1-4779-aca6-f8182d17dbfb",
   "metadata": {},
   "outputs": [],
   "source": [
    "from jcopdl.layers import linear_block"
   ]
  },
  {
   "cell_type": "code",
   "execution_count": null,
   "id": "ea7d09d9-6b16-41cf-be19-2e2896723b11",
   "metadata": {},
   "outputs": [],
   "source": [
    "class GRU(nn.Module):\n",
    "    def __init__(self, input_size, output_size, hidden_size, num_layers, dropout):\n",
    "        super().__init__()\n",
    "        self.rnn = nn.GRU(input_size, hidden_size, num_layers, dropout=dropout, batch_first=True)\n",
    "        self.fc = nn.Linear(hidden_size, output_size)\n",
    "    def forward(self, x, hidden):\n",
    "        x, hidden = self.rnn(x, hidden)\n",
    "        x = self.fc(x)\n",
    "        return x, hidden\n"
   ]
  },
  {
   "cell_type": "code",
   "execution_count": null,
   "id": "6592014a-f4c7-42c0-9aef-bf0ef3ca42e5",
   "metadata": {},
   "outputs": [],
   "source": [
    "config = set_config({\n",
    "    \"input_size\" : train_set.n_feature,\n",
    "    \"output_size\" : 1,\n",
    "    \"hidden_size\" : 64,\n",
    "    \"num_layers\" : 3,\n",
    "    \"dropout\" : 0,\n",
    "    \"seq_len\" : train_set.n_seq,\n",
    "})"
   ]
  },
  {
   "cell_type": "code",
   "execution_count": null,
   "id": "1c07e04a-0982-4e33-9d9a-f309768d0966",
   "metadata": {},
   "outputs": [],
   "source": []
  },
  {
   "cell_type": "code",
   "execution_count": null,
   "id": "22de62a9-8906-4295-a05c-667afb00b046",
   "metadata": {},
   "outputs": [],
   "source": []
  },
  {
   "cell_type": "markdown",
   "id": "6049d314-5788-45ce-9bde-82770f98e7ed",
   "metadata": {},
   "source": [
    "# Training Preparation"
   ]
  },
  {
   "cell_type": "code",
   "execution_count": null,
   "id": "14f1267c-808f-47fe-b8de-d88220db7de5",
   "metadata": {},
   "outputs": [],
   "source": [
    "model = GRU(config.input_size, config.output_size, config.hidden_size, config.num_layers, config.dropout).to(device)\n",
    "criterion = nn.MSELoss(reduction=\"mean\")\n",
    "optimizer = optim.AdamW(model.parameters(), lr=0.001)\n",
    "callback = Callback(model, config=config, outdir=\"model/lstm\")"
   ]
  },
  {
   "cell_type": "code",
   "execution_count": null,
   "id": "b0f75304-6561-4e1a-b48c-9a0db9a574b2",
   "metadata": {},
   "outputs": [],
   "source": []
  },
  {
   "cell_type": "markdown",
   "id": "455489af-7365-428c-8de3-06372b8b920f",
   "metadata": {},
   "source": [
    "# Training"
   ]
  },
  {
   "cell_type": "code",
   "execution_count": null,
   "id": "219a0b6f-c707-4cbc-86de-206825fa37c7",
   "metadata": {},
   "outputs": [],
   "source": [
    "from tqdm.auto import tqdm\n",
    "def loop_fn(mode, dataset, dataloader, model, criterion, optimizer, device):\n",
    "    if mode == \"train\":\n",
    "        model.train()\n",
    "    elif mode == \"test\":\n",
    "        model.eval()\n",
    "    cost = 0\n",
    "    for feature, target in tqdm(dataloader, desc=mode.title()):\n",
    "        feature, target = feature.to(device), target.to(device)\n",
    "        output, hidden = model(feature, None) # feedforward\n",
    "        loss = criterion(output, target)\n",
    "        if mode == \"train\":\n",
    "            loss.backward() # backpropragation\n",
    "            optimizer.step() # update weight\n",
    "            optimizer.zero_grad()\n",
    "        cost += loss.item() * feature.shape[0]\n",
    "    cost = cost / len(dataset)\n",
    "    return cost"
   ]
  },
  {
   "cell_type": "code",
   "execution_count": null,
   "id": "ada457ad-ccf1-4588-8111-a4e0d5faf741",
   "metadata": {},
   "outputs": [],
   "source": []
  },
  {
   "cell_type": "code",
   "execution_count": null,
   "id": "928860c0-ef69-4527-978b-61277d4001e4",
   "metadata": {},
   "outputs": [],
   "source": []
  },
  {
   "cell_type": "code",
   "execution_count": null,
   "id": "5f1d839e-bf10-4e0e-8a31-bee845de9be3",
   "metadata": {},
   "outputs": [],
   "source": []
  },
  {
   "cell_type": "code",
   "execution_count": null,
   "id": "7bab9844-d028-421e-8930-59accb55926b",
   "metadata": {},
   "outputs": [],
   "source": []
  }
 ],
 "metadata": {
  "kernelspec": {
   "display_name": "Python [conda env:MachineLearning] *",
   "language": "python",
   "name": "conda-env-MachineLearning-py"
  },
  "language_info": {
   "codemirror_mode": {
    "name": "ipython",
    "version": 3
   },
   "file_extension": ".py",
   "mimetype": "text/x-python",
   "name": "python",
   "nbconvert_exporter": "python",
   "pygments_lexer": "ipython3",
   "version": "3.12.8"
  }
 },
 "nbformat": 4,
 "nbformat_minor": 5
}
