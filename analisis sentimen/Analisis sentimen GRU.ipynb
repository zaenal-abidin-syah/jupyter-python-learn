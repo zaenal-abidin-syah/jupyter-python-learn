{
 "cells": [
  {
   "cell_type": "code",
   "execution_count": 63,
   "id": "4846c674-ddaa-43e9-9720-d4d41683cbfd",
   "metadata": {},
   "outputs": [
    {
     "name": "stdout",
     "output_type": "stream",
     "text": [
      "Requirement already satisfied: deep-translator in /home/zaens/miniconda3/envs/MachineLearning/lib/python3.12/site-packages (1.11.4)\n",
      "Requirement already satisfied: beautifulsoup4<5.0.0,>=4.9.1 in /home/zaens/miniconda3/envs/MachineLearning/lib/python3.12/site-packages (from deep-translator) (4.12.3)\n",
      "Requirement already satisfied: requests<3.0.0,>=2.23.0 in /home/zaens/miniconda3/envs/MachineLearning/lib/python3.12/site-packages (from deep-translator) (2.32.3)\n",
      "Requirement already satisfied: soupsieve>1.2 in /home/zaens/miniconda3/envs/MachineLearning/lib/python3.12/site-packages (from beautifulsoup4<5.0.0,>=4.9.1->deep-translator) (2.5)\n",
      "Requirement already satisfied: charset_normalizer<4,>=2 in /home/zaens/miniconda3/envs/MachineLearning/lib/python3.12/site-packages (from requests<3.0.0,>=2.23.0->deep-translator) (3.4.0)\n",
      "Requirement already satisfied: idna<4,>=2.5 in /home/zaens/miniconda3/envs/MachineLearning/lib/python3.12/site-packages (from requests<3.0.0,>=2.23.0->deep-translator) (2.10)\n",
      "Requirement already satisfied: urllib3<3,>=1.21.1 in /home/zaens/miniconda3/envs/MachineLearning/lib/python3.12/site-packages (from requests<3.0.0,>=2.23.0->deep-translator) (2.2.3)\n",
      "Requirement already satisfied: certifi>=2017.4.17 in /home/zaens/miniconda3/envs/MachineLearning/lib/python3.12/site-packages (from requests<3.0.0,>=2.23.0->deep-translator) (2024.8.30)\n",
      "Collecting vaderSentiment\n",
      "  Downloading vaderSentiment-3.3.2-py2.py3-none-any.whl.metadata (572 bytes)\n",
      "Requirement already satisfied: requests in /home/zaens/miniconda3/envs/MachineLearning/lib/python3.12/site-packages (from vaderSentiment) (2.32.3)\n",
      "Requirement already satisfied: charset_normalizer<4,>=2 in /home/zaens/miniconda3/envs/MachineLearning/lib/python3.12/site-packages (from requests->vaderSentiment) (3.4.0)\n",
      "Requirement already satisfied: idna<4,>=2.5 in /home/zaens/miniconda3/envs/MachineLearning/lib/python3.12/site-packages (from requests->vaderSentiment) (2.10)\n",
      "Requirement already satisfied: urllib3<3,>=1.21.1 in /home/zaens/miniconda3/envs/MachineLearning/lib/python3.12/site-packages (from requests->vaderSentiment) (2.2.3)\n",
      "Requirement already satisfied: certifi>=2017.4.17 in /home/zaens/miniconda3/envs/MachineLearning/lib/python3.12/site-packages (from requests->vaderSentiment) (2024.8.30)\n",
      "Downloading vaderSentiment-3.3.2-py2.py3-none-any.whl (125 kB)\n",
      "Installing collected packages: vaderSentiment\n",
      "Successfully installed vaderSentiment-3.3.2\n"
     ]
    }
   ],
   "source": [
    "!pip install -U deep-translator\n",
    "!pip install vaderSentiment"
   ]
  },
  {
   "cell_type": "code",
   "execution_count": 1,
   "id": "e1672068-4bfe-40f6-b731-836d505cdeb7",
   "metadata": {},
   "outputs": [],
   "source": [
    "import numpy as np \n",
    "import pandas as pd\n",
    "import matplotlib.pyplot as plt\n",
    "# from googletrans import Translator\n",
    "import re\n",
    "import nltk\n",
    "from torch.utils.data import Dataset, DataLoader\n",
    "from torch.nn.utils.rnn import pad_sequence\n",
    "from sklearn.model_selection import train_test_split\n",
    "from deep_translator import GoogleTranslator\n",
    "from nltk.tokenize import sent_tokenize, word_tokenize\n",
    "from sklearn.feature_extraction.text import TfidfVectorizer\n",
    "from vaderSentiment.vaderSentiment import SentimentIntensityAnalyzer\n",
    "from nltk.tokenize import word_tokenize\n",
    "from nltk.corpus import stopwords\n",
    "from string import punctuation\n",
    "\n",
    "sw_indo = stopwords.words(\"indonesian\") + list(punctuation)"
   ]
  },
  {
   "cell_type": "code",
   "execution_count": 12,
   "id": "4f47512b-bd84-4d6f-b859-26fba92b6de5",
   "metadata": {},
   "outputs": [
    {
     "data": {
      "text/plain": [
       "device(type='cuda', index=0)"
      ]
     },
     "execution_count": 12,
     "metadata": {},
     "output_type": "execute_result"
    }
   ],
   "source": [
    "import torch\n",
    "from torch import nn, optim\n",
    "from jcopdl.callback import Callback, set_config\n",
    "\n",
    "device = torch.device(\"cuda:0\" if torch.cuda.is_available() else \"cpu\")\n",
    "device"
   ]
  },
  {
   "cell_type": "code",
   "execution_count": 133,
   "id": "27b1e762-a00d-4459-8531-26032eca3dff",
   "metadata": {},
   "outputs": [
    {
     "name": "stderr",
     "output_type": "stream",
     "text": [
      "[nltk_data] Downloading package punkt_tab to /home/zaens/nltk_data...\n",
      "[nltk_data]   Unzipping tokenizers/punkt_tab.zip.\n"
     ]
    },
    {
     "data": {
      "text/plain": [
       "True"
      ]
     },
     "execution_count": 133,
     "metadata": {},
     "output_type": "execute_result"
    }
   ],
   "source": [
    "# nltk.download('punkt_tab')"
   ]
  },
  {
   "cell_type": "code",
   "execution_count": 124,
   "id": "a81e352f-e1b5-4221-8469-a9aa2f02ddcc",
   "metadata": {},
   "outputs": [],
   "source": []
  },
  {
   "cell_type": "markdown",
   "id": "af9c5d85-c59b-4ea7-82e1-74f4d981560e",
   "metadata": {},
   "source": [
    "# Import Data"
   ]
  },
  {
   "cell_type": "code",
   "execution_count": 127,
   "id": "a16b3c84-7646-4f56-ba65-86e58a56fad8",
   "metadata": {},
   "outputs": [
    {
     "data": {
      "text/html": [
       "<div>\n",
       "<style scoped>\n",
       "    .dataframe tbody tr th:only-of-type {\n",
       "        vertical-align: middle;\n",
       "    }\n",
       "\n",
       "    .dataframe tbody tr th {\n",
       "        vertical-align: top;\n",
       "    }\n",
       "\n",
       "    .dataframe thead th {\n",
       "        text-align: right;\n",
       "    }\n",
       "</style>\n",
       "<table border=\"1\" class=\"dataframe\">\n",
       "  <thead>\n",
       "    <tr style=\"text-align: right;\">\n",
       "      <th></th>\n",
       "      <th>author</th>\n",
       "      <th>published_at</th>\n",
       "      <th>comment</th>\n",
       "      <th>like</th>\n",
       "    </tr>\n",
       "  </thead>\n",
       "  <tbody>\n",
       "    <tr>\n",
       "      <th>0</th>\n",
       "      <td>@MaulanaMaulanamaulana-eo5fl</td>\n",
       "      <td>2024-09-20T04:15:25Z</td>\n",
       "      <td>Ikn di buka untuk umum ...indah nya kota ikn d...</td>\n",
       "      <td>0</td>\n",
       "    </tr>\n",
       "    <tr>\n",
       "      <th>1</th>\n",
       "      <td>@daryanto07</td>\n",
       "      <td>2024-08-01T00:45:05Z</td>\n",
       "      <td>Masuk akal nggak sih, mulai dibangun tahun 202...</td>\n",
       "      <td>0</td>\n",
       "    </tr>\n",
       "    <tr>\n",
       "      <th>2</th>\n",
       "      <td>@ArwanAhmad-z8g</td>\n",
       "      <td>2024-07-26T02:16:40Z</td>\n",
       "      <td>Ikn jalan terus hebat .semangat maju terus ind...</td>\n",
       "      <td>0</td>\n",
       "    </tr>\n",
       "    <tr>\n",
       "      <th>3</th>\n",
       "      <td>@harunindrapratama5497</td>\n",
       "      <td>2024-07-18T18:14:51Z</td>\n",
       "      <td>Orang bodoh penjilat</td>\n",
       "      <td>0</td>\n",
       "    </tr>\n",
       "    <tr>\n",
       "      <th>4</th>\n",
       "      <td>@istachondoni198</td>\n",
       "      <td>2024-07-18T10:27:29Z</td>\n",
       "      <td>setuju</td>\n",
       "      <td>0</td>\n",
       "    </tr>\n",
       "  </tbody>\n",
       "</table>\n",
       "</div>"
      ],
      "text/plain": [
       "                         author          published_at  \\\n",
       "0  @MaulanaMaulanamaulana-eo5fl  2024-09-20T04:15:25Z   \n",
       "1                   @daryanto07  2024-08-01T00:45:05Z   \n",
       "2               @ArwanAhmad-z8g  2024-07-26T02:16:40Z   \n",
       "3        @harunindrapratama5497  2024-07-18T18:14:51Z   \n",
       "4              @istachondoni198  2024-07-18T10:27:29Z   \n",
       "\n",
       "                                             comment  like  \n",
       "0  Ikn di buka untuk umum ...indah nya kota ikn d...     0  \n",
       "1  Masuk akal nggak sih, mulai dibangun tahun 202...     0  \n",
       "2  Ikn jalan terus hebat .semangat maju terus ind...     0  \n",
       "3                               Orang bodoh penjilat     0  \n",
       "4                                             setuju     0  "
      ]
     },
     "execution_count": 127,
     "metadata": {},
     "output_type": "execute_result"
    }
   ],
   "source": [
    "df = pd.read_csv(\"youtube_comments.csv\", index_col=\"Unnamed: 0\")\n",
    "df.head()"
   ]
  },
  {
   "cell_type": "markdown",
   "id": "ff85bd96-c7f0-405e-95d8-9d744345f9c9",
   "metadata": {},
   "source": [
    "# Translate"
   ]
  },
  {
   "cell_type": "code",
   "execution_count": 140,
   "id": "c19a6f10-f33e-4b7a-b8a1-31923195db04",
   "metadata": {},
   "outputs": [],
   "source": [
    "def translate_comment(comment):\n",
    "    if len(comment) < 5000:\n",
    "        return GoogleTranslator(source='auto', target='en').translate(comment)\n",
    "    else:\n",
    "        sentences = sent_tokenize(comment)\n",
    "        return \" \".join([GoogleTranslator(source='auto', target='en').translate(sentence) for sentence in sentences])"
   ]
  },
  {
   "cell_type": "code",
   "execution_count": 141,
   "id": "e3316514-89ec-4362-acfb-1c01508ab629",
   "metadata": {},
   "outputs": [],
   "source": [
    "df[\"en_comment\"] = df.comment.apply(translate_comment)"
   ]
  },
  {
   "cell_type": "code",
   "execution_count": 142,
   "id": "6015ebf8-03f5-4cd7-831b-0bba21a1a007",
   "metadata": {},
   "outputs": [],
   "source": [
    "# df.to_csv(\"en_comments.csv\")"
   ]
  },
  {
   "cell_type": "code",
   "execution_count": 143,
   "id": "162b491c-79fe-4afe-bc2d-2a0c088945cb",
   "metadata": {},
   "outputs": [
    {
     "data": {
      "text/html": [
       "<div>\n",
       "<style scoped>\n",
       "    .dataframe tbody tr th:only-of-type {\n",
       "        vertical-align: middle;\n",
       "    }\n",
       "\n",
       "    .dataframe tbody tr th {\n",
       "        vertical-align: top;\n",
       "    }\n",
       "\n",
       "    .dataframe thead th {\n",
       "        text-align: right;\n",
       "    }\n",
       "</style>\n",
       "<table border=\"1\" class=\"dataframe\">\n",
       "  <thead>\n",
       "    <tr style=\"text-align: right;\">\n",
       "      <th></th>\n",
       "      <th>Unnamed: 0</th>\n",
       "      <th>author</th>\n",
       "      <th>published_at</th>\n",
       "      <th>comment</th>\n",
       "      <th>like</th>\n",
       "      <th>en_comment</th>\n",
       "    </tr>\n",
       "  </thead>\n",
       "  <tbody>\n",
       "    <tr>\n",
       "      <th>0</th>\n",
       "      <td>0</td>\n",
       "      <td>@MaulanaMaulanamaulana-eo5fl</td>\n",
       "      <td>2024-09-20T04:15:25Z</td>\n",
       "      <td>Ikn di buka untuk umum ...indah nya kota ikn d...</td>\n",
       "      <td>0</td>\n",
       "      <td>Ikn is open to the public...the beauty of the ...</td>\n",
       "    </tr>\n",
       "    <tr>\n",
       "      <th>1</th>\n",
       "      <td>1</td>\n",
       "      <td>@daryanto07</td>\n",
       "      <td>2024-08-01T00:45:05Z</td>\n",
       "      <td>Masuk akal nggak sih, mulai dibangun tahun 202...</td>\n",
       "      <td>0</td>\n",
       "      <td>Does it make sense, starting construction in 2...</td>\n",
       "    </tr>\n",
       "    <tr>\n",
       "      <th>2</th>\n",
       "      <td>2</td>\n",
       "      <td>@ArwanAhmad-z8g</td>\n",
       "      <td>2024-07-26T02:16:40Z</td>\n",
       "      <td>Ikn jalan terus hebat .semangat maju terus ind...</td>\n",
       "      <td>0</td>\n",
       "      <td>Ikn keep going great. Keep up the spirit of pr...</td>\n",
       "    </tr>\n",
       "    <tr>\n",
       "      <th>3</th>\n",
       "      <td>3</td>\n",
       "      <td>@harunindrapratama5497</td>\n",
       "      <td>2024-07-18T18:14:51Z</td>\n",
       "      <td>Orang bodoh penjilat</td>\n",
       "      <td>0</td>\n",
       "      <td>A sycophantic fool</td>\n",
       "    </tr>\n",
       "    <tr>\n",
       "      <th>4</th>\n",
       "      <td>4</td>\n",
       "      <td>@istachondoni198</td>\n",
       "      <td>2024-07-18T10:27:29Z</td>\n",
       "      <td>setuju</td>\n",
       "      <td>0</td>\n",
       "      <td>agree</td>\n",
       "    </tr>\n",
       "  </tbody>\n",
       "</table>\n",
       "</div>"
      ],
      "text/plain": [
       "   Unnamed: 0                        author          published_at  \\\n",
       "0           0  @MaulanaMaulanamaulana-eo5fl  2024-09-20T04:15:25Z   \n",
       "1           1                   @daryanto07  2024-08-01T00:45:05Z   \n",
       "2           2               @ArwanAhmad-z8g  2024-07-26T02:16:40Z   \n",
       "3           3        @harunindrapratama5497  2024-07-18T18:14:51Z   \n",
       "4           4              @istachondoni198  2024-07-18T10:27:29Z   \n",
       "\n",
       "                                             comment  like  \\\n",
       "0  Ikn di buka untuk umum ...indah nya kota ikn d...     0   \n",
       "1  Masuk akal nggak sih, mulai dibangun tahun 202...     0   \n",
       "2  Ikn jalan terus hebat .semangat maju terus ind...     0   \n",
       "3                               Orang bodoh penjilat     0   \n",
       "4                                             setuju     0   \n",
       "\n",
       "                                          en_comment  \n",
       "0  Ikn is open to the public...the beauty of the ...  \n",
       "1  Does it make sense, starting construction in 2...  \n",
       "2  Ikn keep going great. Keep up the spirit of pr...  \n",
       "3                                 A sycophantic fool  \n",
       "4                                              agree  "
      ]
     },
     "execution_count": 143,
     "metadata": {},
     "output_type": "execute_result"
    }
   ],
   "source": [
    "df = pd.read_csv(\"en_comments.csv\")\n",
    "df.head()"
   ]
  },
  {
   "cell_type": "markdown",
   "id": "185c84c4-2aa9-4a06-9fb5-fa0fcf7d295e",
   "metadata": {},
   "source": [
    "# Preprocessing"
   ]
  },
  {
   "cell_type": "markdown",
   "id": "82cd08c8-6c85-42e0-abf0-7c090f2a1c08",
   "metadata": {},
   "source": [
    "## Drop Missing Value"
   ]
  },
  {
   "cell_type": "code",
   "execution_count": 144,
   "id": "0e75f81f-85b4-4d38-861b-317fb8f6fbd1",
   "metadata": {},
   "outputs": [
    {
     "data": {
      "text/plain": [
       "Unnamed: 0       0\n",
       "author           1\n",
       "published_at     0\n",
       "comment          0\n",
       "like             0\n",
       "en_comment      20\n",
       "dtype: int64"
      ]
     },
     "execution_count": 144,
     "metadata": {},
     "output_type": "execute_result"
    }
   ],
   "source": [
    "df.isnull().sum()"
   ]
  },
  {
   "cell_type": "code",
   "execution_count": 194,
   "id": "6aa423ed-3676-45a9-80ab-9ed17ec0454f",
   "metadata": {},
   "outputs": [],
   "source": [
    "df.dropna(inplace=True)"
   ]
  },
  {
   "cell_type": "code",
   "execution_count": 206,
   "id": "6ac52f29-d588-4944-9c55-bb4dccf5d9d3",
   "metadata": {},
   "outputs": [
    {
     "data": {
      "text/plain": [
       "author          0\n",
       "published_at    0\n",
       "comment         0\n",
       "like            0\n",
       "en_comment      0\n",
       "dtype: int64"
      ]
     },
     "execution_count": 206,
     "metadata": {},
     "output_type": "execute_result"
    }
   ],
   "source": [
    "df.isnull().sum()"
   ]
  },
  {
   "cell_type": "code",
   "execution_count": 147,
   "id": "ceb77c0e-2ce5-4605-8b54-9925c4ae4fbc",
   "metadata": {},
   "outputs": [
    {
     "data": {
      "text/html": [
       "<div>\n",
       "<style scoped>\n",
       "    .dataframe tbody tr th:only-of-type {\n",
       "        vertical-align: middle;\n",
       "    }\n",
       "\n",
       "    .dataframe tbody tr th {\n",
       "        vertical-align: top;\n",
       "    }\n",
       "\n",
       "    .dataframe thead th {\n",
       "        text-align: right;\n",
       "    }\n",
       "</style>\n",
       "<table border=\"1\" class=\"dataframe\">\n",
       "  <thead>\n",
       "    <tr style=\"text-align: right;\">\n",
       "      <th></th>\n",
       "      <th>Unnamed: 0</th>\n",
       "      <th>author</th>\n",
       "      <th>published_at</th>\n",
       "      <th>comment</th>\n",
       "      <th>like</th>\n",
       "      <th>en_comment</th>\n",
       "    </tr>\n",
       "  </thead>\n",
       "  <tbody>\n",
       "    <tr>\n",
       "      <th>0</th>\n",
       "      <td>0</td>\n",
       "      <td>@MaulanaMaulanamaulana-eo5fl</td>\n",
       "      <td>2024-09-20T04:15:25Z</td>\n",
       "      <td>Ikn di buka untuk umum ...indah nya kota ikn d...</td>\n",
       "      <td>0</td>\n",
       "      <td>Ikn is open to the public...the beauty of the ...</td>\n",
       "    </tr>\n",
       "    <tr>\n",
       "      <th>1</th>\n",
       "      <td>1</td>\n",
       "      <td>@daryanto07</td>\n",
       "      <td>2024-08-01T00:45:05Z</td>\n",
       "      <td>Masuk akal nggak sih, mulai dibangun tahun 202...</td>\n",
       "      <td>0</td>\n",
       "      <td>Does it make sense, starting construction in 2...</td>\n",
       "    </tr>\n",
       "    <tr>\n",
       "      <th>2</th>\n",
       "      <td>2</td>\n",
       "      <td>@ArwanAhmad-z8g</td>\n",
       "      <td>2024-07-26T02:16:40Z</td>\n",
       "      <td>Ikn jalan terus hebat .semangat maju terus ind...</td>\n",
       "      <td>0</td>\n",
       "      <td>Ikn keep going great. Keep up the spirit of pr...</td>\n",
       "    </tr>\n",
       "    <tr>\n",
       "      <th>3</th>\n",
       "      <td>3</td>\n",
       "      <td>@harunindrapratama5497</td>\n",
       "      <td>2024-07-18T18:14:51Z</td>\n",
       "      <td>Orang bodoh penjilat</td>\n",
       "      <td>0</td>\n",
       "      <td>A sycophantic fool</td>\n",
       "    </tr>\n",
       "    <tr>\n",
       "      <th>4</th>\n",
       "      <td>4</td>\n",
       "      <td>@istachondoni198</td>\n",
       "      <td>2024-07-18T10:27:29Z</td>\n",
       "      <td>setuju</td>\n",
       "      <td>0</td>\n",
       "      <td>agree</td>\n",
       "    </tr>\n",
       "  </tbody>\n",
       "</table>\n",
       "</div>"
      ],
      "text/plain": [
       "   Unnamed: 0                        author          published_at  \\\n",
       "0           0  @MaulanaMaulanamaulana-eo5fl  2024-09-20T04:15:25Z   \n",
       "1           1                   @daryanto07  2024-08-01T00:45:05Z   \n",
       "2           2               @ArwanAhmad-z8g  2024-07-26T02:16:40Z   \n",
       "3           3        @harunindrapratama5497  2024-07-18T18:14:51Z   \n",
       "4           4              @istachondoni198  2024-07-18T10:27:29Z   \n",
       "\n",
       "                                             comment  like  \\\n",
       "0  Ikn di buka untuk umum ...indah nya kota ikn d...     0   \n",
       "1  Masuk akal nggak sih, mulai dibangun tahun 202...     0   \n",
       "2  Ikn jalan terus hebat .semangat maju terus ind...     0   \n",
       "3                               Orang bodoh penjilat     0   \n",
       "4                                             setuju     0   \n",
       "\n",
       "                                          en_comment  \n",
       "0  Ikn is open to the public...the beauty of the ...  \n",
       "1  Does it make sense, starting construction in 2...  \n",
       "2  Ikn keep going great. Keep up the spirit of pr...  \n",
       "3                                 A sycophantic fool  \n",
       "4                                              agree  "
      ]
     },
     "execution_count": 147,
     "metadata": {},
     "output_type": "execute_result"
    }
   ],
   "source": [
    "df.head()"
   ]
  },
  {
   "cell_type": "markdown",
   "id": "b2deeb86-6e50-42f8-bb82-92a7848b925f",
   "metadata": {},
   "source": []
  },
  {
   "cell_type": "markdown",
   "id": "ece049d0-f9b0-4831-bb39-5f824923e831",
   "metadata": {},
   "source": [
    "## Cleaning"
   ]
  },
  {
   "cell_type": "code",
   "execution_count": 148,
   "id": "bff15ac0-13ac-4f9b-b399-a019daf5e24a",
   "metadata": {},
   "outputs": [],
   "source": [
    "def clean_text(text):\n",
    "    text = re.sub(r'[^a-zA-Z\\s]', '', text)  # Remove non-alphanumeric characters\n",
    "    text = text.lower()  # Convert to lowercase\n",
    "    text = re.sub(r'\\s+', ' ', text).strip()  # Remove extra spaces\n",
    "    emoji_pattern = re.compile(\"[\"\n",
    "        u\"\\U0001F600-\\U0001F64F\"  # emoticons\n",
    "        u\"\\U0001F300-\\U0001F5FF\"  # symbols & pictographs\n",
    "        u\"\\U0001F680-\\U0001F6FF\"  # transport & map symbols\n",
    "        u\"\\U0001F1E0-\\U0001F1FF\"  # flags (iOS)\n",
    "                           \"]+\", flags=re.UNICODE)\n",
    "    text = emoji_pattern.sub(r'', text)\n",
    "    return text"
   ]
  },
  {
   "cell_type": "code",
   "execution_count": 149,
   "id": "8d017807-1fd9-4a85-b938-223731b757eb",
   "metadata": {},
   "outputs": [],
   "source": [
    "df.en_comment = df.en_comment.apply(clean_text)\n",
    "df.comment = df.comment.apply(clean_text)"
   ]
  },
  {
   "cell_type": "code",
   "execution_count": 150,
   "id": "3657a9b1-742f-46a2-a5e5-fb7eedf24d5f",
   "metadata": {},
   "outputs": [
    {
     "data": {
      "text/html": [
       "<div>\n",
       "<style scoped>\n",
       "    .dataframe tbody tr th:only-of-type {\n",
       "        vertical-align: middle;\n",
       "    }\n",
       "\n",
       "    .dataframe tbody tr th {\n",
       "        vertical-align: top;\n",
       "    }\n",
       "\n",
       "    .dataframe thead th {\n",
       "        text-align: right;\n",
       "    }\n",
       "</style>\n",
       "<table border=\"1\" class=\"dataframe\">\n",
       "  <thead>\n",
       "    <tr style=\"text-align: right;\">\n",
       "      <th></th>\n",
       "      <th>Unnamed: 0</th>\n",
       "      <th>author</th>\n",
       "      <th>published_at</th>\n",
       "      <th>comment</th>\n",
       "      <th>like</th>\n",
       "      <th>en_comment</th>\n",
       "    </tr>\n",
       "  </thead>\n",
       "  <tbody>\n",
       "    <tr>\n",
       "      <th>0</th>\n",
       "      <td>0</td>\n",
       "      <td>@MaulanaMaulanamaulana-eo5fl</td>\n",
       "      <td>2024-09-20T04:15:25Z</td>\n",
       "      <td>ikn di buka untuk umum indah nya kota ikn di t...</td>\n",
       "      <td>0</td>\n",
       "      <td>ikn is open to the publicthe beauty of the ikn...</td>\n",
       "    </tr>\n",
       "    <tr>\n",
       "      <th>1</th>\n",
       "      <td>1</td>\n",
       "      <td>@daryanto07</td>\n",
       "      <td>2024-08-01T00:45:05Z</td>\n",
       "      <td>masuk akal nggak sih mulai dibangun tahun punc...</td>\n",
       "      <td>0</td>\n",
       "      <td>does it make sense starting construction in pe...</td>\n",
       "    </tr>\n",
       "    <tr>\n",
       "      <th>2</th>\n",
       "      <td>2</td>\n",
       "      <td>@ArwanAhmad-z8g</td>\n",
       "      <td>2024-07-26T02:16:40Z</td>\n",
       "      <td>ikn jalan terus hebat semangat maju terus indo...</td>\n",
       "      <td>0</td>\n",
       "      <td>ikn keep going great keep up the spirit of pro...</td>\n",
       "    </tr>\n",
       "    <tr>\n",
       "      <th>3</th>\n",
       "      <td>3</td>\n",
       "      <td>@harunindrapratama5497</td>\n",
       "      <td>2024-07-18T18:14:51Z</td>\n",
       "      <td>orang bodoh penjilat</td>\n",
       "      <td>0</td>\n",
       "      <td>a sycophantic fool</td>\n",
       "    </tr>\n",
       "    <tr>\n",
       "      <th>4</th>\n",
       "      <td>4</td>\n",
       "      <td>@istachondoni198</td>\n",
       "      <td>2024-07-18T10:27:29Z</td>\n",
       "      <td>setuju</td>\n",
       "      <td>0</td>\n",
       "      <td>agree</td>\n",
       "    </tr>\n",
       "  </tbody>\n",
       "</table>\n",
       "</div>"
      ],
      "text/plain": [
       "   Unnamed: 0                        author          published_at  \\\n",
       "0           0  @MaulanaMaulanamaulana-eo5fl  2024-09-20T04:15:25Z   \n",
       "1           1                   @daryanto07  2024-08-01T00:45:05Z   \n",
       "2           2               @ArwanAhmad-z8g  2024-07-26T02:16:40Z   \n",
       "3           3        @harunindrapratama5497  2024-07-18T18:14:51Z   \n",
       "4           4              @istachondoni198  2024-07-18T10:27:29Z   \n",
       "\n",
       "                                             comment  like  \\\n",
       "0  ikn di buka untuk umum indah nya kota ikn di t...     0   \n",
       "1  masuk akal nggak sih mulai dibangun tahun punc...     0   \n",
       "2  ikn jalan terus hebat semangat maju terus indo...     0   \n",
       "3                               orang bodoh penjilat     0   \n",
       "4                                             setuju     0   \n",
       "\n",
       "                                          en_comment  \n",
       "0  ikn is open to the publicthe beauty of the ikn...  \n",
       "1  does it make sense starting construction in pe...  \n",
       "2  ikn keep going great keep up the spirit of pro...  \n",
       "3                                 a sycophantic fool  \n",
       "4                                              agree  "
      ]
     },
     "execution_count": 150,
     "metadata": {},
     "output_type": "execute_result"
    }
   ],
   "source": [
    "df.head()"
   ]
  },
  {
   "cell_type": "code",
   "execution_count": 202,
   "id": "065f09c2-6ae8-42d1-b0bb-7bb622647695",
   "metadata": {},
   "outputs": [],
   "source": [
    "# df.to_csv(\"clean_comments.csv\", index=False)"
   ]
  },
  {
   "cell_type": "code",
   "execution_count": 203,
   "id": "51253240-65f8-4113-a3d7-24f409e82625",
   "metadata": {},
   "outputs": [
    {
     "data": {
      "text/html": [
       "<div>\n",
       "<style scoped>\n",
       "    .dataframe tbody tr th:only-of-type {\n",
       "        vertical-align: middle;\n",
       "    }\n",
       "\n",
       "    .dataframe tbody tr th {\n",
       "        vertical-align: top;\n",
       "    }\n",
       "\n",
       "    .dataframe thead th {\n",
       "        text-align: right;\n",
       "    }\n",
       "</style>\n",
       "<table border=\"1\" class=\"dataframe\">\n",
       "  <thead>\n",
       "    <tr style=\"text-align: right;\">\n",
       "      <th></th>\n",
       "      <th>author</th>\n",
       "      <th>published_at</th>\n",
       "      <th>comment</th>\n",
       "      <th>like</th>\n",
       "      <th>en_comment</th>\n",
       "    </tr>\n",
       "  </thead>\n",
       "  <tbody>\n",
       "    <tr>\n",
       "      <th>0</th>\n",
       "      <td>@MaulanaMaulanamaulana-eo5fl</td>\n",
       "      <td>2024-09-20T04:15:25Z</td>\n",
       "      <td>ikn di buka untuk umum indah nya kota ikn di t...</td>\n",
       "      <td>0</td>\n",
       "      <td>ikn is open to the publicthe beauty of the ikn...</td>\n",
       "    </tr>\n",
       "    <tr>\n",
       "      <th>1</th>\n",
       "      <td>@daryanto07</td>\n",
       "      <td>2024-08-01T00:45:05Z</td>\n",
       "      <td>masuk akal nggak sih mulai dibangun tahun punc...</td>\n",
       "      <td>0</td>\n",
       "      <td>does it make sense starting construction in pe...</td>\n",
       "    </tr>\n",
       "    <tr>\n",
       "      <th>2</th>\n",
       "      <td>@ArwanAhmad-z8g</td>\n",
       "      <td>2024-07-26T02:16:40Z</td>\n",
       "      <td>ikn jalan terus hebat semangat maju terus indo...</td>\n",
       "      <td>0</td>\n",
       "      <td>ikn keep going great keep up the spirit of pro...</td>\n",
       "    </tr>\n",
       "    <tr>\n",
       "      <th>3</th>\n",
       "      <td>@harunindrapratama5497</td>\n",
       "      <td>2024-07-18T18:14:51Z</td>\n",
       "      <td>orang bodoh penjilat</td>\n",
       "      <td>0</td>\n",
       "      <td>a sycophantic fool</td>\n",
       "    </tr>\n",
       "    <tr>\n",
       "      <th>4</th>\n",
       "      <td>@istachondoni198</td>\n",
       "      <td>2024-07-18T10:27:29Z</td>\n",
       "      <td>setuju</td>\n",
       "      <td>0</td>\n",
       "      <td>agree</td>\n",
       "    </tr>\n",
       "  </tbody>\n",
       "</table>\n",
       "</div>"
      ],
      "text/plain": [
       "                         author          published_at  \\\n",
       "0  @MaulanaMaulanamaulana-eo5fl  2024-09-20T04:15:25Z   \n",
       "1                   @daryanto07  2024-08-01T00:45:05Z   \n",
       "2               @ArwanAhmad-z8g  2024-07-26T02:16:40Z   \n",
       "3        @harunindrapratama5497  2024-07-18T18:14:51Z   \n",
       "4              @istachondoni198  2024-07-18T10:27:29Z   \n",
       "\n",
       "                                             comment  like  \\\n",
       "0  ikn di buka untuk umum indah nya kota ikn di t...     0   \n",
       "1  masuk akal nggak sih mulai dibangun tahun punc...     0   \n",
       "2  ikn jalan terus hebat semangat maju terus indo...     0   \n",
       "3                               orang bodoh penjilat     0   \n",
       "4                                             setuju     0   \n",
       "\n",
       "                                          en_comment  \n",
       "0  ikn is open to the publicthe beauty of the ikn...  \n",
       "1  does it make sense starting construction in pe...  \n",
       "2  ikn keep going great keep up the spirit of pro...  \n",
       "3                                 a sycophantic fool  \n",
       "4                                              agree  "
      ]
     },
     "execution_count": 203,
     "metadata": {},
     "output_type": "execute_result"
    }
   ],
   "source": [
    "df = pd.read_csv(\"clean_comments.csv\")\n",
    "df.head()"
   ]
  },
  {
   "cell_type": "markdown",
   "id": "117dfbf1-0ffb-44e3-8020-5146dbf64674",
   "metadata": {},
   "source": [
    "## Labelling "
   ]
  },
  {
   "cell_type": "code",
   "execution_count": 204,
   "id": "26128dff-77cd-4aff-a5df-bc615d767739",
   "metadata": {},
   "outputs": [],
   "source": [
    "def labeling(comment):\n",
    "    sentiment = SentimentIntensityAnalyzer()\n",
    "    x = sentiment.polarity_scores(comment)\n",
    "    # print(x)\n",
    "    if x[\"compound\"] >= 0:\n",
    "        return \"positif\"\n",
    "    else:\n",
    "        return \"negatif\"\n",
    "    # return \"positif\" if x[\"compound\"] >= 0 else \"negatif\""
   ]
  },
  {
   "cell_type": "code",
   "execution_count": 207,
   "id": "58d53a2f-0dde-4619-ba67-b5c540a2fac8",
   "metadata": {},
   "outputs": [],
   "source": [
    "df[\"label\"] = df[\"en_comment\"].apply(labeling)"
   ]
  },
  {
   "cell_type": "code",
   "execution_count": 208,
   "id": "6e07295e-f241-4030-9a48-7eacea98dcb5",
   "metadata": {},
   "outputs": [
    {
     "data": {
      "text/html": [
       "<div>\n",
       "<style scoped>\n",
       "    .dataframe tbody tr th:only-of-type {\n",
       "        vertical-align: middle;\n",
       "    }\n",
       "\n",
       "    .dataframe tbody tr th {\n",
       "        vertical-align: top;\n",
       "    }\n",
       "\n",
       "    .dataframe thead th {\n",
       "        text-align: right;\n",
       "    }\n",
       "</style>\n",
       "<table border=\"1\" class=\"dataframe\">\n",
       "  <thead>\n",
       "    <tr style=\"text-align: right;\">\n",
       "      <th></th>\n",
       "      <th>author</th>\n",
       "      <th>published_at</th>\n",
       "      <th>comment</th>\n",
       "      <th>like</th>\n",
       "      <th>en_comment</th>\n",
       "      <th>label</th>\n",
       "    </tr>\n",
       "  </thead>\n",
       "  <tbody>\n",
       "    <tr>\n",
       "      <th>0</th>\n",
       "      <td>@MaulanaMaulanamaulana-eo5fl</td>\n",
       "      <td>2024-09-20T04:15:25Z</td>\n",
       "      <td>ikn di buka untuk umum indah nya kota ikn di t...</td>\n",
       "      <td>0</td>\n",
       "      <td>ikn is open to the publicthe beauty of the ikn...</td>\n",
       "      <td>positif</td>\n",
       "    </tr>\n",
       "    <tr>\n",
       "      <th>1</th>\n",
       "      <td>@daryanto07</td>\n",
       "      <td>2024-08-01T00:45:05Z</td>\n",
       "      <td>masuk akal nggak sih mulai dibangun tahun punc...</td>\n",
       "      <td>0</td>\n",
       "      <td>does it make sense starting construction in pe...</td>\n",
       "      <td>positif</td>\n",
       "    </tr>\n",
       "    <tr>\n",
       "      <th>2</th>\n",
       "      <td>@ArwanAhmad-z8g</td>\n",
       "      <td>2024-07-26T02:16:40Z</td>\n",
       "      <td>ikn jalan terus hebat semangat maju terus indo...</td>\n",
       "      <td>0</td>\n",
       "      <td>ikn keep going great keep up the spirit of pro...</td>\n",
       "      <td>positif</td>\n",
       "    </tr>\n",
       "    <tr>\n",
       "      <th>3</th>\n",
       "      <td>@harunindrapratama5497</td>\n",
       "      <td>2024-07-18T18:14:51Z</td>\n",
       "      <td>orang bodoh penjilat</td>\n",
       "      <td>0</td>\n",
       "      <td>a sycophantic fool</td>\n",
       "      <td>negatif</td>\n",
       "    </tr>\n",
       "    <tr>\n",
       "      <th>4</th>\n",
       "      <td>@istachondoni198</td>\n",
       "      <td>2024-07-18T10:27:29Z</td>\n",
       "      <td>setuju</td>\n",
       "      <td>0</td>\n",
       "      <td>agree</td>\n",
       "      <td>positif</td>\n",
       "    </tr>\n",
       "  </tbody>\n",
       "</table>\n",
       "</div>"
      ],
      "text/plain": [
       "                         author          published_at  \\\n",
       "0  @MaulanaMaulanamaulana-eo5fl  2024-09-20T04:15:25Z   \n",
       "1                   @daryanto07  2024-08-01T00:45:05Z   \n",
       "2               @ArwanAhmad-z8g  2024-07-26T02:16:40Z   \n",
       "3        @harunindrapratama5497  2024-07-18T18:14:51Z   \n",
       "4              @istachondoni198  2024-07-18T10:27:29Z   \n",
       "\n",
       "                                             comment  like  \\\n",
       "0  ikn di buka untuk umum indah nya kota ikn di t...     0   \n",
       "1  masuk akal nggak sih mulai dibangun tahun punc...     0   \n",
       "2  ikn jalan terus hebat semangat maju terus indo...     0   \n",
       "3                               orang bodoh penjilat     0   \n",
       "4                                             setuju     0   \n",
       "\n",
       "                                          en_comment    label  \n",
       "0  ikn is open to the publicthe beauty of the ikn...  positif  \n",
       "1  does it make sense starting construction in pe...  positif  \n",
       "2  ikn keep going great keep up the spirit of pro...  positif  \n",
       "3                                 a sycophantic fool  negatif  \n",
       "4                                              agree  positif  "
      ]
     },
     "execution_count": 208,
     "metadata": {},
     "output_type": "execute_result"
    }
   ],
   "source": [
    "df.head()"
   ]
  },
  {
   "cell_type": "code",
   "execution_count": 209,
   "id": "85c22ee4-38e2-46de-ad66-25e19c419036",
   "metadata": {},
   "outputs": [
    {
     "data": {
      "text/plain": [
       "label\n",
       "positif    2280\n",
       "negatif     792\n",
       "Name: count, dtype: int64"
      ]
     },
     "execution_count": 209,
     "metadata": {},
     "output_type": "execute_result"
    }
   ],
   "source": [
    "df.label.value_counts()"
   ]
  },
  {
   "cell_type": "code",
   "execution_count": 210,
   "id": "f81a023b-c9d2-4e80-bdb7-046a8f9d4064",
   "metadata": {},
   "outputs": [],
   "source": [
    "# df.to_csv(\"label_comment.csv\")"
   ]
  },
  {
   "cell_type": "code",
   "execution_count": 2,
   "id": "760b5b92-674a-4690-b359-0675bab1f4fa",
   "metadata": {},
   "outputs": [
    {
     "data": {
      "text/html": [
       "<div>\n",
       "<style scoped>\n",
       "    .dataframe tbody tr th:only-of-type {\n",
       "        vertical-align: middle;\n",
       "    }\n",
       "\n",
       "    .dataframe tbody tr th {\n",
       "        vertical-align: top;\n",
       "    }\n",
       "\n",
       "    .dataframe thead th {\n",
       "        text-align: right;\n",
       "    }\n",
       "</style>\n",
       "<table border=\"1\" class=\"dataframe\">\n",
       "  <thead>\n",
       "    <tr style=\"text-align: right;\">\n",
       "      <th></th>\n",
       "      <th>author</th>\n",
       "      <th>published_at</th>\n",
       "      <th>comment</th>\n",
       "      <th>like</th>\n",
       "      <th>en_comment</th>\n",
       "      <th>label</th>\n",
       "    </tr>\n",
       "  </thead>\n",
       "  <tbody>\n",
       "    <tr>\n",
       "      <th>0</th>\n",
       "      <td>@MaulanaMaulanamaulana-eo5fl</td>\n",
       "      <td>2024-09-20T04:15:25Z</td>\n",
       "      <td>ikn di buka untuk umum indah nya kota ikn di t...</td>\n",
       "      <td>0</td>\n",
       "      <td>ikn is open to the publicthe beauty of the ikn...</td>\n",
       "      <td>positif</td>\n",
       "    </tr>\n",
       "    <tr>\n",
       "      <th>1</th>\n",
       "      <td>@daryanto07</td>\n",
       "      <td>2024-08-01T00:45:05Z</td>\n",
       "      <td>masuk akal nggak sih mulai dibangun tahun punc...</td>\n",
       "      <td>0</td>\n",
       "      <td>does it make sense starting construction in pe...</td>\n",
       "      <td>positif</td>\n",
       "    </tr>\n",
       "    <tr>\n",
       "      <th>2</th>\n",
       "      <td>@ArwanAhmad-z8g</td>\n",
       "      <td>2024-07-26T02:16:40Z</td>\n",
       "      <td>ikn jalan terus hebat semangat maju terus indo...</td>\n",
       "      <td>0</td>\n",
       "      <td>ikn keep going great keep up the spirit of pro...</td>\n",
       "      <td>positif</td>\n",
       "    </tr>\n",
       "    <tr>\n",
       "      <th>3</th>\n",
       "      <td>@harunindrapratama5497</td>\n",
       "      <td>2024-07-18T18:14:51Z</td>\n",
       "      <td>orang bodoh penjilat</td>\n",
       "      <td>0</td>\n",
       "      <td>a sycophantic fool</td>\n",
       "      <td>negatif</td>\n",
       "    </tr>\n",
       "    <tr>\n",
       "      <th>4</th>\n",
       "      <td>@istachondoni198</td>\n",
       "      <td>2024-07-18T10:27:29Z</td>\n",
       "      <td>setuju</td>\n",
       "      <td>0</td>\n",
       "      <td>agree</td>\n",
       "      <td>positif</td>\n",
       "    </tr>\n",
       "  </tbody>\n",
       "</table>\n",
       "</div>"
      ],
      "text/plain": [
       "                         author          published_at  \\\n",
       "0  @MaulanaMaulanamaulana-eo5fl  2024-09-20T04:15:25Z   \n",
       "1                   @daryanto07  2024-08-01T00:45:05Z   \n",
       "2               @ArwanAhmad-z8g  2024-07-26T02:16:40Z   \n",
       "3        @harunindrapratama5497  2024-07-18T18:14:51Z   \n",
       "4              @istachondoni198  2024-07-18T10:27:29Z   \n",
       "\n",
       "                                             comment  like  \\\n",
       "0  ikn di buka untuk umum indah nya kota ikn di t...     0   \n",
       "1  masuk akal nggak sih mulai dibangun tahun punc...     0   \n",
       "2  ikn jalan terus hebat semangat maju terus indo...     0   \n",
       "3                               orang bodoh penjilat     0   \n",
       "4                                             setuju     0   \n",
       "\n",
       "                                          en_comment    label  \n",
       "0  ikn is open to the publicthe beauty of the ikn...  positif  \n",
       "1  does it make sense starting construction in pe...  positif  \n",
       "2  ikn keep going great keep up the spirit of pro...  positif  \n",
       "3                                 a sycophantic fool  negatif  \n",
       "4                                              agree  positif  "
      ]
     },
     "execution_count": 2,
     "metadata": {},
     "output_type": "execute_result"
    }
   ],
   "source": [
    "df = pd.read_csv(\"label_comment.csv\", index_col=\"Unnamed: 0\")\n",
    "df.head()"
   ]
  },
  {
   "cell_type": "code",
   "execution_count": 3,
   "id": "8ed8f34a-9462-489f-bda5-3d2840485184",
   "metadata": {},
   "outputs": [],
   "source": [
    "df = df.drop(columns=[\"author\", \"published_at\", \"like\", \"en_comment\"])"
   ]
  },
  {
   "cell_type": "code",
   "execution_count": 4,
   "id": "2d52acd6-9977-469e-a75d-e6b8dc1e3b0e",
   "metadata": {},
   "outputs": [
    {
     "data": {
      "text/html": [
       "<div>\n",
       "<style scoped>\n",
       "    .dataframe tbody tr th:only-of-type {\n",
       "        vertical-align: middle;\n",
       "    }\n",
       "\n",
       "    .dataframe tbody tr th {\n",
       "        vertical-align: top;\n",
       "    }\n",
       "\n",
       "    .dataframe thead th {\n",
       "        text-align: right;\n",
       "    }\n",
       "</style>\n",
       "<table border=\"1\" class=\"dataframe\">\n",
       "  <thead>\n",
       "    <tr style=\"text-align: right;\">\n",
       "      <th></th>\n",
       "      <th>comment</th>\n",
       "      <th>label</th>\n",
       "    </tr>\n",
       "  </thead>\n",
       "  <tbody>\n",
       "    <tr>\n",
       "      <th>0</th>\n",
       "      <td>ikn di buka untuk umum indah nya kota ikn di t...</td>\n",
       "      <td>positif</td>\n",
       "    </tr>\n",
       "    <tr>\n",
       "      <th>1</th>\n",
       "      <td>masuk akal nggak sih mulai dibangun tahun punc...</td>\n",
       "      <td>positif</td>\n",
       "    </tr>\n",
       "    <tr>\n",
       "      <th>2</th>\n",
       "      <td>ikn jalan terus hebat semangat maju terus indo...</td>\n",
       "      <td>positif</td>\n",
       "    </tr>\n",
       "    <tr>\n",
       "      <th>3</th>\n",
       "      <td>orang bodoh penjilat</td>\n",
       "      <td>negatif</td>\n",
       "    </tr>\n",
       "    <tr>\n",
       "      <th>4</th>\n",
       "      <td>setuju</td>\n",
       "      <td>positif</td>\n",
       "    </tr>\n",
       "  </tbody>\n",
       "</table>\n",
       "</div>"
      ],
      "text/plain": [
       "                                             comment    label\n",
       "0  ikn di buka untuk umum indah nya kota ikn di t...  positif\n",
       "1  masuk akal nggak sih mulai dibangun tahun punc...  positif\n",
       "2  ikn jalan terus hebat semangat maju terus indo...  positif\n",
       "3                               orang bodoh penjilat  negatif\n",
       "4                                             setuju  positif"
      ]
     },
     "execution_count": 4,
     "metadata": {},
     "output_type": "execute_result"
    }
   ],
   "source": [
    "df.head()"
   ]
  },
  {
   "cell_type": "code",
   "execution_count": 5,
   "id": "28b8a394-9e22-4a8f-a804-25abeab502e3",
   "metadata": {},
   "outputs": [],
   "source": [
    "df.label = df.label.apply(lambda x: 1 if x == \"positif\" else 0)"
   ]
  },
  {
   "cell_type": "markdown",
   "id": "73533c52-597f-4512-97cf-5dae3ca9eb2e",
   "metadata": {},
   "source": [
    "# Dataset Splitting"
   ]
  },
  {
   "cell_type": "code",
   "execution_count": 7,
   "id": "ebf9f4b9-c050-4a27-baa2-da468bd43a31",
   "metadata": {},
   "outputs": [
    {
     "data": {
      "text/plain": [
       "((2457,), (615,), (2457,), (615,))"
      ]
     },
     "execution_count": 7,
     "metadata": {},
     "output_type": "execute_result"
    }
   ],
   "source": [
    "X = df['comment']\n",
    "y = df['label'].values\n",
    "X_train, X_test, y_train, y_test = train_test_split(X, y, test_size=0.2, stratify=y, random_state=42)\n",
    "X_train.shape, X_test.shape, y_train.shape, y_test.shape"
   ]
  },
  {
   "cell_type": "markdown",
   "id": "9a966383-a615-4e3f-95db-5dc6cc0a9d1c",
   "metadata": {},
   "source": [
    "## Tokenizer"
   ]
  },
  {
   "cell_type": "code",
   "execution_count": 8,
   "id": "40a9bdd1-a09b-4a1d-9bf4-eb82db11ce19",
   "metadata": {},
   "outputs": [
    {
     "name": "stderr",
     "output_type": "stream",
     "text": [
      "/home/zaens/miniconda3/envs/MachineLearning/lib/python3.12/site-packages/sklearn/feature_extraction/text.py:402: UserWarning: Your stop_words may be inconsistent with your preprocessing. Tokenizing the stop words generated tokens ['``'] not in stop_words.\n",
      "  warnings.warn(\n"
     ]
    }
   ],
   "source": [
    "tfidf = TfidfVectorizer(tokenizer=word_tokenize, stop_words=sw_indo, token_pattern=None)\n",
    "X_train = tfidf.fit_transform(X_train)\n",
    "X_test = tfidf.transform(X_test)"
   ]
  },
  {
   "cell_type": "code",
   "execution_count": 182,
   "id": "65d8070a-1b00-438f-b78d-e330b2cb1d67",
   "metadata": {},
   "outputs": [
    {
     "name": "stdout",
     "output_type": "stream",
     "text": [
      "(2457, 8297)\n"
     ]
    }
   ],
   "source": [
    "print(X_train.shape)"
   ]
  },
  {
   "cell_type": "markdown",
   "id": "2f5a4c4e-0123-4880-9783-2a405b5ce7b0",
   "metadata": {},
   "source": [
    "# Dataset & Dataloader"
   ]
  },
  {
   "cell_type": "code",
   "execution_count": 9,
   "id": "dfe9a021-d45e-449a-a8dd-bfb8b343ac02",
   "metadata": {},
   "outputs": [],
   "source": [
    "# from torchvision import datasets, transforms\n",
    "from torch.utils.data import DataLoader, TensorDataset"
   ]
  },
  {
   "cell_type": "code",
   "execution_count": 10,
   "id": "9ab03e06-a3cb-459c-8047-b4fa45d86413",
   "metadata": {},
   "outputs": [],
   "source": [
    "X_train = X_train.toarray()\n",
    "X_test = X_test.toarray()"
   ]
  },
  {
   "cell_type": "code",
   "execution_count": 13,
   "id": "6cef371b-5c90-49db-b67f-c30e944ee04a",
   "metadata": {
    "scrolled": true
   },
   "outputs": [],
   "source": [
    "X_train = torch.FloatTensor(X_train).to(device)\n",
    "X_test = torch.FloatTensor(X_test).to(device)\n",
    "y_train = torch.FloatTensor(y_train).to(device)\n",
    "y_test = torch.FloatTensor(y_test).to(device)"
   ]
  },
  {
   "cell_type": "code",
   "execution_count": null,
   "id": "d2723ee8-34fb-4a81-9ee0-ec993d6fcbbc",
   "metadata": {},
   "outputs": [],
   "source": []
  },
  {
   "cell_type": "code",
   "execution_count": 15,
   "id": "49e97060-2fee-4cde-9b8f-2f969245faa6",
   "metadata": {},
   "outputs": [],
   "source": [
    "bs = 128\n",
    "train_set = TensorDataset(X_train, y_train)\n",
    "test_set = TensorDataset(X_test, y_test)\n",
    "train_loader = DataLoader(train_set, batch_size=bs, shuffle=True)\n",
    "test_loader = DataLoader(test_set, batch_size=bs)"
   ]
  },
  {
   "cell_type": "markdown",
   "id": "1fd3e021-382d-405d-befb-25e8fd0ec4c1",
   "metadata": {},
   "source": [
    "# Arsitekstur & Config"
   ]
  },
  {
   "cell_type": "code",
   "execution_count": 16,
   "id": "9223be70-51e1-4779-aca6-f8182d17dbfb",
   "metadata": {},
   "outputs": [],
   "source": [
    "from jcopdl.layers import linear_block"
   ]
  },
  {
   "cell_type": "code",
   "execution_count": 20,
   "id": "ea7d09d9-6b16-41cf-be19-2e2896723b11",
   "metadata": {},
   "outputs": [],
   "source": [
    "class GRU(nn.Module):\n",
    "    def __init__(self, input_size, embedding_dim, output_size, hidden_size, num_layers, dropout):\n",
    "        super().__init__()\n",
    "        self.embedding = nn.Embedding(input_size, embedding_dim, padding_idx=0)\n",
    "        self.rnn = nn.GRU(embedding_dim, hidden_size, num_layers, dropout=dropout, batch_first=True)\n",
    "        self.fc = linear_block(hidden_size, output_size, activation=\"sigmoid\")\n",
    "    def forward(self, x, hidden):\n",
    "        x = self.embedding(x)\n",
    "        x, hidden = self.rnn(x, hidden)\n",
    "        x = self.fc(x)\n",
    "        return x, hidden\n"
   ]
  },
  {
   "cell_type": "code",
   "execution_count": 22,
   "id": "6592014a-f4c7-42c0-9aef-bf0ef3ca42e5",
   "metadata": {},
   "outputs": [],
   "source": [
    "config = set_config({\n",
    "    \"input_size\" : X_train.shape[1],\n",
    "    \"output_size\" : 1,\n",
    "    \"hidden_size\" : 64,\n",
    "    \"num_layers\" : 2,\n",
    "    \"dropout\" : 0,\n",
    "    \"seq_len\" : 1,\n",
    "    \"embedding_dim\":  64\n",
    "})"
   ]
  },
  {
   "cell_type": "code",
   "execution_count": null,
   "id": "1c07e04a-0982-4e33-9d9a-f309768d0966",
   "metadata": {},
   "outputs": [],
   "source": []
  },
  {
   "cell_type": "code",
   "execution_count": null,
   "id": "22de62a9-8906-4295-a05c-667afb00b046",
   "metadata": {},
   "outputs": [],
   "source": []
  },
  {
   "cell_type": "markdown",
   "id": "6049d314-5788-45ce-9bde-82770f98e7ed",
   "metadata": {},
   "source": [
    "# Training Preparation"
   ]
  },
  {
   "cell_type": "code",
   "execution_count": 23,
   "id": "14f1267c-808f-47fe-b8de-d88220db7de5",
   "metadata": {},
   "outputs": [],
   "source": [
    "model = GRU(config.input_size, config.output_size, config.embedding_dim,config.hidden_size, config.num_layers, config.dropout).to(device)\n",
    "criterion = nn.BCELoss(reduction=\"mean\")\n",
    "optimizer = optim.AdamW(model.parameters(), lr=0.001)\n",
    "callback = Callback(model, config=config, outdir=\"model/gru\")"
   ]
  },
  {
   "cell_type": "code",
   "execution_count": null,
   "id": "b0f75304-6561-4e1a-b48c-9a0db9a574b2",
   "metadata": {},
   "outputs": [],
   "source": []
  },
  {
   "cell_type": "markdown",
   "id": "455489af-7365-428c-8de3-06372b8b920f",
   "metadata": {},
   "source": [
    "# Training"
   ]
  },
  {
   "cell_type": "code",
   "execution_count": 24,
   "id": "219a0b6f-c707-4cbc-86de-206825fa37c7",
   "metadata": {},
   "outputs": [],
   "source": [
    "from tqdm.auto import tqdm\n",
    "def loop_fn(mode, dataset, dataloader, model, criterion, optimizer, device):\n",
    "    if mode == \"train\":\n",
    "        model.train()\n",
    "    elif mode == \"test\":\n",
    "        model.eval()\n",
    "    cost = 0\n",
    "    for feature, target in tqdm(dataloader, desc=mode.title()):\n",
    "        feature, target = feature.to(device), target.to(device)\n",
    "        output, _ = model(feature, None) # feedforward\n",
    "        output = output.squeeze()\n",
    "        loss = criterion(output, target)\n",
    "        if mode == \"train\":\n",
    "            loss.backward() # backpropragation\n",
    "            optimizer.step() # update weight\n",
    "            optimizer.zero_grad()\n",
    "        cost += loss.item() * feature.shape[0]\n",
    "    cost = cost / len(dataset)\n",
    "    return cost"
   ]
  },
  {
   "cell_type": "code",
   "execution_count": 25,
   "id": "ada457ad-ccf1-4588-8111-a4e0d5faf741",
   "metadata": {},
   "outputs": [
    {
     "data": {
      "application/vnd.jupyter.widget-view+json": {
       "model_id": "f03087f5c725457e983187353f9a3f69",
       "version_major": 2,
       "version_minor": 0
      },
      "text/plain": [
       "Train:   0%|          | 0/20 [00:00<?, ?it/s]"
      ]
     },
     "metadata": {},
     "output_type": "display_data"
    },
    {
     "ename": "RuntimeError",
     "evalue": "Expected tensor for argument #1 'indices' to have one of the following scalar types: Long, Int; but got torch.cuda.FloatTensor instead (while checking arguments for embedding)",
     "output_type": "error",
     "traceback": [
      "\u001b[0;31m---------------------------------------------------------------------------\u001b[0m",
      "\u001b[0;31mRuntimeError\u001b[0m                              Traceback (most recent call last)",
      "Cell \u001b[0;32mIn[25], line 2\u001b[0m\n\u001b[1;32m      1\u001b[0m \u001b[38;5;28;01mwhile\u001b[39;00m \u001b[38;5;28;01mTrue\u001b[39;00m:\n\u001b[0;32m----> 2\u001b[0m     train_cost \u001b[38;5;241m=\u001b[39m \u001b[43mloop_fn\u001b[49m\u001b[43m(\u001b[49m\u001b[38;5;124;43m\"\u001b[39;49m\u001b[38;5;124;43mtrain\u001b[39;49m\u001b[38;5;124;43m\"\u001b[39;49m\u001b[43m,\u001b[49m\u001b[43m \u001b[49m\u001b[43mtrain_set\u001b[49m\u001b[43m,\u001b[49m\u001b[43m \u001b[49m\u001b[43mtrain_loader\u001b[49m\u001b[43m,\u001b[49m\u001b[43m \u001b[49m\u001b[43mmodel\u001b[49m\u001b[43m,\u001b[49m\u001b[43m \u001b[49m\u001b[43mcriterion\u001b[49m\u001b[43m,\u001b[49m\u001b[43m \u001b[49m\u001b[43moptimizer\u001b[49m\u001b[43m,\u001b[49m\u001b[43m \u001b[49m\u001b[43mdevice\u001b[49m\u001b[43m)\u001b[49m\n\u001b[1;32m      3\u001b[0m     \u001b[38;5;28;01mwith\u001b[39;00m torch\u001b[38;5;241m.\u001b[39mno_grad():\n\u001b[1;32m      4\u001b[0m         test_cost \u001b[38;5;241m=\u001b[39m loop_fn(\u001b[38;5;124m\"\u001b[39m\u001b[38;5;124mtest\u001b[39m\u001b[38;5;124m\"\u001b[39m, test_set, test_loader, model, criterion, optimizer, device)\n",
      "Cell \u001b[0;32mIn[24], line 10\u001b[0m, in \u001b[0;36mloop_fn\u001b[0;34m(mode, dataset, dataloader, model, criterion, optimizer, device)\u001b[0m\n\u001b[1;32m      8\u001b[0m \u001b[38;5;28;01mfor\u001b[39;00m feature, target \u001b[38;5;129;01min\u001b[39;00m tqdm(dataloader, desc\u001b[38;5;241m=\u001b[39mmode\u001b[38;5;241m.\u001b[39mtitle()):\n\u001b[1;32m      9\u001b[0m     feature, target \u001b[38;5;241m=\u001b[39m feature\u001b[38;5;241m.\u001b[39mto(device), target\u001b[38;5;241m.\u001b[39mto(device)\n\u001b[0;32m---> 10\u001b[0m     output, _ \u001b[38;5;241m=\u001b[39m \u001b[43mmodel\u001b[49m\u001b[43m(\u001b[49m\u001b[43mfeature\u001b[49m\u001b[43m,\u001b[49m\u001b[43m \u001b[49m\u001b[38;5;28;43;01mNone\u001b[39;49;00m\u001b[43m)\u001b[49m \u001b[38;5;66;03m# feedforward\u001b[39;00m\n\u001b[1;32m     11\u001b[0m     output \u001b[38;5;241m=\u001b[39m output\u001b[38;5;241m.\u001b[39msqueeze()\n\u001b[1;32m     12\u001b[0m     loss \u001b[38;5;241m=\u001b[39m criterion(output, target)\n",
      "File \u001b[0;32m~/miniconda3/envs/MachineLearning/lib/python3.12/site-packages/torch/nn/modules/module.py:1736\u001b[0m, in \u001b[0;36mModule._wrapped_call_impl\u001b[0;34m(self, *args, **kwargs)\u001b[0m\n\u001b[1;32m   1734\u001b[0m     \u001b[38;5;28;01mreturn\u001b[39;00m \u001b[38;5;28mself\u001b[39m\u001b[38;5;241m.\u001b[39m_compiled_call_impl(\u001b[38;5;241m*\u001b[39margs, \u001b[38;5;241m*\u001b[39m\u001b[38;5;241m*\u001b[39mkwargs)  \u001b[38;5;66;03m# type: ignore[misc]\u001b[39;00m\n\u001b[1;32m   1735\u001b[0m \u001b[38;5;28;01melse\u001b[39;00m:\n\u001b[0;32m-> 1736\u001b[0m     \u001b[38;5;28;01mreturn\u001b[39;00m \u001b[38;5;28;43mself\u001b[39;49m\u001b[38;5;241;43m.\u001b[39;49m\u001b[43m_call_impl\u001b[49m\u001b[43m(\u001b[49m\u001b[38;5;241;43m*\u001b[39;49m\u001b[43margs\u001b[49m\u001b[43m,\u001b[49m\u001b[43m \u001b[49m\u001b[38;5;241;43m*\u001b[39;49m\u001b[38;5;241;43m*\u001b[39;49m\u001b[43mkwargs\u001b[49m\u001b[43m)\u001b[49m\n",
      "File \u001b[0;32m~/miniconda3/envs/MachineLearning/lib/python3.12/site-packages/torch/nn/modules/module.py:1747\u001b[0m, in \u001b[0;36mModule._call_impl\u001b[0;34m(self, *args, **kwargs)\u001b[0m\n\u001b[1;32m   1742\u001b[0m \u001b[38;5;66;03m# If we don't have any hooks, we want to skip the rest of the logic in\u001b[39;00m\n\u001b[1;32m   1743\u001b[0m \u001b[38;5;66;03m# this function, and just call forward.\u001b[39;00m\n\u001b[1;32m   1744\u001b[0m \u001b[38;5;28;01mif\u001b[39;00m \u001b[38;5;129;01mnot\u001b[39;00m (\u001b[38;5;28mself\u001b[39m\u001b[38;5;241m.\u001b[39m_backward_hooks \u001b[38;5;129;01mor\u001b[39;00m \u001b[38;5;28mself\u001b[39m\u001b[38;5;241m.\u001b[39m_backward_pre_hooks \u001b[38;5;129;01mor\u001b[39;00m \u001b[38;5;28mself\u001b[39m\u001b[38;5;241m.\u001b[39m_forward_hooks \u001b[38;5;129;01mor\u001b[39;00m \u001b[38;5;28mself\u001b[39m\u001b[38;5;241m.\u001b[39m_forward_pre_hooks\n\u001b[1;32m   1745\u001b[0m         \u001b[38;5;129;01mor\u001b[39;00m _global_backward_pre_hooks \u001b[38;5;129;01mor\u001b[39;00m _global_backward_hooks\n\u001b[1;32m   1746\u001b[0m         \u001b[38;5;129;01mor\u001b[39;00m _global_forward_hooks \u001b[38;5;129;01mor\u001b[39;00m _global_forward_pre_hooks):\n\u001b[0;32m-> 1747\u001b[0m     \u001b[38;5;28;01mreturn\u001b[39;00m \u001b[43mforward_call\u001b[49m\u001b[43m(\u001b[49m\u001b[38;5;241;43m*\u001b[39;49m\u001b[43margs\u001b[49m\u001b[43m,\u001b[49m\u001b[43m \u001b[49m\u001b[38;5;241;43m*\u001b[39;49m\u001b[38;5;241;43m*\u001b[39;49m\u001b[43mkwargs\u001b[49m\u001b[43m)\u001b[49m\n\u001b[1;32m   1749\u001b[0m result \u001b[38;5;241m=\u001b[39m \u001b[38;5;28;01mNone\u001b[39;00m\n\u001b[1;32m   1750\u001b[0m called_always_called_hooks \u001b[38;5;241m=\u001b[39m \u001b[38;5;28mset\u001b[39m()\n",
      "Cell \u001b[0;32mIn[20], line 8\u001b[0m, in \u001b[0;36mGRU.forward\u001b[0;34m(self, x, hidden)\u001b[0m\n\u001b[1;32m      7\u001b[0m \u001b[38;5;28;01mdef\u001b[39;00m \u001b[38;5;21mforward\u001b[39m(\u001b[38;5;28mself\u001b[39m, x, hidden):\n\u001b[0;32m----> 8\u001b[0m     x \u001b[38;5;241m=\u001b[39m \u001b[38;5;28;43mself\u001b[39;49m\u001b[38;5;241;43m.\u001b[39;49m\u001b[43membedding\u001b[49m\u001b[43m(\u001b[49m\u001b[43mx\u001b[49m\u001b[43m)\u001b[49m\n\u001b[1;32m      9\u001b[0m     x, hidden \u001b[38;5;241m=\u001b[39m \u001b[38;5;28mself\u001b[39m\u001b[38;5;241m.\u001b[39mrnn(x, hidden)\n\u001b[1;32m     10\u001b[0m     x \u001b[38;5;241m=\u001b[39m \u001b[38;5;28mself\u001b[39m\u001b[38;5;241m.\u001b[39mfc(x)\n",
      "File \u001b[0;32m~/miniconda3/envs/MachineLearning/lib/python3.12/site-packages/torch/nn/modules/module.py:1736\u001b[0m, in \u001b[0;36mModule._wrapped_call_impl\u001b[0;34m(self, *args, **kwargs)\u001b[0m\n\u001b[1;32m   1734\u001b[0m     \u001b[38;5;28;01mreturn\u001b[39;00m \u001b[38;5;28mself\u001b[39m\u001b[38;5;241m.\u001b[39m_compiled_call_impl(\u001b[38;5;241m*\u001b[39margs, \u001b[38;5;241m*\u001b[39m\u001b[38;5;241m*\u001b[39mkwargs)  \u001b[38;5;66;03m# type: ignore[misc]\u001b[39;00m\n\u001b[1;32m   1735\u001b[0m \u001b[38;5;28;01melse\u001b[39;00m:\n\u001b[0;32m-> 1736\u001b[0m     \u001b[38;5;28;01mreturn\u001b[39;00m \u001b[38;5;28;43mself\u001b[39;49m\u001b[38;5;241;43m.\u001b[39;49m\u001b[43m_call_impl\u001b[49m\u001b[43m(\u001b[49m\u001b[38;5;241;43m*\u001b[39;49m\u001b[43margs\u001b[49m\u001b[43m,\u001b[49m\u001b[43m \u001b[49m\u001b[38;5;241;43m*\u001b[39;49m\u001b[38;5;241;43m*\u001b[39;49m\u001b[43mkwargs\u001b[49m\u001b[43m)\u001b[49m\n",
      "File \u001b[0;32m~/miniconda3/envs/MachineLearning/lib/python3.12/site-packages/torch/nn/modules/module.py:1747\u001b[0m, in \u001b[0;36mModule._call_impl\u001b[0;34m(self, *args, **kwargs)\u001b[0m\n\u001b[1;32m   1742\u001b[0m \u001b[38;5;66;03m# If we don't have any hooks, we want to skip the rest of the logic in\u001b[39;00m\n\u001b[1;32m   1743\u001b[0m \u001b[38;5;66;03m# this function, and just call forward.\u001b[39;00m\n\u001b[1;32m   1744\u001b[0m \u001b[38;5;28;01mif\u001b[39;00m \u001b[38;5;129;01mnot\u001b[39;00m (\u001b[38;5;28mself\u001b[39m\u001b[38;5;241m.\u001b[39m_backward_hooks \u001b[38;5;129;01mor\u001b[39;00m \u001b[38;5;28mself\u001b[39m\u001b[38;5;241m.\u001b[39m_backward_pre_hooks \u001b[38;5;129;01mor\u001b[39;00m \u001b[38;5;28mself\u001b[39m\u001b[38;5;241m.\u001b[39m_forward_hooks \u001b[38;5;129;01mor\u001b[39;00m \u001b[38;5;28mself\u001b[39m\u001b[38;5;241m.\u001b[39m_forward_pre_hooks\n\u001b[1;32m   1745\u001b[0m         \u001b[38;5;129;01mor\u001b[39;00m _global_backward_pre_hooks \u001b[38;5;129;01mor\u001b[39;00m _global_backward_hooks\n\u001b[1;32m   1746\u001b[0m         \u001b[38;5;129;01mor\u001b[39;00m _global_forward_hooks \u001b[38;5;129;01mor\u001b[39;00m _global_forward_pre_hooks):\n\u001b[0;32m-> 1747\u001b[0m     \u001b[38;5;28;01mreturn\u001b[39;00m \u001b[43mforward_call\u001b[49m\u001b[43m(\u001b[49m\u001b[38;5;241;43m*\u001b[39;49m\u001b[43margs\u001b[49m\u001b[43m,\u001b[49m\u001b[43m \u001b[49m\u001b[38;5;241;43m*\u001b[39;49m\u001b[38;5;241;43m*\u001b[39;49m\u001b[43mkwargs\u001b[49m\u001b[43m)\u001b[49m\n\u001b[1;32m   1749\u001b[0m result \u001b[38;5;241m=\u001b[39m \u001b[38;5;28;01mNone\u001b[39;00m\n\u001b[1;32m   1750\u001b[0m called_always_called_hooks \u001b[38;5;241m=\u001b[39m \u001b[38;5;28mset\u001b[39m()\n",
      "File \u001b[0;32m~/miniconda3/envs/MachineLearning/lib/python3.12/site-packages/torch/nn/modules/sparse.py:190\u001b[0m, in \u001b[0;36mEmbedding.forward\u001b[0;34m(self, input)\u001b[0m\n\u001b[1;32m    189\u001b[0m \u001b[38;5;28;01mdef\u001b[39;00m \u001b[38;5;21mforward\u001b[39m(\u001b[38;5;28mself\u001b[39m, \u001b[38;5;28minput\u001b[39m: Tensor) \u001b[38;5;241m-\u001b[39m\u001b[38;5;241m>\u001b[39m Tensor:\n\u001b[0;32m--> 190\u001b[0m     \u001b[38;5;28;01mreturn\u001b[39;00m \u001b[43mF\u001b[49m\u001b[38;5;241;43m.\u001b[39;49m\u001b[43membedding\u001b[49m\u001b[43m(\u001b[49m\n\u001b[1;32m    191\u001b[0m \u001b[43m        \u001b[49m\u001b[38;5;28;43minput\u001b[39;49m\u001b[43m,\u001b[49m\n\u001b[1;32m    192\u001b[0m \u001b[43m        \u001b[49m\u001b[38;5;28;43mself\u001b[39;49m\u001b[38;5;241;43m.\u001b[39;49m\u001b[43mweight\u001b[49m\u001b[43m,\u001b[49m\n\u001b[1;32m    193\u001b[0m \u001b[43m        \u001b[49m\u001b[38;5;28;43mself\u001b[39;49m\u001b[38;5;241;43m.\u001b[39;49m\u001b[43mpadding_idx\u001b[49m\u001b[43m,\u001b[49m\n\u001b[1;32m    194\u001b[0m \u001b[43m        \u001b[49m\u001b[38;5;28;43mself\u001b[39;49m\u001b[38;5;241;43m.\u001b[39;49m\u001b[43mmax_norm\u001b[49m\u001b[43m,\u001b[49m\n\u001b[1;32m    195\u001b[0m \u001b[43m        \u001b[49m\u001b[38;5;28;43mself\u001b[39;49m\u001b[38;5;241;43m.\u001b[39;49m\u001b[43mnorm_type\u001b[49m\u001b[43m,\u001b[49m\n\u001b[1;32m    196\u001b[0m \u001b[43m        \u001b[49m\u001b[38;5;28;43mself\u001b[39;49m\u001b[38;5;241;43m.\u001b[39;49m\u001b[43mscale_grad_by_freq\u001b[49m\u001b[43m,\u001b[49m\n\u001b[1;32m    197\u001b[0m \u001b[43m        \u001b[49m\u001b[38;5;28;43mself\u001b[39;49m\u001b[38;5;241;43m.\u001b[39;49m\u001b[43msparse\u001b[49m\u001b[43m,\u001b[49m\n\u001b[1;32m    198\u001b[0m \u001b[43m    \u001b[49m\u001b[43m)\u001b[49m\n",
      "File \u001b[0;32m~/miniconda3/envs/MachineLearning/lib/python3.12/site-packages/torch/nn/functional.py:2551\u001b[0m, in \u001b[0;36membedding\u001b[0;34m(input, weight, padding_idx, max_norm, norm_type, scale_grad_by_freq, sparse)\u001b[0m\n\u001b[1;32m   2545\u001b[0m     \u001b[38;5;66;03m# Note [embedding_renorm set_grad_enabled]\u001b[39;00m\n\u001b[1;32m   2546\u001b[0m     \u001b[38;5;66;03m# XXX: equivalent to\u001b[39;00m\n\u001b[1;32m   2547\u001b[0m     \u001b[38;5;66;03m# with torch.no_grad():\u001b[39;00m\n\u001b[1;32m   2548\u001b[0m     \u001b[38;5;66;03m#   torch.embedding_renorm_\u001b[39;00m\n\u001b[1;32m   2549\u001b[0m     \u001b[38;5;66;03m# remove once script supports set_grad_enabled\u001b[39;00m\n\u001b[1;32m   2550\u001b[0m     _no_grad_embedding_renorm_(weight, \u001b[38;5;28minput\u001b[39m, max_norm, norm_type)\n\u001b[0;32m-> 2551\u001b[0m \u001b[38;5;28;01mreturn\u001b[39;00m \u001b[43mtorch\u001b[49m\u001b[38;5;241;43m.\u001b[39;49m\u001b[43membedding\u001b[49m\u001b[43m(\u001b[49m\u001b[43mweight\u001b[49m\u001b[43m,\u001b[49m\u001b[43m \u001b[49m\u001b[38;5;28;43minput\u001b[39;49m\u001b[43m,\u001b[49m\u001b[43m \u001b[49m\u001b[43mpadding_idx\u001b[49m\u001b[43m,\u001b[49m\u001b[43m \u001b[49m\u001b[43mscale_grad_by_freq\u001b[49m\u001b[43m,\u001b[49m\u001b[43m \u001b[49m\u001b[43msparse\u001b[49m\u001b[43m)\u001b[49m\n",
      "\u001b[0;31mRuntimeError\u001b[0m: Expected tensor for argument #1 'indices' to have one of the following scalar types: Long, Int; but got torch.cuda.FloatTensor instead (while checking arguments for embedding)"
     ]
    }
   ],
   "source": [
    "while True:\n",
    "    train_cost = loop_fn(\"train\", train_set, train_loader, model, criterion, optimizer, device)\n",
    "    with torch.no_grad():\n",
    "        test_cost = loop_fn(\"test\", test_set, test_loader, model, criterion, optimizer, device)\n",
    "    # Logging\n",
    "    callback.log(train_cost, test_cost)\n",
    "    # Save CheckPoint\n",
    "    callback.save_checkpoint()\n",
    "\n",
    "    # Runtime Plotting\n",
    "    callback.cost_runtime_plotting()\n",
    "    # Early Stopping\n",
    "    if callback.early_stopping(model, monitor=\"test_cost\"):\n",
    "        callback.plot_cost()\n",
    "        break"
   ]
  },
  {
   "cell_type": "code",
   "execution_count": 212,
   "id": "928860c0-ef69-4527-978b-61277d4001e4",
   "metadata": {},
   "outputs": [
    {
     "name": "stdout",
     "output_type": "stream",
     "text": [
      "[tensor([[0., 0., 0.,  ..., 0., 0., 0.],\n",
      "        [0., 0., 0.,  ..., 0., 0., 0.],\n",
      "        [0., 0., 0.,  ..., 0., 0., 0.],\n",
      "        ...,\n",
      "        [0., 0., 0.,  ..., 0., 0., 0.],\n",
      "        [0., 0., 0.,  ..., 0., 0., 0.],\n",
      "        [0., 0., 0.,  ..., 0., 0., 0.]], device='cuda:0'), tensor([0, 1, 0, 0, 0, 1, 0, 1, 1, 1, 0, 1, 1, 0, 1, 0, 1, 1, 1, 1, 1, 1, 1, 0,\n",
      "        1, 1, 1, 1, 1, 1, 1, 1, 1, 1, 1, 0, 1, 1, 1, 0, 1, 1, 1, 0, 0, 1, 0, 1,\n",
      "        1, 1, 1, 1, 1, 0, 1, 1, 1, 1, 1, 1, 1, 1, 1, 0, 1, 1, 1, 1, 1, 0, 1, 1,\n",
      "        1, 1, 1, 1, 1, 1, 1, 0, 0, 1, 1, 0, 1, 1, 0, 1, 1, 1, 1, 1, 1, 1, 0, 0,\n",
      "        1, 1, 1, 1, 1, 1, 0, 0, 1, 1, 1, 0, 0, 1, 1, 1, 1, 1, 1, 1, 0, 1, 1, 0,\n",
      "        1, 0, 1, 1, 1, 1, 0, 0], device='cuda:0')]\n"
     ]
    }
   ],
   "source": [
    "for data in train_loader:\n",
    "    print(data)\n",
    "    break"
   ]
  },
  {
   "cell_type": "code",
   "execution_count": null,
   "id": "5f1d839e-bf10-4e0e-8a31-bee845de9be3",
   "metadata": {},
   "outputs": [],
   "source": []
  },
  {
   "cell_type": "code",
   "execution_count": null,
   "id": "7bab9844-d028-421e-8930-59accb55926b",
   "metadata": {},
   "outputs": [],
   "source": []
  }
 ],
 "metadata": {
  "kernelspec": {
   "display_name": "Python [conda env:MachineLearning] *",
   "language": "python",
   "name": "conda-env-MachineLearning-py"
  },
  "language_info": {
   "codemirror_mode": {
    "name": "ipython",
    "version": 3
   },
   "file_extension": ".py",
   "mimetype": "text/x-python",
   "name": "python",
   "nbconvert_exporter": "python",
   "pygments_lexer": "ipython3",
   "version": "3.12.8"
  }
 },
 "nbformat": 4,
 "nbformat_minor": 5
}
