{
 "cells": [
  {
   "cell_type": "markdown",
   "id": "48045c43-dfd5-4df4-8170-fe1df0493694",
   "metadata": {},
   "source": [
    "## Import Library"
   ]
  },
  {
   "cell_type": "code",
   "execution_count": 1,
   "id": "d772da2f-1008-4c69-a977-9faca7884311",
   "metadata": {},
   "outputs": [],
   "source": [
    "from torch.utils.data import Dataset, DataLoader\n",
    "from torch.nn.utils.rnn import pad_sequence\n",
    "from sklearn.model_selection import train_test_split\n",
    "from deep_translator import GoogleTranslator\n",
    "from nltk.tokenize import sent_tokenize, word_tokenize\n",
    "from sklearn.feature_extraction.text import TfidfVectorizer\n",
    "from vaderSentiment.vaderSentiment import SentimentIntensityAnalyzer\n",
    "from nltk.corpus import stopwords\n",
    "from string import punctuation\n",
    "import torch\n",
    "from torch import nn, optim\n",
    "from sklearn.preprocessing import LabelEncoder\n",
    "import pandas as pd\n",
    "import numpy as np\n",
    "from jcopdl.callback import Callback, set_config\n",
    "from Sastrawi.Stemmer.StemmerFactory import StemmerFactory\n",
    "sw_indo = stopwords.words(\"indonesian\") + list(punctuation)"
   ]
  },
  {
   "cell_type": "code",
   "execution_count": 2,
   "id": "b7ebd2b4-2fd9-4e2d-864f-4f252c65c19a",
   "metadata": {},
   "outputs": [
    {
     "data": {
      "text/plain": [
       "device(type='cuda')"
      ]
     },
     "execution_count": 2,
     "metadata": {},
     "output_type": "execute_result"
    }
   ],
   "source": [
    "device = torch.device(\"cuda\" if torch.cuda.is_available() else \"cpu\")\n",
    "device"
   ]
  },
  {
   "cell_type": "code",
   "execution_count": 3,
   "id": "426674f5-6dd5-4e04-aafd-22f86eaeed5c",
   "metadata": {},
   "outputs": [
    {
     "data": {
      "text/html": [
       "<div>\n",
       "<style scoped>\n",
       "    .dataframe tbody tr th:only-of-type {\n",
       "        vertical-align: middle;\n",
       "    }\n",
       "\n",
       "    .dataframe tbody tr th {\n",
       "        vertical-align: top;\n",
       "    }\n",
       "\n",
       "    .dataframe thead th {\n",
       "        text-align: right;\n",
       "    }\n",
       "</style>\n",
       "<table border=\"1\" class=\"dataframe\">\n",
       "  <thead>\n",
       "    <tr style=\"text-align: right;\">\n",
       "      <th></th>\n",
       "      <th>Unnamed: 0</th>\n",
       "      <th>author</th>\n",
       "      <th>published_at</th>\n",
       "      <th>comment</th>\n",
       "      <th>like</th>\n",
       "    </tr>\n",
       "  </thead>\n",
       "  <tbody>\n",
       "    <tr>\n",
       "      <th>0</th>\n",
       "      <td>0</td>\n",
       "      <td>@MaulanaMaulanamaulana-eo5fl</td>\n",
       "      <td>2024-09-20T04:15:25Z</td>\n",
       "      <td>Ikn di buka untuk umum ...indah nya kota ikn d...</td>\n",
       "      <td>0</td>\n",
       "    </tr>\n",
       "    <tr>\n",
       "      <th>1</th>\n",
       "      <td>1</td>\n",
       "      <td>@daryanto07</td>\n",
       "      <td>2024-08-01T00:45:05Z</td>\n",
       "      <td>Masuk akal nggak sih, mulai dibangun tahun 202...</td>\n",
       "      <td>0</td>\n",
       "    </tr>\n",
       "    <tr>\n",
       "      <th>2</th>\n",
       "      <td>2</td>\n",
       "      <td>@ArwanAhmad-z8g</td>\n",
       "      <td>2024-07-26T02:16:40Z</td>\n",
       "      <td>Ikn jalan terus hebat .semangat maju terus ind...</td>\n",
       "      <td>0</td>\n",
       "    </tr>\n",
       "    <tr>\n",
       "      <th>3</th>\n",
       "      <td>3</td>\n",
       "      <td>@harunindrapratama5497</td>\n",
       "      <td>2024-07-18T18:14:51Z</td>\n",
       "      <td>Orang bodoh penjilat</td>\n",
       "      <td>0</td>\n",
       "    </tr>\n",
       "    <tr>\n",
       "      <th>4</th>\n",
       "      <td>4</td>\n",
       "      <td>@istachondoni198</td>\n",
       "      <td>2024-07-18T10:27:29Z</td>\n",
       "      <td>setuju</td>\n",
       "      <td>0</td>\n",
       "    </tr>\n",
       "  </tbody>\n",
       "</table>\n",
       "</div>"
      ],
      "text/plain": [
       "   Unnamed: 0                        author          published_at  \\\n",
       "0           0  @MaulanaMaulanamaulana-eo5fl  2024-09-20T04:15:25Z   \n",
       "1           1                   @daryanto07  2024-08-01T00:45:05Z   \n",
       "2           2               @ArwanAhmad-z8g  2024-07-26T02:16:40Z   \n",
       "3           3        @harunindrapratama5497  2024-07-18T18:14:51Z   \n",
       "4           4              @istachondoni198  2024-07-18T10:27:29Z   \n",
       "\n",
       "                                             comment  like  \n",
       "0  Ikn di buka untuk umum ...indah nya kota ikn d...     0  \n",
       "1  Masuk akal nggak sih, mulai dibangun tahun 202...     0  \n",
       "2  Ikn jalan terus hebat .semangat maju terus ind...     0  \n",
       "3                               Orang bodoh penjilat     0  \n",
       "4                                             setuju     0  "
      ]
     },
     "execution_count": 3,
     "metadata": {},
     "output_type": "execute_result"
    }
   ],
   "source": [
    "# Load data from CSV\n",
    "df = pd.read_csv(\"youtube_comments.csv\")\n",
    "df.head()"
   ]
  },
  {
   "cell_type": "markdown",
   "id": "257d556a-82df-4d30-9639-f8f7f8fce11e",
   "metadata": {},
   "source": [
    "# Preprocessing Data Crawling"
   ]
  },
  {
   "cell_type": "markdown",
   "id": "17cfbe70-5a80-4fb0-bfb3-de3594c7545b",
   "metadata": {},
   "source": [
    "## Translate"
   ]
  },
  {
   "cell_type": "code",
   "execution_count": 21,
   "id": "11660cb8-91ea-41af-ac92-7aa615e3c5b8",
   "metadata": {},
   "outputs": [],
   "source": [
    "def translate_comment(comment):\n",
    "    if len(comment) < 5000:\n",
    "        return GoogleTranslator(source='auto', target='en').translate(comment)\n",
    "    else:\n",
    "        sentences = sent_tokenize(comment)\n",
    "        return \" \".join([GoogleTranslator(source='auto', target='en').translate(sentence) for sentence in sentences])"
   ]
  },
  {
   "cell_type": "code",
   "execution_count": 22,
   "id": "a8e5a405-9ac3-477f-817c-4f43dccda0a3",
   "metadata": {},
   "outputs": [],
   "source": [
    "# df[\"en_comment\"] = df.comment.apply(translate_comment)"
   ]
  },
  {
   "cell_type": "code",
   "execution_count": 23,
   "id": "20695217-bfe8-499f-86fa-c9f69cde820a",
   "metadata": {},
   "outputs": [],
   "source": [
    "# df.to_csv(\"en_comments.csv\")"
   ]
  },
  {
   "cell_type": "markdown",
   "id": "2869b4ba-a495-4afc-b040-3c33472e96f4",
   "metadata": {},
   "source": [
    "## Drop Missing Value"
   ]
  },
  {
   "cell_type": "code",
   "execution_count": 25,
   "id": "f8a42e91-ccd2-4aa2-99d1-4be84d22b71d",
   "metadata": {},
   "outputs": [],
   "source": [
    "# df.isnull().sum()"
   ]
  },
  {
   "cell_type": "code",
   "execution_count": 27,
   "id": "f7c93114-2fcc-4309-ba25-5841653c0e8b",
   "metadata": {},
   "outputs": [],
   "source": [
    "# df.dropna(inplace=True)"
   ]
  },
  {
   "cell_type": "code",
   "execution_count": 29,
   "id": "0758f712-b86b-4809-ac58-d3ff4b9fd421",
   "metadata": {},
   "outputs": [],
   "source": [
    "# df.isnull().sum()"
   ]
  },
  {
   "cell_type": "markdown",
   "id": "655f1461-67a5-49ed-9fde-aebb47bc9f79",
   "metadata": {},
   "source": [
    "## Cleaning"
   ]
  },
  {
   "cell_type": "code",
   "execution_count": 30,
   "id": "45f6ecda-2c83-4fc9-8096-99be0e997c33",
   "metadata": {},
   "outputs": [],
   "source": [
    "def clean_text(text):\n",
    "    text = re.sub(r'[^a-zA-Z\\s]', '', text)  # Remove non-alphanumeric characters\n",
    "    text = text.lower()  # Convert to lowercase\n",
    "    text = re.sub(r'\\s+', ' ', text).strip()  # Remove extra spaces\n",
    "    emoji_pattern = re.compile(\"[\"\n",
    "        u\"\\U0001F600-\\U0001F64F\"  # emoticons\n",
    "        u\"\\U0001F300-\\U0001F5FF\"  # symbols & pictographs\n",
    "        u\"\\U0001F680-\\U0001F6FF\"  # transport & map symbols\n",
    "        u\"\\U0001F1E0-\\U0001F1FF\"  # flags (iOS)\n",
    "                           \"]+\", flags=re.UNICODE)\n",
    "    text = emoji_pattern.sub(r'', text)\n",
    "    return text"
   ]
  },
  {
   "cell_type": "code",
   "execution_count": 31,
   "id": "2241c11b-1937-485c-b818-2e891a709ac0",
   "metadata": {},
   "outputs": [],
   "source": [
    "# df.en_comment = df.en_comment.apply(clean_text)\n",
    "# df.comment = df.comment.apply(clean_text)"
   ]
  },
  {
   "cell_type": "code",
   "execution_count": 32,
   "id": "ef068555-4f07-493d-bfba-d43d61b5a6d6",
   "metadata": {},
   "outputs": [],
   "source": [
    "# df.to_csv(\"clean_comments.csv\", index=False)"
   ]
  },
  {
   "cell_type": "markdown",
   "id": "8118dac9-8b26-4643-abd3-ea77ad21a8ff",
   "metadata": {},
   "source": [
    "## Labelling"
   ]
  },
  {
   "cell_type": "code",
   "execution_count": 33,
   "id": "36a1e57a-0263-4ad1-97f4-ed5b5c8a0871",
   "metadata": {},
   "outputs": [],
   "source": [
    "def labeling(comment):\n",
    "    sentiment = SentimentIntensityAnalyzer()\n",
    "    x = sentiment.polarity_scores(comment)\n",
    "    # print(x)\n",
    "    if x[\"compound\"] >= 0:\n",
    "        return \"positif\"\n",
    "    else:\n",
    "        return \"negatif\"\n",
    "    # return \"positif\" if x[\"compound\"] >= 0 else \"negatif\""
   ]
  },
  {
   "cell_type": "code",
   "execution_count": 34,
   "id": "d5590501-ce84-49ca-9e96-11250f1fee35",
   "metadata": {},
   "outputs": [],
   "source": [
    "# df[\"label\"] = df[\"en_comment\"].apply(labeling)"
   ]
  },
  {
   "cell_type": "code",
   "execution_count": null,
   "id": "d619517e-edd0-4acc-85d8-db91342870fe",
   "metadata": {},
   "outputs": [],
   "source": [
    "# df = df.drop(columns=[\"author\", \"published_at\", \"like\", \"en_comment\"])"
   ]
  },
  {
   "cell_type": "code",
   "execution_count": 36,
   "id": "abf49efc-83ba-484b-8b18-f6f718a1d345",
   "metadata": {},
   "outputs": [],
   "source": [
    "# df.to_csv(\"label_comment.csv\")"
   ]
  },
  {
   "cell_type": "markdown",
   "id": "c1871b22-2a42-46a6-8dff-6106236f0248",
   "metadata": {},
   "source": [
    "# Load dataset"
   ]
  },
  {
   "cell_type": "code",
   "execution_count": 4,
   "id": "10230749-a443-4829-9d34-6d54ba14a2fc",
   "metadata": {},
   "outputs": [],
   "source": [
    "# Load data from CSV\n",
    "data = pd.read_csv(\"label_comment.csv\")\n"
   ]
  },
  {
   "cell_type": "markdown",
   "id": "ce1ad2a4-6f72-4f45-823c-cd6f2b5e5906",
   "metadata": {},
   "source": [
    "## Stemming"
   ]
  },
  {
   "cell_type": "code",
   "execution_count": 44,
   "id": "ce2e7835-f036-4b16-9f60-5bd24803d70a",
   "metadata": {},
   "outputs": [],
   "source": [
    "# factory = StemmerFactory()\n",
    "# stemmer = factory.create_stemmer()\n",
    "# stemmer.stem()\n",
    "# def stem(text):\n",
    "#     return stemmer.stem(text.lower())\n",
    "# data[\"comment\"] = data[\"comment\"].apply(stem)"
   ]
  },
  {
   "cell_type": "code",
   "execution_count": 12,
   "id": "ad4799d0-97e6-4b88-8633-691fed41d309",
   "metadata": {},
   "outputs": [],
   "source": [
    "data.to_csv(\"stem_comment.csv\", index=False)"
   ]
  },
  {
   "cell_type": "code",
   "execution_count": 6,
   "id": "0469e085-edca-4681-9e61-4c832e96c1da",
   "metadata": {},
   "outputs": [],
   "source": [
    "sentences = data[\"comment\"].values\n",
    "labels = data[\"label\"].values"
   ]
  },
  {
   "cell_type": "markdown",
   "id": "45f33faa-f6ee-4479-82fb-9b7fb84c45ab",
   "metadata": {},
   "source": [
    "# Tokenisasi"
   ]
  },
  {
   "cell_type": "code",
   "execution_count": 7,
   "id": "a5dcaf1c-9db2-467d-998a-8ddbc47fbc0c",
   "metadata": {},
   "outputs": [],
   "source": [
    "def tokenize_and_pad(sentences, vocab, pad_length=10):\n",
    "    tokenized = [[vocab[word] if word in vocab else vocab['<UNK>'] for word in word_tokenize(sentence.lower())] for sentence in sentences]\n",
    "    padded = [seq[:pad_length] + [vocab['<PAD>']] * (pad_length - len(seq)) if len(seq) < pad_length else seq[:pad_length] for seq in tokenized]\n",
    "    return padded"
   ]
  },
  {
   "cell_type": "markdown",
   "id": "008007c5-9666-4b16-b22c-6c8b80d4defd",
   "metadata": {},
   "source": [
    "# Vocabulary"
   ]
  },
  {
   "cell_type": "code",
   "execution_count": 8,
   "id": "53a5194d-aa6b-47cf-8dde-7ff1114b2e12",
   "metadata": {},
   "outputs": [],
   "source": [
    "# Vocabulary preparation\n",
    "all_words = set(word for sentence in sentences for word in word_tokenize(sentence.lower()))\n",
    "vocab = {word: idx + 2 for idx, word in enumerate(all_words)}  # Start index from 2\n",
    "vocab['<PAD>'] = 0\n",
    "vocab['<UNK>'] = 1"
   ]
  },
  {
   "cell_type": "markdown",
   "id": "e45a30ca-c421-4d83-a5fb-1b64241dc695",
   "metadata": {},
   "source": [
    "# Encoding"
   ]
  },
  {
   "cell_type": "code",
   "execution_count": 9,
   "id": "fde084e1-24d4-42e7-90ef-f4aaa066c5c1",
   "metadata": {},
   "outputs": [],
   "source": [
    "# Encode sentences and labels\n",
    "encoded_sentences = tokenize_and_pad(sentences, vocab)\n",
    "label_encoder = LabelEncoder()\n",
    "encoded_labels = label_encoder.fit_transform(labels)\n"
   ]
  },
  {
   "cell_type": "markdown",
   "id": "5a6f143c-ada5-445e-ae37-6a3dad1e0d00",
   "metadata": {},
   "source": [
    "# Dataset Splitting"
   ]
  },
  {
   "cell_type": "code",
   "execution_count": 10,
   "id": "44928a0b-777c-4568-8388-65d36f14639b",
   "metadata": {},
   "outputs": [],
   "source": [
    "# Train-test split\n",
    "X_train, X_test, y_train, y_test = train_test_split(encoded_sentences, encoded_labels, test_size=0.2, random_state=42)"
   ]
  },
  {
   "cell_type": "code",
   "execution_count": 11,
   "id": "1e2af02e-fe51-4ed1-8231-7f1032b27b7f",
   "metadata": {},
   "outputs": [],
   "source": [
    "# Dataset class\n",
    "class SentimentDataset(Dataset):\n",
    "    def __init__(self, X, y):\n",
    "        self.X = torch.tensor(X, dtype=torch.long)\n",
    "        self.y = torch.tensor(y, dtype=torch.long)\n",
    "\n",
    "    def __len__(self):\n",
    "        return len(self.X)\n",
    "\n",
    "    def __getitem__(self, idx):\n",
    "        return self.X[idx], self.y[idx]\n"
   ]
  },
  {
   "cell_type": "markdown",
   "id": "8bbf31d5-584e-41bf-bcff-c3326f682d8b",
   "metadata": {},
   "source": [
    "# Dataset dan Dataloader"
   ]
  },
  {
   "cell_type": "code",
   "execution_count": 12,
   "id": "5cb945a3-76d2-43d9-9cde-83ab0fc380bd",
   "metadata": {},
   "outputs": [],
   "source": [
    "# Dataloaders\n",
    "train_dataset = SentimentDataset(X_train, y_train)\n",
    "test_dataset = SentimentDataset(X_test, y_test)\n",
    "train_loader = DataLoader(train_dataset, batch_size=64, shuffle=True)\n",
    "test_loader = DataLoader(test_dataset, batch_size=64, shuffle=False)\n"
   ]
  },
  {
   "cell_type": "code",
   "execution_count": 13,
   "id": "ca847d02-a643-4351-a7f7-56feb3151dd1",
   "metadata": {},
   "outputs": [],
   "source": [
    "# GRU Model\n",
    "class GRUSentimentModel(nn.Module):\n",
    "    def __init__(self, vocab_size, embedding_dim, hidden_dim, output_dim):\n",
    "        super(GRUSentimentModel, self).__init__()\n",
    "        self.embedding = nn.Embedding(vocab_size, embedding_dim, padding_idx=0)\n",
    "        self.gru = nn.GRU(embedding_dim, hidden_dim, batch_first=True)\n",
    "        self.fc = nn.Linear(hidden_dim, output_dim)\n",
    "\n",
    "    def forward(self, x):\n",
    "        embedded = self.embedding(x)\n",
    "        _, hidden = self.gru(embedded)\n",
    "        out = self.fc(hidden.squeeze(0))\n",
    "        return out"
   ]
  },
  {
   "cell_type": "markdown",
   "id": "f3c67c12-19ba-46a4-9af3-f17ddc026be0",
   "metadata": {},
   "source": [
    "# Training preparation"
   ]
  },
  {
   "cell_type": "code",
   "execution_count": 14,
   "id": "c1956842-1e62-41ab-96d3-1fd7dab6ae90",
   "metadata": {},
   "outputs": [],
   "source": [
    "# Model initialization\n",
    "vocab_size = len(vocab)\n",
    "embedding_dim = 32\n",
    "hidden_dim = 32\n",
    "output_dim = len(label_encoder.classes_)\n",
    "# dropout = 0.2"
   ]
  },
  {
   "cell_type": "code",
   "execution_count": 15,
   "id": "2bbf0e08-8764-4876-82e0-f439397b8526",
   "metadata": {},
   "outputs": [],
   "source": [
    "model = GRUSentimentModel(vocab_size, embedding_dim, hidden_dim, output_dim).to(device)\n",
    "criterion = nn.CrossEntropyLoss()\n",
    "optimizer = optim.AdamW(model.parameters(), lr=0.0005)\n",
    "callback = Callback(model, outdir=\"model\")"
   ]
  },
  {
   "cell_type": "code",
   "execution_count": 16,
   "id": "c6d2e598-c8cf-4484-bc73-1d9606a49d05",
   "metadata": {},
   "outputs": [],
   "source": [
    "\n",
    "from tqdm.auto import tqdm\n",
    "def loop_fn(mode, dataset, dataloader, model, criterion, optimizer, device):\n",
    "    if mode == \"train\":\n",
    "        model.train()\n",
    "    elif mode == \"test\":\n",
    "        model.eval()\n",
    "    cost = correct = 0\n",
    "    for feature, target in tqdm(dataloader, desc=mode.title()):\n",
    "        feature, target = feature.to(device), target.to(device)\n",
    "        output = model(feature) # feedforward\n",
    "        loss = criterion(output, target)\n",
    "        if mode == \"train\":\n",
    "            loss.backward() # backpropragation\n",
    "            optimizer.step() # update weight\n",
    "            optimizer.zero_grad()\n",
    "        cost += loss.item() * feature.shape[0]\n",
    "        correct += (output.argmax(1) == target).sum().item()\n",
    "    cost = cost / len(dataset)\n",
    "    acc = correct / len(dataset)\n",
    "    return cost, acc"
   ]
  },
  {
   "cell_type": "markdown",
   "id": "9e051e72-da80-4628-8e98-e78f4b7e6979",
   "metadata": {},
   "source": [
    "# Training"
   ]
  },
  {
   "cell_type": "code",
   "execution_count": 17,
   "id": "56e522e0-ef65-47a1-ab97-ce8511f8f238",
   "metadata": {},
   "outputs": [
    {
     "data": {
      "application/vnd.jupyter.widget-view+json": {
       "model_id": "7c152402289e4e639a10f6f9cf982bc6",
       "version_major": 2,
       "version_minor": 0
      },
      "text/plain": [
       "Train:   0%|          | 0/39 [00:00<?, ?it/s]"
      ]
     },
     "metadata": {},
     "output_type": "display_data"
    },
    {
     "data": {
      "application/vnd.jupyter.widget-view+json": {
       "model_id": "376e1d82d6fc4a32bd708d42cca57811",
       "version_major": 2,
       "version_minor": 0
      },
      "text/plain": [
       "Test:   0%|          | 0/10 [00:00<?, ?it/s]"
      ]
     },
     "metadata": {},
     "output_type": "display_data"
    },
    {
     "name": "stdout",
     "output_type": "stream",
     "text": [
      "\n",
      "Epoch     1\n",
      "Train_cost  = 0.6766 | Test_cost  = 0.6241 | Train_score = 0.5853 | Test_score = 0.7480 |\n"
     ]
    },
    {
     "data": {
      "application/vnd.jupyter.widget-view+json": {
       "model_id": "f6720b4ab50740df9acc01495dc2536c",
       "version_major": 2,
       "version_minor": 0
      },
      "text/plain": [
       "Train:   0%|          | 0/39 [00:00<?, ?it/s]"
      ]
     },
     "metadata": {},
     "output_type": "display_data"
    },
    {
     "data": {
      "application/vnd.jupyter.widget-view+json": {
       "model_id": "e0be0f70e51a4f968594f9ee02c06dee",
       "version_major": 2,
       "version_minor": 0
      },
      "text/plain": [
       "Test:   0%|          | 0/10 [00:00<?, ?it/s]"
      ]
     },
     "metadata": {},
     "output_type": "display_data"
    },
    {
     "name": "stdout",
     "output_type": "stream",
     "text": [
      "\n",
      "Epoch     2\n",
      "Train_cost  = 0.5991 | Test_cost  = 0.5617 | Train_score = 0.7371 | Test_score = 0.7480 |\n",
      "\u001b[31m==> EarlyStop patience =  1 | Best test_score: 0.7480\u001b[0m\n"
     ]
    },
    {
     "data": {
      "application/vnd.jupyter.widget-view+json": {
       "model_id": "e569c21b61c44a259c2376a6e6686d4d",
       "version_major": 2,
       "version_minor": 0
      },
      "text/plain": [
       "Train:   0%|          | 0/39 [00:00<?, ?it/s]"
      ]
     },
     "metadata": {},
     "output_type": "display_data"
    },
    {
     "data": {
      "application/vnd.jupyter.widget-view+json": {
       "model_id": "af0f781fcb924d28841e4d89b5ee291b",
       "version_major": 2,
       "version_minor": 0
      },
      "text/plain": [
       "Test:   0%|          | 0/10 [00:00<?, ?it/s]"
      ]
     },
     "metadata": {},
     "output_type": "display_data"
    },
    {
     "name": "stdout",
     "output_type": "stream",
     "text": [
      "\n",
      "Epoch     3\n",
      "Train_cost  = 0.5646 | Test_cost  = 0.5535 | Train_score = 0.7407 | Test_score = 0.7480 |\n",
      "\u001b[31m==> EarlyStop patience =  2 | Best test_score: 0.7480\u001b[0m\n"
     ]
    },
    {
     "data": {
      "application/vnd.jupyter.widget-view+json": {
       "model_id": "28c12fd09d6b40c9b9131ef71578ca80",
       "version_major": 2,
       "version_minor": 0
      },
      "text/plain": [
       "Train:   0%|          | 0/39 [00:00<?, ?it/s]"
      ]
     },
     "metadata": {},
     "output_type": "display_data"
    },
    {
     "data": {
      "application/vnd.jupyter.widget-view+json": {
       "model_id": "f48cf67beb6e4a908184b4c4cad35225",
       "version_major": 2,
       "version_minor": 0
      },
      "text/plain": [
       "Test:   0%|          | 0/10 [00:00<?, ?it/s]"
      ]
     },
     "metadata": {},
     "output_type": "display_data"
    },
    {
     "name": "stdout",
     "output_type": "stream",
     "text": [
      "\n",
      "Epoch     4\n",
      "Train_cost  = 0.5551 | Test_cost  = 0.5495 | Train_score = 0.7407 | Test_score = 0.7496 |\n"
     ]
    },
    {
     "data": {
      "application/vnd.jupyter.widget-view+json": {
       "model_id": "5ad7cd682ff645858c34f787269be934",
       "version_major": 2,
       "version_minor": 0
      },
      "text/plain": [
       "Train:   0%|          | 0/39 [00:00<?, ?it/s]"
      ]
     },
     "metadata": {},
     "output_type": "display_data"
    },
    {
     "data": {
      "application/vnd.jupyter.widget-view+json": {
       "model_id": "ab3cac93b253482685b63c5fc57ffff4",
       "version_major": 2,
       "version_minor": 0
      },
      "text/plain": [
       "Test:   0%|          | 0/10 [00:00<?, ?it/s]"
      ]
     },
     "metadata": {},
     "output_type": "display_data"
    },
    {
     "name": "stdout",
     "output_type": "stream",
     "text": [
      "\n",
      "Epoch     5\n",
      "Train_cost  = 0.5462 | Test_cost  = 0.5457 | Train_score = 0.7416 | Test_score = 0.7463 |\n",
      "\u001b[31m==> EarlyStop patience =  1 | Best test_score: 0.7496\u001b[0m\n"
     ]
    },
    {
     "data": {
      "application/vnd.jupyter.widget-view+json": {
       "model_id": "4fa52383f6ed43cb8b3a9ebb95aaadd5",
       "version_major": 2,
       "version_minor": 0
      },
      "text/plain": [
       "Train:   0%|          | 0/39 [00:00<?, ?it/s]"
      ]
     },
     "metadata": {},
     "output_type": "display_data"
    },
    {
     "data": {
      "application/vnd.jupyter.widget-view+json": {
       "model_id": "af5ef2fdad164db5bac880a36b9364d5",
       "version_major": 2,
       "version_minor": 0
      },
      "text/plain": [
       "Test:   0%|          | 0/10 [00:00<?, ?it/s]"
      ]
     },
     "metadata": {},
     "output_type": "display_data"
    },
    {
     "name": "stdout",
     "output_type": "stream",
     "text": [
      "\n",
      "Epoch     6\n",
      "Train_cost  = 0.5360 | Test_cost  = 0.5406 | Train_score = 0.7432 | Test_score = 0.7528 |\n"
     ]
    },
    {
     "data": {
      "application/vnd.jupyter.widget-view+json": {
       "model_id": "f185e5465a554332853ffed33244699f",
       "version_major": 2,
       "version_minor": 0
      },
      "text/plain": [
       "Train:   0%|          | 0/39 [00:00<?, ?it/s]"
      ]
     },
     "metadata": {},
     "output_type": "display_data"
    },
    {
     "data": {
      "application/vnd.jupyter.widget-view+json": {
       "model_id": "874116ca4b7b40729a4ec1369a77fd10",
       "version_major": 2,
       "version_minor": 0
      },
      "text/plain": [
       "Test:   0%|          | 0/10 [00:00<?, ?it/s]"
      ]
     },
     "metadata": {},
     "output_type": "display_data"
    },
    {
     "name": "stdout",
     "output_type": "stream",
     "text": [
      "\n",
      "Epoch     7\n",
      "Train_cost  = 0.5224 | Test_cost  = 0.5364 | Train_score = 0.7473 | Test_score = 0.7431 |\n",
      "\u001b[31m==> EarlyStop patience =  1 | Best test_score: 0.7528\u001b[0m\n"
     ]
    },
    {
     "data": {
      "application/vnd.jupyter.widget-view+json": {
       "model_id": "62fcff72dec24c96a530287b08a09fd5",
       "version_major": 2,
       "version_minor": 0
      },
      "text/plain": [
       "Train:   0%|          | 0/39 [00:00<?, ?it/s]"
      ]
     },
     "metadata": {},
     "output_type": "display_data"
    },
    {
     "data": {
      "application/vnd.jupyter.widget-view+json": {
       "model_id": "d88ba542c89d4e488a4e49a67d408576",
       "version_major": 2,
       "version_minor": 0
      },
      "text/plain": [
       "Test:   0%|          | 0/10 [00:00<?, ?it/s]"
      ]
     },
     "metadata": {},
     "output_type": "display_data"
    },
    {
     "name": "stdout",
     "output_type": "stream",
     "text": [
      "\n",
      "Epoch     8\n",
      "Train_cost  = 0.5074 | Test_cost  = 0.5332 | Train_score = 0.7550 | Test_score = 0.7463 |\n",
      "\u001b[31m==> EarlyStop patience =  2 | Best test_score: 0.7528\u001b[0m\n"
     ]
    },
    {
     "data": {
      "application/vnd.jupyter.widget-view+json": {
       "model_id": "95bb5cbb24ab4f3897ba17f54e19fd1c",
       "version_major": 2,
       "version_minor": 0
      },
      "text/plain": [
       "Train:   0%|          | 0/39 [00:00<?, ?it/s]"
      ]
     },
     "metadata": {},
     "output_type": "display_data"
    },
    {
     "data": {
      "application/vnd.jupyter.widget-view+json": {
       "model_id": "afbf65c33cfb41a090c247d3c404c2dc",
       "version_major": 2,
       "version_minor": 0
      },
      "text/plain": [
       "Test:   0%|          | 0/10 [00:00<?, ?it/s]"
      ]
     },
     "metadata": {},
     "output_type": "display_data"
    },
    {
     "name": "stdout",
     "output_type": "stream",
     "text": [
      "\n",
      "Epoch     9\n",
      "Train_cost  = 0.4897 | Test_cost  = 0.5304 | Train_score = 0.7619 | Test_score = 0.7285 |\n",
      "\u001b[31m==> EarlyStop patience =  3 | Best test_score: 0.7528\u001b[0m\n"
     ]
    },
    {
     "data": {
      "application/vnd.jupyter.widget-view+json": {
       "model_id": "61b3092263114c919d7e3bdc6406dfc5",
       "version_major": 2,
       "version_minor": 0
      },
      "text/plain": [
       "Train:   0%|          | 0/39 [00:00<?, ?it/s]"
      ]
     },
     "metadata": {},
     "output_type": "display_data"
    },
    {
     "data": {
      "application/vnd.jupyter.widget-view+json": {
       "model_id": "4fb5ca3291eb4f7bbbc5b138dfef8662",
       "version_major": 2,
       "version_minor": 0
      },
      "text/plain": [
       "Test:   0%|          | 0/10 [00:00<?, ?it/s]"
      ]
     },
     "metadata": {},
     "output_type": "display_data"
    },
    {
     "name": "stdout",
     "output_type": "stream",
     "text": [
      "\n",
      "Epoch    10\n",
      "Train_cost  = 0.4692 | Test_cost  = 0.5287 | Train_score = 0.7774 | Test_score = 0.7382 |\n",
      "\u001b[31m==> EarlyStop patience =  4 | Best test_score: 0.7528\u001b[0m\n"
     ]
    },
    {
     "data": {
      "application/vnd.jupyter.widget-view+json": {
       "model_id": "20ad777bfb3f4e77be2ea7fb5bd50734",
       "version_major": 2,
       "version_minor": 0
      },
      "text/plain": [
       "Train:   0%|          | 0/39 [00:00<?, ?it/s]"
      ]
     },
     "metadata": {},
     "output_type": "display_data"
    },
    {
     "data": {
      "application/vnd.jupyter.widget-view+json": {
       "model_id": "5a8e386c20864774872b86bc8ed63b09",
       "version_major": 2,
       "version_minor": 0
      },
      "text/plain": [
       "Test:   0%|          | 0/10 [00:00<?, ?it/s]"
      ]
     },
     "metadata": {},
     "output_type": "display_data"
    },
    {
     "name": "stdout",
     "output_type": "stream",
     "text": [
      "\n",
      "Epoch    11\n",
      "Train_cost  = 0.4497 | Test_cost  = 0.5263 | Train_score = 0.7904 | Test_score = 0.7203 |\n",
      "\u001b[31m==> EarlyStop patience =  5 | Best test_score: 0.7528\u001b[0m\n",
      "\u001b[31m==> Execute Early Stopping at epoch: 11 | Best test_score: 0.7528\u001b[0m\n",
      "\u001b[31m==> Best model is saved at model\u001b[0m\n"
     ]
    },
    {
     "name": "stderr",
     "output_type": "stream",
     "text": [
      "/home/zaens/miniconda3/envs/MachineLearning/lib/python3.12/site-packages/jcopdl/callback/_callback.py:104: FutureWarning: You are using `torch.load` with `weights_only=False` (the current default value), which uses the default pickle module implicitly. It is possible to construct malicious pickle data which will execute arbitrary code during unpickling (See https://github.com/pytorch/pytorch/blob/main/SECURITY.md#untrusted-models for more details). In a future release, the default value for `weights_only` will be flipped to `True`. This limits the functions that could be executed during unpickling. Arbitrary objects will no longer be allowed to be loaded via this mode unless they are explicitly allowlisted by the user via `torch.serialization.add_safe_globals`. We recommend you start setting `weights_only=True` for any use case where you don't have full control of the loaded file. Please open an issue on GitHub for any issues related to this experimental feature.\n",
      "  weights = torch.load(f'{self.outdir}/weights_best.pth', map_location=\"cpu\")\n"
     ]
    },
    {
     "data": {
      "image/png": "[encoded data removed]",
      "text/plain": [
       "<Figure size 800x500 with 1 Axes>"
      ]
     },
     "metadata": {},
     "output_type": "display_data"
    },
    {
     "data": {
      "image/png": "[encoded data removed]",
      "text/plain": [
       "<Figure size 800x500 with 1 Axes>"
      ]
     },
     "metadata": {},
     "output_type": "display_data"
    }
   ],
   "source": [
    "while True:\n",
    "    train_cost, train_score = loop_fn(\"train\", train_dataset, train_loader, model, criterion, optimizer, device)\n",
    "    with torch.no_grad():\n",
    "        test_cost, test_score = loop_fn(\"test\", test_dataset, test_loader, model, criterion, optimizer, device)\n",
    "    # Logging\n",
    "    callback.log(train_cost, test_cost, train_score, test_score)\n",
    "    # Save CheckPoint\n",
    "    callback.save_checkpoint()\n",
    "\n",
    "    # Runtime Plotting\n",
    "    callback.cost_runtime_plotting()\n",
    "    callback.score_runtime_plotting()\n",
    "    # Early Stopping\n",
    "    if callback.early_stopping(model, monitor=\"test_score\"):\n",
    "        callback.plot_cost()\n",
    "        callback.plot_score()\n",
    "        break"
   ]
  },
  {
   "cell_type": "markdown",
   "id": "d8d8a0ed-79ac-4734-9939-ef1f6b4a88e5",
   "metadata": {},
   "source": [
    "# Predict"
   ]
  },
  {
   "cell_type": "code",
   "execution_count": 17,
   "id": "39ec462f-40ca-4e1e-931f-a24ada06984a",
   "metadata": {},
   "outputs": [],
   "source": [
    "feature, target = next(iter(test_loader))\n",
    "feature, target = feature.to(device), target.to(device)"
   ]
  },
  {
   "cell_type": "code",
   "execution_count": 18,
   "id": "098f6839-791b-4eb3-90cd-f034214106e0",
   "metadata": {},
   "outputs": [
    {
     "data": {
      "text/plain": [
       "tensor([1, 1, 1, 1, 1, 1, 1, 1, 1, 1, 1, 1, 1, 1, 1, 1, 1, 0, 0, 1, 1, 1, 1, 1,\n",
       "        1, 1, 1, 1, 1, 1, 1, 1, 1, 1, 1, 1, 1, 1, 1, 1, 1, 1, 1, 1, 1, 1, 1, 1,\n",
       "        0, 1, 1, 1, 0, 1, 1, 1, 1, 1, 1, 1, 1, 1, 1, 1, 1, 1, 1, 1, 1, 1, 1, 1,\n",
       "        1, 1, 1, 1, 1, 1, 1, 1, 1, 1, 1, 1, 1, 1, 0, 1, 1, 1, 1, 1, 1, 1, 1, 1,\n",
       "        1, 0, 1, 1, 1, 1, 1, 1, 1, 1, 1, 1, 1, 1, 1, 1, 1, 1, 1, 1, 1, 1, 1, 1,\n",
       "        1, 1, 1, 1, 1, 1, 1, 1], device='cuda:0')"
      ]
     },
     "execution_count": 18,
     "metadata": {},
     "output_type": "execute_result"
    }
   ],
   "source": [
    "with torch.no_grad():\n",
    "    model.eval()\n",
    "    output = model(feature)\n",
    "    preds = output.argmax(1)\n",
    "preds"
   ]
  },
  {
   "cell_type": "code",
   "execution_count": 16,
   "id": "091cc5ae-1361-4d9f-b756-91a9014788bc",
   "metadata": {},
   "outputs": [
    {
     "name": "stderr",
     "output_type": "stream",
     "text": [
      "/tmp/ipykernel_5602/1323785685.py:1: FutureWarning: You are using `torch.load` with `weights_only=False` (the current default value), which uses the default pickle module implicitly. It is possible to construct malicious pickle data which will execute arbitrary code during unpickling (See https://github.com/pytorch/pytorch/blob/main/SECURITY.md#untrusted-models for more details). In a future release, the default value for `weights_only` will be flipped to `True`. This limits the functions that could be executed during unpickling. Arbitrary objects will no longer be allowed to be loaded via this mode unless they are explicitly allowlisted by the user via `torch.serialization.add_safe_globals`. We recommend you start setting `weights_only=True` for any use case where you don't have full control of the loaded file. Please open an issue on GitHub for any issues related to this experimental feature.\n",
      "  weights = torch.load(\"model/gru/weights_best.pth\", map_location=\"cpu\")\n"
     ]
    },
    {
     "data": {
      "text/plain": [
       "OrderedDict([('rnn.weight_ih_l0',\n",
       "              tensor([[-0.0056,  0.0612, -0.0726,  ..., -0.1048,  0.0796, -0.0560],\n",
       "                      [-0.1030,  0.0686, -0.0845,  ...,  0.0879, -0.1103,  0.0185],\n",
       "                      [-0.0264, -0.0602, -0.0440,  ...,  0.1342, -0.0408, -0.0525],\n",
       "                      ...,\n",
       "                      [ 0.0236,  0.0288,  0.0818,  ...,  0.0051,  0.0539,  0.0180],\n",
       "                      [ 0.0622,  0.0159,  0.0562,  ...,  0.1116,  0.0802, -0.0600],\n",
       "                      [-0.0972, -0.0086, -0.0506,  ...,  0.0220, -0.0039, -0.0051]])),\n",
       "             ('rnn.weight_hh_l0',\n",
       "              tensor([[ 0.1060, -0.1247, -0.0950,  ...,  0.1079, -0.0933, -0.0246],\n",
       "                      [-0.0683, -0.0620,  0.0491,  ...,  0.0582,  0.1096,  0.0062],\n",
       "                      [ 0.1110, -0.0585,  0.0916,  ...,  0.0454,  0.0958, -0.0320],\n",
       "                      ...,\n",
       "                      [ 0.1435,  0.0694,  0.0215,  ...,  0.1129,  0.1488,  0.0094],\n",
       "                      [-0.0742, -0.1170, -0.1209,  ...,  0.0322,  0.0521,  0.0395],\n",
       "                      [ 0.0981,  0.1034,  0.0712,  ...,  0.0787,  0.0858,  0.1463]])),\n",
       "             ('rnn.bias_ih_l0',\n",
       "              tensor([-0.0124, -0.0858,  0.0394, -0.0486,  0.0894, -0.0241, -0.0933,  0.0576,\n",
       "                      -0.0905, -0.0722,  0.0858,  0.1050,  0.0692,  0.1334,  0.1303, -0.0876,\n",
       "                       0.0703, -0.0385, -0.1225, -0.0715, -0.0117,  0.1334,  0.0970, -0.0493,\n",
       "                       0.0196,  0.0914,  0.1270,  0.0260,  0.0152,  0.0920, -0.0159,  0.0692,\n",
       "                      -0.0102,  0.0464, -0.1004,  0.0402,  0.0242,  0.0327,  0.0988,  0.0179,\n",
       "                       0.1149,  0.0476,  0.0061,  0.0490,  0.1038,  0.0082,  0.0235,  0.1336,\n",
       "                      -0.0693, -0.0378,  0.0134,  0.0493, -0.0140,  0.0637,  0.1116,  0.0282,\n",
       "                       0.0449,  0.0776, -0.1054,  0.0762,  0.0389,  0.0649, -0.0602, -0.0710,\n",
       "                      -0.0047, -0.0447, -0.2325, -0.1630, -0.0708, -0.0051, -0.1069,  0.0623,\n",
       "                      -0.2319, -0.1744,  0.0429, -0.2147,  0.0965, -0.0940, -0.1534, -0.0709,\n",
       "                       0.0148, -0.1150, -0.2555, -0.0497, -0.1864, -0.0867, -0.0819, -0.0066,\n",
       "                      -0.0435, -0.0260, -0.2436, -0.0842, -0.2217, -0.1848, -0.0929, -0.0137,\n",
       "                      -0.2296, -0.1889, -0.0392, -0.1104, -0.1553, -0.1497, -0.0662, -0.1479,\n",
       "                      -0.1300, -0.2435, -0.2517, -0.1805, -0.0656, -0.1797, -0.0286, -0.0036,\n",
       "                      -0.1931, -0.0828, -0.1541, -0.1205, -0.1538, -0.0824, -0.1384, -0.0159,\n",
       "                      -0.0740,  0.0065, -0.0241, -0.1600, -0.1809,  0.0318, -0.1827, -0.1975,\n",
       "                       0.0632, -0.0504, -0.1385,  0.0986, -0.1090,  0.1450, -0.1260, -0.1005,\n",
       "                      -0.1182, -0.0460, -0.1096,  0.0121, -0.1206, -0.1305, -0.0566,  0.0067,\n",
       "                       0.0452, -0.0736,  0.0063, -0.0585,  0.1004, -0.0325,  0.1204,  0.0149,\n",
       "                       0.0725, -0.0333, -0.1402,  0.1079, -0.0316, -0.0778, -0.0191,  0.0512,\n",
       "                      -0.0765,  0.0196,  0.0992,  0.0952,  0.0658,  0.1112, -0.1392,  0.1114,\n",
       "                      -0.0834,  0.0287, -0.0492, -0.0917, -0.0353,  0.0951,  0.1157, -0.0278,\n",
       "                       0.0204, -0.1317,  0.1345, -0.0412, -0.0367,  0.0719, -0.0141,  0.0979,\n",
       "                      -0.1148,  0.1180,  0.0168,  0.0079,  0.1090, -0.0623,  0.1214,  0.1156])),\n",
       "             ('rnn.bias_hh_l0',\n",
       "              tensor([ 0.1027, -0.1170, -0.0027, -0.1020,  0.0367,  0.0557,  0.0401,  0.0079,\n",
       "                      -0.1104, -0.0442, -0.0599, -0.1202,  0.0087,  0.0982,  0.0038, -0.0297,\n",
       "                      -0.1057, -0.0709, -0.0734,  0.1206,  0.1024, -0.0131,  0.0624,  0.0291,\n",
       "                       0.0615, -0.0449, -0.0311,  0.1056,  0.1044,  0.0250, -0.0850, -0.0533,\n",
       "                      -0.0386, -0.0753, -0.0294, -0.0846,  0.0572,  0.1246, -0.0230, -0.0337,\n",
       "                      -0.0158, -0.1211, -0.0468,  0.0733, -0.1092,  0.0913,  0.1172, -0.0294,\n",
       "                       0.0210, -0.0360,  0.0216,  0.0880,  0.0523, -0.0086,  0.0306,  0.0467,\n",
       "                       0.0129, -0.0696,  0.1262, -0.0502,  0.0390,  0.1330,  0.0119, -0.0807,\n",
       "                      -0.0872,  0.0760, -0.2373, -0.1795, -0.2109, -0.0754, -0.1397,  0.0918,\n",
       "                      -0.1272, -0.1000,  0.1165, -0.2147,  0.0383, -0.1173, -0.0803,  0.0196,\n",
       "                      -0.0875, -0.1914, -0.1312, -0.1622, -0.2569, -0.0896, -0.1587, -0.0065,\n",
       "                      -0.0450, -0.1122, -0.1629, -0.2005, -0.1606, -0.0137, -0.0372, -0.0032,\n",
       "                      -0.1865, -0.2455, -0.2294, -0.0109, -0.1347, -0.1007, -0.0692, -0.2836,\n",
       "                      -0.1877, -0.1043, -0.0492, -0.1301, -0.0772, -0.0732, -0.0121,  0.0339,\n",
       "                      -0.1446, -0.0768,  0.0082, -0.0660, -0.1077,  0.0079, -0.1782, -0.1094,\n",
       "                      -0.0057,  0.0848, -0.0307, -0.1329, -0.2161, -0.0255, -0.0896, -0.0143,\n",
       "                       0.0512, -0.1177, -0.0290, -0.0667,  0.0705, -0.0102,  0.0446, -0.1370,\n",
       "                       0.0563,  0.1189,  0.0514,  0.0318, -0.1524, -0.0397, -0.1236,  0.0936,\n",
       "                       0.0132, -0.0896, -0.0153,  0.0561, -0.0012, -0.1446,  0.0849,  0.0256,\n",
       "                      -0.0892,  0.0644, -0.0314,  0.0882, -0.0689, -0.0157, -0.0925,  0.0051,\n",
       "                       0.0080, -0.0956,  0.0313,  0.0358,  0.0585,  0.0657, -0.1481,  0.0994,\n",
       "                      -0.1083, -0.0174, -0.0890, -0.0345, -0.0759, -0.1585,  0.1054,  0.0730,\n",
       "                       0.0698,  0.0089,  0.1259, -0.0057, -0.0198,  0.1187,  0.0269,  0.0859,\n",
       "                      -0.0312,  0.0405, -0.1113,  0.0766,  0.0590, -0.0308, -0.0813,  0.0200])),\n",
       "             ('rnn.weight_ih_l1',\n",
       "              tensor([[ 0.0954, -0.0570,  0.0019,  ...,  0.0030, -0.0016, -0.0125],\n",
       "                      [-0.0386,  0.0810, -0.0276,  ...,  0.0436,  0.0868,  0.0390],\n",
       "                      [-0.0071,  0.0109,  0.0453,  ..., -0.0582,  0.0142, -0.0467],\n",
       "                      ...,\n",
       "                      [ 0.1343,  0.0212, -0.0888,  ...,  0.0660, -0.0220,  0.0094],\n",
       "                      [ 0.1533, -0.0479,  0.0552,  ...,  0.0859,  0.1420, -0.0699],\n",
       "                      [-0.0798, -0.0741, -0.1715,  ..., -0.0782, -0.0499,  0.0310]])),\n",
       "             ('rnn.weight_hh_l1',\n",
       "              tensor([[-0.0558, -0.0717,  0.1110,  ...,  0.0334,  0.0745,  0.1143],\n",
       "                      [-0.0107,  0.1099, -0.0919,  ...,  0.1037,  0.0894,  0.1301],\n",
       "                      [ 0.0729,  0.0757,  0.0983,  ...,  0.0564, -0.1024, -0.0924],\n",
       "                      ...,\n",
       "                      [ 0.0694, -0.0851, -0.0426,  ...,  0.0105,  0.1038, -0.0176],\n",
       "                      [-0.1099,  0.1109,  0.1168,  ...,  0.0194,  0.0363, -0.0143],\n",
       "                      [-0.0462,  0.0054, -0.0694,  ..., -0.0022,  0.1075, -0.0091]])),\n",
       "             ('rnn.bias_ih_l1',\n",
       "              tensor([-0.0454, -0.0211,  0.0898,  0.0861,  0.0608, -0.0389, -0.0819, -0.1197,\n",
       "                      -0.0327,  0.0421,  0.1276,  0.0104, -0.0810, -0.0746,  0.0708,  0.0944,\n",
       "                      -0.1031, -0.0314, -0.0867,  0.0060, -0.0830,  0.0830,  0.0448, -0.0198,\n",
       "                       0.0671,  0.0328, -0.1127,  0.0347,  0.0412,  0.0371, -0.0941, -0.1279,\n",
       "                       0.0939,  0.0595, -0.1504,  0.0425,  0.1284, -0.1071, -0.0630, -0.0280,\n",
       "                      -0.1424, -0.0068, -0.0199, -0.0836, -0.0575,  0.0671, -0.0825, -0.1120,\n",
       "                      -0.0883, -0.0037, -0.0474,  0.1283, -0.0102,  0.0579, -0.0021,  0.1243,\n",
       "                       0.0355,  0.0507, -0.0847,  0.0798,  0.0574,  0.0840, -0.0454, -0.1320,\n",
       "                       0.0036, -0.0503, -0.1675, -0.1095, -0.1179, -0.0173, -0.2499, -0.1871,\n",
       "                      -0.1543, -0.1903, -0.0008, -0.0360, -0.1998, -0.0853, -0.1718,  0.1109,\n",
       "                      -0.1219, -0.1223, -0.1877, -0.0673, -0.0370, -0.0797, -0.0172, -0.1912,\n",
       "                      -0.2374, -0.1159, -0.2406, -0.0911,  0.0017, -0.2111, -0.0365, -0.0266,\n",
       "                      -0.0096, -0.0189, -0.1161, -0.0514,  0.0561,  0.0210, -0.1228, -0.1979,\n",
       "                      -0.2093, -0.0176, -0.0669, -0.1048, -0.1118, -0.0784,  0.0081, -0.0376,\n",
       "                      -0.0537,  0.0055, -0.2281, -0.1644, -0.1031, -0.0558, -0.1189, -0.0131,\n",
       "                      -0.0374, -0.2230, -0.2243,  0.0044, -0.1835, -0.0708, -0.0443, -0.1269,\n",
       "                       0.0384, -0.0593, -0.0557,  0.0334, -0.0039,  0.0055,  0.0782, -0.0149,\n",
       "                       0.1278,  0.1242, -0.0672, -0.0014, -0.0647,  0.1139,  0.0924, -0.1228,\n",
       "                      -0.0398, -0.1225,  0.0225, -0.1028,  0.1298,  0.0909, -0.0851,  0.0623,\n",
       "                      -0.0729,  0.0854,  0.0214,  0.0690,  0.0595, -0.0217,  0.0097, -0.0801,\n",
       "                      -0.0398,  0.0587, -0.1203,  0.0186,  0.0397, -0.0518, -0.0767, -0.0594,\n",
       "                      -0.0853, -0.0180,  0.1050,  0.0540,  0.1093, -0.0211, -0.1097,  0.0965,\n",
       "                      -0.1353, -0.0456, -0.0099, -0.0582, -0.1038,  0.1288, -0.0153, -0.0474,\n",
       "                      -0.1049, -0.0468, -0.0251, -0.0587, -0.0514, -0.0883,  0.0984,  0.0075])),\n",
       "             ('rnn.bias_hh_l1',\n",
       "              tensor([ 1.1674e-01, -6.5715e-02,  1.8467e-02,  2.9438e-02, -9.6762e-02,\n",
       "                      -1.0321e-01,  2.3166e-02,  5.2044e-02,  3.2473e-02, -1.1400e-02,\n",
       "                       7.0040e-02, -1.1961e-01, -3.8227e-02, -9.8417e-02, -1.3564e-02,\n",
       "                      -8.2741e-02,  5.7702e-02,  2.3864e-02,  1.3254e-01, -5.4066e-02,\n",
       "                       7.8426e-03, -7.8349e-02,  6.8436e-02, -1.1803e-02,  8.9881e-02,\n",
       "                      -8.7998e-02,  6.7277e-02, -1.0391e-02, -3.9004e-02,  8.7071e-02,\n",
       "                       1.0265e-01, -1.6608e-04,  7.3208e-02, -8.5446e-02, -5.9444e-03,\n",
       "                      -4.9525e-02, -4.5499e-02,  1.6639e-03, -7.3434e-02,  1.3317e-01,\n",
       "                       7.7352e-02, -4.1505e-02, -1.4019e-01,  8.2330e-02, -4.6054e-02,\n",
       "                      -1.7456e-02,  5.6120e-02, -7.2547e-02,  6.5831e-02, -5.5921e-03,\n",
       "                      -1.2637e-01,  8.6390e-02,  1.1875e-01, -7.0174e-03,  1.1541e-01,\n",
       "                      -5.6456e-02, -1.3131e-01, -5.5671e-02,  6.1468e-02,  9.6932e-02,\n",
       "                      -6.0502e-02, -5.1771e-02,  7.7894e-02,  9.0516e-02, -1.4861e-01,\n",
       "                      -1.6998e-01, -2.2513e-01, -2.5128e-01, -2.2958e-03, -2.1954e-01,\n",
       "                      -2.3668e-01, -2.2385e-01, -1.2935e-01,  1.8295e-02, -4.7792e-02,\n",
       "                      -9.8305e-02, -1.0590e-01,  5.7844e-02, -2.1765e-01,  3.5277e-02,\n",
       "                      -1.1610e-01, -1.0580e-01,  2.0013e-02,  1.1262e-01, -1.9630e-01,\n",
       "                      -5.9397e-02, -1.0491e-01, -1.1035e-01, -1.7197e-02, -1.3653e-01,\n",
       "                      -2.8734e-02, -8.1363e-02, -1.4511e-01, -3.4222e-02, -1.6420e-01,\n",
       "                      -2.2548e-01, -1.4970e-01, -1.3339e-01,  5.4828e-02, -6.2948e-02,\n",
       "                      -1.0175e-01, -7.6295e-02, -1.0722e-01, -1.0122e-01, -1.8160e-01,\n",
       "                      -1.1448e-01,  1.0844e-02, -2.5834e-01, -1.5142e-01, -4.7525e-02,\n",
       "                      -2.1319e-01, -1.4080e-01, -7.7382e-03, -1.2092e-01, -1.5765e-01,\n",
       "                      -7.8776e-02, -1.6095e-01, -3.6932e-02, -2.2038e-01, -2.2798e-01,\n",
       "                      -1.4559e-01, -1.6452e-01, -2.1201e-01, -3.5061e-02, -2.0224e-01,\n",
       "                      -2.0782e-01,  1.3316e-02, -2.6606e-02, -9.5671e-02, -6.1934e-02,\n",
       "                      -1.9748e-03, -3.7493e-02,  5.5625e-04, -1.0494e-01, -3.8190e-02,\n",
       "                      -1.1138e-01,  1.3250e-01,  6.8843e-02, -1.4243e-01,  5.4082e-03,\n",
       "                       5.4083e-02,  1.4143e-02, -4.4797e-02,  1.3714e-02,  6.9230e-02,\n",
       "                       1.0361e-01,  9.4246e-02,  4.4144e-02,  3.8221e-02,  6.1402e-02,\n",
       "                       3.6389e-02,  8.0732e-02,  3.3893e-02, -5.9289e-02,  8.6920e-02,\n",
       "                      -3.5331e-02, -8.3114e-03,  1.1219e-01,  3.2184e-02, -1.4876e-02,\n",
       "                      -7.8623e-02, -9.8956e-02,  1.5762e-02, -1.3420e-01, -8.5064e-02,\n",
       "                       1.3624e-01, -1.4789e-02,  7.9934e-02, -5.7700e-02,  8.3571e-02,\n",
       "                       6.6453e-02, -1.0315e-01,  8.6318e-02,  2.5663e-02, -1.1047e-01,\n",
       "                      -5.7979e-02,  5.1037e-02,  8.8383e-02,  5.9205e-02, -6.2629e-02,\n",
       "                      -1.3677e-01,  1.2132e-01,  5.1610e-02, -1.2511e-01,  8.4941e-02,\n",
       "                       4.7031e-02, -9.9050e-02,  3.3168e-03, -1.5694e-02,  8.3649e-02,\n",
       "                       6.2983e-02, -3.6091e-02])),\n",
       "             ('fc.0.weight',\n",
       "              tensor([[-4.5247e-02,  8.9626e-02,  1.0679e-01, -1.6462e-01,  1.1447e-01,\n",
       "                       -1.5882e-01, -1.6563e-01, -1.5814e-01,  7.3371e-02,  9.7237e-02,\n",
       "                       -7.2777e-02, -1.6600e-01,  1.3582e-01,  1.5093e-02,  1.4180e-01,\n",
       "                        1.2472e-04,  6.9929e-02, -1.4631e-01,  1.1740e-01,  7.0538e-03,\n",
       "                        1.2398e-01,  9.0979e-02,  6.4389e-02,  7.4685e-02,  1.4164e-01,\n",
       "                       -7.1359e-02,  1.2447e-01, -9.3872e-02,  1.3990e-01,  1.1798e-01,\n",
       "                        1.4510e-01, -4.7664e-02,  5.9199e-02, -1.1310e-01,  1.3057e-02,\n",
       "                       -1.5742e-01, -5.1305e-03,  7.9286e-02,  9.9994e-02,  4.2222e-02,\n",
       "                        1.4803e-01, -1.7307e-01, -1.0868e-02, -1.4189e-01,  1.6409e-01,\n",
       "                       -1.8108e-01, -1.3906e-01,  1.6188e-01, -1.5105e-01,  6.2875e-02,\n",
       "                        1.5832e-01, -4.3572e-02, -1.6283e-01,  9.5023e-02,  1.2941e-01,\n",
       "                       -1.6509e-01,  8.3918e-02,  8.4205e-02, -6.8278e-02,  1.3718e-01,\n",
       "                       -1.6216e-01,  1.3347e-01,  1.1540e-02,  1.2044e-01]])),\n",
       "             ('fc.0.bias', tensor([-0.0752]))])"
      ]
     },
     "execution_count": 16,
     "metadata": {},
     "output_type": "execute_result"
    }
   ],
   "source": [
    "weights = torch.load(\"model/gru/weights_best.pth\", map_location=\"cpu\")\n",
    "weights"
   ]
  }
 ],
 "metadata": {
  "kernelspec": {
   "display_name": "Python [conda env:MachineLearning] *",
   "language": "python",
   "name": "conda-env-MachineLearning-py"
  },
  "language_info": {
   "codemirror_mode": {
    "name": "ipython",
    "version": 3
   },
   "file_extension": ".py",
   "mimetype": "text/x-python",
   "name": "python",
   "nbconvert_exporter": "python",
   "pygments_lexer": "ipython3",
   "version": "3.12.8"
  }
 },
 "nbformat": 4,
 "nbformat_minor": 5
}
