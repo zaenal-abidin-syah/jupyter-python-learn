{
 "cells": [
  {
   "cell_type": "code",
   "execution_count": 2,
   "id": "53e31091-1373-41e2-a4b8-6b55a681f8e7",
   "metadata": {},
   "outputs": [],
   "source": [
    "import pandas as pd\n",
    "from nltk.tokenize import word_tokenize\n",
    "from nltk.corpus import stopwords\n",
    "from string import punctuation\n",
    "\n",
    "sw_indo = stopwords.words(\"indonesian\") + list(punctuation)"
   ]
  },
  {
   "cell_type": "markdown",
   "id": "c13f98e9-e850-4b12-bdc7-fcc900178fdd",
   "metadata": {},
   "source": [
    "# Import Data"
   ]
  },
  {
   "cell_type": "code",
   "execution_count": 3,
   "id": "2c981665-fa8e-4bc2-804f-d64fa1963d48",
   "metadata": {},
   "outputs": [
    {
     "data": {
      "text/html": [
       "<div>\n",
       "<style scoped>\n",
       "    .dataframe tbody tr th:only-of-type {\n",
       "        vertical-align: middle;\n",
       "    }\n",
       "\n",
       "    .dataframe tbody tr th {\n",
       "        vertical-align: top;\n",
       "    }\n",
       "\n",
       "    .dataframe thead th {\n",
       "        text-align: right;\n",
       "    }\n",
       "</style>\n",
       "<table border=\"1\" class=\"dataframe\">\n",
       "  <thead>\n",
       "    <tr style=\"text-align: right;\">\n",
       "      <th></th>\n",
       "      <th>teks</th>\n",
       "    </tr>\n",
       "  </thead>\n",
       "  <tbody>\n",
       "    <tr>\n",
       "      <th>0</th>\n",
       "      <td>Ginandjar Tetap Ditahan. Jaksa Agung Dilaporka...</td>\n",
       "    </tr>\n",
       "    <tr>\n",
       "      <th>1</th>\n",
       "      <td>Jakarta Dikangkangi Para Preman\\nKALAU tak pun...</td>\n",
       "    </tr>\n",
       "    <tr>\n",
       "      <th>2</th>\n",
       "      <td>Penyimpangan di Setpres Seolah Terjadi Sekaran...</td>\n",
       "    </tr>\n",
       "    <tr>\n",
       "      <th>3</th>\n",
       "      <td>Dibayarkan, Rapel Kenaikan Gaji Pegawai Pos\\nK...</td>\n",
       "    </tr>\n",
       "    <tr>\n",
       "      <th>4</th>\n",
       "      <td>Stop Kekerasan, Elite agar Duduk Bersama\\nSeju...</td>\n",
       "    </tr>\n",
       "  </tbody>\n",
       "</table>\n",
       "</div>"
      ],
      "text/plain": [
       "                                                teks\n",
       "0  Ginandjar Tetap Ditahan. Jaksa Agung Dilaporka...\n",
       "1  Jakarta Dikangkangi Para Preman\\nKALAU tak pun...\n",
       "2  Penyimpangan di Setpres Seolah Terjadi Sekaran...\n",
       "3  Dibayarkan, Rapel Kenaikan Gaji Pegawai Pos\\nK...\n",
       "4  Stop Kekerasan, Elite agar Duduk Bersama\\nSeju..."
      ]
     },
     "execution_count": 3,
     "metadata": {},
     "output_type": "execute_result"
    }
   ],
   "source": [
    "df = pd.read_csv(\"data/kompas.csv\")\n",
    "df.head()"
   ]
  },
  {
   "cell_type": "markdown",
   "id": "ad669009-2bbc-4f46-ba02-4a80d5c17bb3",
   "metadata": {},
   "source": [
    "# Extract TF-IDF"
   ]
  },
  {
   "cell_type": "code",
   "execution_count": 4,
   "id": "a49d569e-8688-471a-842b-dc14733c645b",
   "metadata": {},
   "outputs": [],
   "source": [
    "from sklearn.feature_extraction.text import TfidfVectorizer"
   ]
  },
  {
   "cell_type": "code",
   "execution_count": 5,
   "id": "80836662-4f4f-4186-8dfd-d0b2f004ab4f",
   "metadata": {},
   "outputs": [],
   "source": [
    "tfidf = TfidfVectorizer(ngram_range=(1,2), tokenizer=word_tokenize, stop_words=sw_indo)"
   ]
  },
  {
   "cell_type": "code",
   "execution_count": 6,
   "id": "b464495c-3085-45b5-9eae-38092e395b02",
   "metadata": {},
   "outputs": [
    {
     "name": "stderr",
     "output_type": "stream",
     "text": [
      "/home/zaens/anaconda3/envs/MachineLearning/lib/python3.11/site-packages/sklearn/feature_extraction/text.py:523: UserWarning: The parameter 'token_pattern' will not be used since 'tokenizer' is not None'\n",
      "  warnings.warn(\n",
      "/home/zaens/anaconda3/envs/MachineLearning/lib/python3.11/site-packages/sklearn/feature_extraction/text.py:408: UserWarning: Your stop_words may be inconsistent with your preprocessing. Tokenizing the stop words generated tokens ['``'] not in stop_words.\n",
      "  warnings.warn(\n"
     ]
    }
   ],
   "source": [
    "tfidf_matrix = tfidf.fit_transform(df.teks)"
   ]
  },
  {
   "cell_type": "markdown",
   "id": "f51929f3-fd1d-4e41-977f-43494bcd52a9",
   "metadata": {},
   "source": [
    "# TF-IDF Similarity -> Document Similarity"
   ]
  },
  {
   "cell_type": "code",
   "execution_count": 7,
   "id": "765bf8c2-1517-4275-9b9b-f48d9a5136a9",
   "metadata": {},
   "outputs": [],
   "source": [
    "from sklearn.metrics.pairwise import cosine_similarity"
   ]
  },
  {
   "cell_type": "code",
   "execution_count": 8,
   "id": "14f8ef38-a2b7-4fbe-bbed-a5802f114827",
   "metadata": {},
   "outputs": [
    {
     "data": {
      "text/plain": [
       "array([[1.        , 0.00858328, 0.01060043, ..., 0.00856287, 0.00677808,\n",
       "        0.01513341]])"
      ]
     },
     "execution_count": 8,
     "metadata": {},
     "output_type": "execute_result"
    }
   ],
   "source": [
    "sim = cosine_similarity(tfidf_matrix[0], tfidf_matrix)\n",
    "sim"
   ]
  },
  {
   "cell_type": "code",
   "execution_count": 9,
   "id": "328bef94-b033-4c8b-a0e8-8a77f8a3f660",
   "metadata": {},
   "outputs": [
    {
     "data": {
      "text/plain": [
       "array([[1131,  932, 1593, ...,  215,  144,    0]])"
      ]
     },
     "execution_count": 9,
     "metadata": {},
     "output_type": "execute_result"
    }
   ],
   "source": [
    "sim.argsort()"
   ]
  },
  {
   "cell_type": "code",
   "execution_count": 10,
   "id": "5647e0f4-dfe6-4c6e-bf85-efb049e2e107",
   "metadata": {},
   "outputs": [
    {
     "data": {
      "text/plain": [
       "'Ginandjar Tetap Ditahan. Jaksa Agung Dilaporkan ke Polri\\nKejaksaan Agung memutuskan untuk tetap menahan tersangka kasus korupsi, Ginandjar Kartasasmita, sampai batas waktu yang ditentukan KUHAP. Sedan'"
      ]
     },
     "execution_count": 10,
     "metadata": {},
     "output_type": "execute_result"
    }
   ],
   "source": [
    "df.teks[0][:200]"
   ]
  },
  {
   "cell_type": "code",
   "execution_count": 11,
   "id": "1a73c108-9ae9-480d-b0c0-56f26a789145",
   "metadata": {},
   "outputs": [
    {
     "data": {
      "text/plain": [
       "'Kejaksaan Agung Terbitkan Surat Penahanan Baru\\nKejaksaan Agung (Kejagung) akhirnya menerbitkan surat perintah penahanan yang baru terhadap mantan Menteri Pertambangan dan Energi Ginandjar Kartasasmita'"
      ]
     },
     "execution_count": 11,
     "metadata": {},
     "output_type": "execute_result"
    }
   ],
   "source": [
    "df.teks[144][:200]"
   ]
  },
  {
   "cell_type": "markdown",
   "id": "d3609beb-8c17-497b-a2b1-e2c85ced82f4",
   "metadata": {},
   "source": [
    "# Keyword Extraction"
   ]
  },
  {
   "cell_type": "code",
   "execution_count": 14,
   "id": "257571c2-2ce4-4986-9deb-f4d05895577a",
   "metadata": {},
   "outputs": [
    {
     "data": {
      "text/plain": [
       "array(['zuniga memilih', 'zunnatul', 'zunnatul mafruhah', 'zurich',\n",
       "       'zurich northholt', 'zw', 'zw suparman', 'zw tim', 'zx',\n",
       "       'zx diserbu'], dtype=object)"
      ]
     },
     "execution_count": 14,
     "metadata": {},
     "output_type": "execute_result"
    }
   ],
   "source": [
    "vocab = tfidf.get_feature_names_out()\n",
    "vocab[-10:]"
   ]
  },
  {
   "cell_type": "code",
   "execution_count": 17,
   "id": "e71184f6-b58a-4c2d-8f65-02aa16771811",
   "metadata": {},
   "outputs": [
    {
     "data": {
      "text/plain": [
       "array([[0.02115058, 0.        , 0.        , ..., 0.        , 0.        ,\n",
       "        0.        ]])"
      ]
     },
     "execution_count": 17,
     "metadata": {},
     "output_type": "execute_result"
    }
   ],
   "source": [
    "tfidf_matrix[0].toarray()"
   ]
  },
  {
   "cell_type": "code",
   "execution_count": 18,
   "id": "c6d33788-a386-458e-8f03-251f42821460",
   "metadata": {},
   "outputs": [
    {
     "data": {
      "text/plain": [
       "array([365463, 365455, 365456, ..., 386379, 436652, 169219])"
      ]
     },
     "execution_count": 18,
     "metadata": {},
     "output_type": "execute_result"
    }
   ],
   "source": [
    "sorted_tfidf = tfidf_matrix[0].toarray()[0].argsort()\n",
    "sorted_tfidf"
   ]
  },
  {
   "cell_type": "code",
   "execution_count": 19,
   "id": "adb26988-b9ca-4340-a0e8-a64b1c6c6142",
   "metadata": {},
   "outputs": [
    {
     "data": {
      "text/plain": [
       "'ginandjar'"
      ]
     },
     "execution_count": 19,
     "metadata": {},
     "output_type": "execute_result"
    }
   ],
   "source": [
    "vocab[169219]"
   ]
  },
  {
   "cell_type": "code",
   "execution_count": null,
   "id": "16acabf4-9b77-4bb9-a8bb-1b0de9c96f94",
   "metadata": {},
   "outputs": [],
   "source": []
  },
  {
   "cell_type": "code",
   "execution_count": null,
   "id": "5526b208-c9bf-4123-8a99-9ba4bdcdb859",
   "metadata": {},
   "outputs": [],
   "source": []
  },
  {
   "cell_type": "code",
   "execution_count": null,
   "id": "47cb8ab2-fba7-47bc-a97e-553cb2de77d5",
   "metadata": {},
   "outputs": [],
   "source": []
  },
  {
   "cell_type": "code",
   "execution_count": null,
   "id": "ef230feb-e957-4daa-855d-d363dbef7f1c",
   "metadata": {},
   "outputs": [],
   "source": []
  },
  {
   "cell_type": "code",
   "execution_count": null,
   "id": "4c9ac6a6-0945-4222-aaa5-e1c599089654",
   "metadata": {},
   "outputs": [],
   "source": []
  },
  {
   "cell_type": "code",
   "execution_count": null,
   "id": "487aba14-a0e9-497e-aafe-856f5982b8a3",
   "metadata": {},
   "outputs": [],
   "source": []
  },
  {
   "cell_type": "code",
   "execution_count": null,
   "id": "616fe7ac-fc0d-43c9-b0d1-9665cc128650",
   "metadata": {},
   "outputs": [],
   "source": []
  }
 ],
 "metadata": {
  "kernelspec": {
   "display_name": "Python 3 (ipykernel)",
   "language": "python",
   "name": "python3"
  },
  "language_info": {
   "codemirror_mode": {
    "name": "ipython",
    "version": 3
   },
   "file_extension": ".py",
   "mimetype": "text/x-python",
   "name": "python",
   "nbconvert_exporter": "python",
   "pygments_lexer": "ipython3",
   "version": "3.11.9"
  }
 },
 "nbformat": 4,
 "nbformat_minor": 5
}
